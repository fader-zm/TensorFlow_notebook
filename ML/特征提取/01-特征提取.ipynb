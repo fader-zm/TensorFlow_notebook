{
 "cells": [
  {
   "cell_type": "code",
   "execution_count": 2,
   "metadata": {
    "ExecuteTime": {
     "end_time": "2019-06-23T02:27:14.220461Z",
     "start_time": "2019-06-23T02:27:14.103404Z"
    }
   },
   "outputs": [],
   "source": [
    "# 导入工具包\n",
    "from sklearn.feature_extraction import DictVectorizer\n",
    "from sklearn.feature_extraction.text import CountVectorizer\n",
    "import jieba\n",
    "from sklearn.feature_extraction.text import TfidfVectorizer"
   ]
  },
  {
   "cell_type": "markdown",
   "metadata": {},
   "source": [
    "# 字典特征提取"
   ]
  },
  {
   "cell_type": "code",
   "execution_count": 33,
   "metadata": {
    "ExecuteTime": {
     "end_time": "2019-06-23T02:35:23.970820Z",
     "start_time": "2019-06-23T02:35:23.967644Z"
    }
   },
   "outputs": [],
   "source": [
    "data = [{'city': '北京','temperature':100},\n",
    "{'city': '上海','temperature':60},\n",
    "{'city': '深圳','temperature':30}]"
   ]
  },
  {
   "cell_type": "code",
   "execution_count": 34,
   "metadata": {
    "ExecuteTime": {
     "end_time": "2019-06-23T02:35:24.582013Z",
     "start_time": "2019-06-23T02:35:24.577157Z"
    }
   },
   "outputs": [],
   "source": [
    "# 字典特征提取\n",
    "# 1.实例化转换器\n",
    "# transfer = DictVectorizer(sparse=False)\n",
    "transfer = DictVectorizer(sparse=True)"
   ]
  },
  {
   "cell_type": "code",
   "execution_count": 35,
   "metadata": {
    "ExecuteTime": {
     "end_time": "2019-06-23T02:35:25.836215Z",
     "start_time": "2019-06-23T02:35:25.833988Z"
    }
   },
   "outputs": [],
   "source": [
    "# 2.转换数据  对离散的特征自动进行one_hot编码\n",
    "res = transfer.fit_transform(data)"
   ]
  },
  {
   "cell_type": "code",
   "execution_count": 39,
   "metadata": {
    "ExecuteTime": {
     "end_time": "2019-06-23T02:36:10.173232Z",
     "start_time": "2019-06-23T02:36:10.166966Z"
    }
   },
   "outputs": [
    {
     "data": {
      "text/plain": [
       "array([[  0.,   1.,   0., 100.],\n",
       "       [  1.,   0.,   0.,  60.],\n",
       "       [  0.,   0.,   1.,  30.]])"
      ]
     },
     "execution_count": 39,
     "metadata": {},
     "output_type": "execute_result"
    }
   ],
   "source": [
    "res.toarray()"
   ]
  },
  {
   "cell_type": "code",
   "execution_count": 40,
   "metadata": {
    "ExecuteTime": {
     "end_time": "2019-06-23T02:36:33.132292Z",
     "start_time": "2019-06-23T02:36:33.127557Z"
    }
   },
   "outputs": [
    {
     "data": {
      "text/plain": [
       "['city=上海', 'city=北京', 'city=深圳', 'temperature']"
      ]
     },
     "execution_count": 40,
     "metadata": {},
     "output_type": "execute_result"
    }
   ],
   "source": [
    "# 获取每个特征的名字\n",
    "transfer.get_feature_names()"
   ]
  },
  {
   "cell_type": "code",
   "execution_count": null,
   "metadata": {},
   "outputs": [],
   "source": []
  },
  {
   "cell_type": "code",
   "execution_count": 46,
   "metadata": {
    "ExecuteTime": {
     "end_time": "2019-06-23T02:37:36.655845Z",
     "start_time": "2019-06-23T02:37:36.652862Z"
    }
   },
   "outputs": [],
   "source": [
    "# 字典特征提取\n",
    "# 1.实例化转换器\n",
    "transfer = DictVectorizer(sparse=False)\n",
    "# transfer = DictVectorizer(sparse=True)"
   ]
  },
  {
   "cell_type": "code",
   "execution_count": 47,
   "metadata": {
    "ExecuteTime": {
     "end_time": "2019-06-23T02:37:37.437617Z",
     "start_time": "2019-06-23T02:37:37.433712Z"
    }
   },
   "outputs": [],
   "source": [
    "# 2.转换数据  对离散的特征自动进行one_hot编码\n",
    "res = transfer.fit_transform(data)"
   ]
  },
  {
   "cell_type": "code",
   "execution_count": 48,
   "metadata": {
    "ExecuteTime": {
     "end_time": "2019-06-23T02:37:38.170579Z",
     "start_time": "2019-06-23T02:37:38.166951Z"
    }
   },
   "outputs": [
    {
     "data": {
      "text/plain": [
       "array([[  0.,   1.,   0., 100.],\n",
       "       [  1.,   0.,   0.,  60.],\n",
       "       [  0.,   0.,   1.,  30.]])"
      ]
     },
     "execution_count": 48,
     "metadata": {},
     "output_type": "execute_result"
    }
   ],
   "source": [
    "res"
   ]
  },
  {
   "cell_type": "code",
   "execution_count": 49,
   "metadata": {
    "ExecuteTime": {
     "end_time": "2019-06-23T02:37:39.213605Z",
     "start_time": "2019-06-23T02:37:39.209494Z"
    }
   },
   "outputs": [
    {
     "data": {
      "text/plain": [
       "['city=上海', 'city=北京', 'city=深圳', 'temperature']"
      ]
     },
     "execution_count": 49,
     "metadata": {},
     "output_type": "execute_result"
    }
   ],
   "source": [
    "# 获取每个特征的名字\n",
    "transfer.get_feature_names()"
   ]
  },
  {
   "cell_type": "markdown",
   "metadata": {},
   "source": [
    "# 文本特征提取"
   ]
  },
  {
   "cell_type": "code",
   "execution_count": 21,
   "metadata": {
    "ExecuteTime": {
     "end_time": "2019-06-23T02:32:52.719508Z",
     "start_time": "2019-06-23T02:32:52.716386Z"
    }
   },
   "outputs": [],
   "source": [
    "# 定义分词函数\n",
    "def cut_words(s):\n",
    "    return ' '.join(list(jieba.cut(s)))"
   ]
  },
  {
   "cell_type": "markdown",
   "metadata": {},
   "source": [
    "## 统计词语出现次数"
   ]
  },
  {
   "cell_type": "code",
   "execution_count": 22,
   "metadata": {
    "ExecuteTime": {
     "end_time": "2019-06-23T02:33:30.925427Z",
     "start_time": "2019-06-23T02:33:30.910761Z"
    }
   },
   "outputs": [],
   "source": [
    "data = [\"一种还是一种今天很残酷，明天更残酷，后天很美好，但绝对大部分是死在明天晚上，所以每个人不要放弃今天。Python\",\n",
    "            \"我们看到的从很远星系来的光是在几百万年之前发出的，这样当我们看到宇宙时，我们是在看它的过去。\",\n",
    "            \"如果只用一种方式了解某样事物，你就不会真正了解它。了解事物真正含义的秘密取决于如何将其与我们所了解的事物相联系。\"]"
   ]
  },
  {
   "cell_type": "code",
   "execution_count": 23,
   "metadata": {
    "ExecuteTime": {
     "end_time": "2019-06-23T02:33:32.598562Z",
     "start_time": "2019-06-23T02:33:32.595053Z"
    }
   },
   "outputs": [],
   "source": [
    "# 文本特征提取\n",
    "# 1.实例化转换器\n",
    "transfer = CountVectorizer()"
   ]
  },
  {
   "cell_type": "code",
   "execution_count": 24,
   "metadata": {
    "ExecuteTime": {
     "end_time": "2019-06-23T02:33:43.529301Z",
     "start_time": "2019-06-23T02:33:42.892269Z"
    }
   },
   "outputs": [
    {
     "name": "stderr",
     "output_type": "stream",
     "text": [
      "Building prefix dict from the default dictionary ...\n",
      "Dumping model to file cache /tmp/jieba.cache\n",
      "Loading model cost 0.631 seconds.\n",
      "Prefix dict has been built succesfully.\n"
     ]
    }
   ],
   "source": [
    "# 2.对中文文本进行分词\n",
    "temp = []\n",
    "for s in data:\n",
    "    temp.append(cut_words(s))"
   ]
  },
  {
   "cell_type": "code",
   "execution_count": 25,
   "metadata": {
    "ExecuteTime": {
     "end_time": "2019-06-23T02:33:51.220016Z",
     "start_time": "2019-06-23T02:33:51.217436Z"
    }
   },
   "outputs": [
    {
     "data": {
      "text/plain": [
       "['一种 还是 一种 今天 很 残酷 ， 明天 更 残酷 ， 后天 很 美好 ， 但 绝对 大部分 是 死 在 明天 晚上 ， 所以 每个 人 不要 放弃 今天 。 Python',\n",
       " '我们 看到 的 从 很 远 星系 来 的 光是在 几百万年 之前 发出 的 ， 这样 当 我们 看到 宇宙 时 ， 我们 是 在 看 它 的 过去 。',\n",
       " '如果 只用 一种 方式 了解 某样 事物 ， 你 就 不会 真正 了解 它 。 了解 事物 真正 含义 的 秘密 取决于 如何 将 其 与 我们 所 了解 的 事物 相 联系 。']"
      ]
     },
     "execution_count": 25,
     "metadata": {},
     "output_type": "execute_result"
    }
   ],
   "source": [
    "temp"
   ]
  },
  {
   "cell_type": "code",
   "execution_count": 26,
   "metadata": {
    "ExecuteTime": {
     "end_time": "2019-06-23T02:34:06.031262Z",
     "start_time": "2019-06-23T02:34:06.016192Z"
    }
   },
   "outputs": [],
   "source": [
    "# 3.转换数据  统计文章里每个词语出现的次数\n",
    "res_spase = transfer.fit_transform(temp)  # 返回值是sparse稀疏矩阵"
   ]
  },
  {
   "cell_type": "code",
   "execution_count": 27,
   "metadata": {
    "ExecuteTime": {
     "end_time": "2019-06-23T02:34:10.959010Z",
     "start_time": "2019-06-23T02:34:10.955562Z"
    }
   },
   "outputs": [
    {
     "data": {
      "text/plain": [
       "<3x38 sparse matrix of type '<class 'numpy.int64'>'\n",
       "\twith 40 stored elements in Compressed Sparse Row format>"
      ]
     },
     "execution_count": 27,
     "metadata": {},
     "output_type": "execute_result"
    }
   ],
   "source": [
    "res_spase"
   ]
  },
  {
   "cell_type": "code",
   "execution_count": 28,
   "metadata": {
    "ExecuteTime": {
     "end_time": "2019-06-23T02:34:36.179002Z",
     "start_time": "2019-06-23T02:34:36.172337Z"
    }
   },
   "outputs": [
    {
     "data": {
      "text/plain": [
       "array([[1, 2, 0, 1, 0, 0, 0, 2, 0, 0, 0, 0, 0, 1, 0, 1, 0, 0, 0, 0, 1, 1,\n",
       "        0, 2, 0, 1, 0, 2, 1, 0, 0, 0, 1, 1, 0, 0, 1, 0],\n",
       "       [0, 0, 0, 0, 1, 0, 0, 0, 1, 1, 1, 0, 0, 0, 0, 0, 0, 0, 1, 3, 0, 0,\n",
       "        0, 0, 1, 0, 0, 0, 0, 2, 0, 0, 0, 0, 0, 1, 0, 1],\n",
       "       [0, 1, 1, 0, 0, 4, 3, 0, 0, 0, 0, 1, 1, 0, 1, 0, 1, 1, 0, 1, 0, 0,\n",
       "        1, 0, 0, 0, 1, 0, 0, 0, 2, 1, 0, 0, 1, 0, 0, 0]])"
      ]
     },
     "execution_count": 28,
     "metadata": {},
     "output_type": "execute_result"
    }
   ],
   "source": [
    "# 转换成ndarray\n",
    "res_spase.toarray()"
   ]
  },
  {
   "cell_type": "code",
   "execution_count": 29,
   "metadata": {
    "ExecuteTime": {
     "end_time": "2019-06-23T02:34:49.460406Z",
     "start_time": "2019-06-23T02:34:49.456636Z"
    }
   },
   "outputs": [
    {
     "data": {
      "text/plain": [
       "['python',\n",
       " '一种',\n",
       " '不会',\n",
       " '不要',\n",
       " '之前',\n",
       " '了解',\n",
       " '事物',\n",
       " '今天',\n",
       " '光是在',\n",
       " '几百万年',\n",
       " '发出',\n",
       " '取决于',\n",
       " '只用',\n",
       " '后天',\n",
       " '含义',\n",
       " '大部分',\n",
       " '如何',\n",
       " '如果',\n",
       " '宇宙',\n",
       " '我们',\n",
       " '所以',\n",
       " '放弃',\n",
       " '方式',\n",
       " '明天',\n",
       " '星系',\n",
       " '晚上',\n",
       " '某样',\n",
       " '残酷',\n",
       " '每个',\n",
       " '看到',\n",
       " '真正',\n",
       " '秘密',\n",
       " '绝对',\n",
       " '美好',\n",
       " '联系',\n",
       " '过去',\n",
       " '还是',\n",
       " '这样']"
      ]
     },
     "execution_count": 29,
     "metadata": {},
     "output_type": "execute_result"
    }
   ],
   "source": [
    "# 获取每一列对应名字（词语）\n",
    "transfer.get_feature_names()"
   ]
  },
  {
   "cell_type": "markdown",
   "metadata": {},
   "source": [
    "## TF_IDF的计算"
   ]
  },
  {
   "cell_type": "code",
   "execution_count": 50,
   "metadata": {
    "ExecuteTime": {
     "end_time": "2019-06-23T02:39:46.074692Z",
     "start_time": "2019-06-23T02:39:46.068568Z"
    }
   },
   "outputs": [],
   "source": [
    "data = [\"一种还是一种今天很残酷，明天更残酷，后天很美好，但绝对大部分是死在明天晚上，所以每个人不要放弃今天。Python\",\n",
    "            \"我们看到的从很远星系来的光是在几百万年之前发出的，这样当我们看到宇宙时，我们是在看它的过去。\",\n",
    "            \"如果只用一种方式了解某样事物，你就不会真正了解它。了解事物真正含义的秘密取决于如何将其与我们所了解的事物相联系。\"]"
   ]
  },
  {
   "cell_type": "code",
   "execution_count": 51,
   "metadata": {
    "ExecuteTime": {
     "end_time": "2019-06-23T02:39:48.311227Z",
     "start_time": "2019-06-23T02:39:48.307321Z"
    }
   },
   "outputs": [],
   "source": [
    "# 文本特征提取\n",
    "# 1.实例化转换器\n",
    "transfer = TfidfVectorizer(stop_words=['明天', '一种']) "
   ]
  },
  {
   "cell_type": "code",
   "execution_count": 52,
   "metadata": {
    "ExecuteTime": {
     "end_time": "2019-06-23T02:39:56.025965Z",
     "start_time": "2019-06-23T02:39:56.021439Z"
    }
   },
   "outputs": [],
   "source": [
    "# 2.对中文文本进行分词\n",
    "temp = []\n",
    "for s in data:\n",
    "    temp.append(cut_words(s))"
   ]
  },
  {
   "cell_type": "code",
   "execution_count": 53,
   "metadata": {
    "ExecuteTime": {
     "end_time": "2019-06-23T02:40:11.115973Z",
     "start_time": "2019-06-23T02:40:11.094557Z"
    }
   },
   "outputs": [],
   "source": [
    "# 3.转换数据  统计文章里每个词语出现的次数\n",
    "res_spase = transfer.fit_transform(temp)  # 返回值是sparse稀疏矩阵"
   ]
  },
  {
   "cell_type": "code",
   "execution_count": 54,
   "metadata": {
    "ExecuteTime": {
     "end_time": "2019-06-23T02:40:24.215635Z",
     "start_time": "2019-06-23T02:40:24.211862Z"
    }
   },
   "outputs": [
    {
     "data": {
      "text/plain": [
       "<3x36 sparse matrix of type '<class 'numpy.float64'>'\n",
       "\twith 37 stored elements in Compressed Sparse Row format>"
      ]
     },
     "execution_count": 54,
     "metadata": {},
     "output_type": "execute_result"
    }
   ],
   "source": [
    "res_spase"
   ]
  },
  {
   "cell_type": "code",
   "execution_count": 55,
   "metadata": {
    "ExecuteTime": {
     "end_time": "2019-06-23T02:40:38.132001Z",
     "start_time": "2019-06-23T02:40:38.128353Z"
    }
   },
   "outputs": [
    {
     "data": {
      "text/plain": [
       "array([[0.22941573, 0.        , 0.22941573, 0.        , 0.        ,\n",
       "        0.        , 0.45883147, 0.        , 0.        , 0.        ,\n",
       "        0.        , 0.        , 0.22941573, 0.        , 0.22941573,\n",
       "        0.        , 0.        , 0.        , 0.        , 0.22941573,\n",
       "        0.22941573, 0.        , 0.        , 0.22941573, 0.        ,\n",
       "        0.45883147, 0.22941573, 0.        , 0.        , 0.        ,\n",
       "        0.22941573, 0.22941573, 0.        , 0.        , 0.22941573,\n",
       "        0.        ],\n",
       "       [0.        , 0.        , 0.        , 0.2410822 , 0.        ,\n",
       "        0.        , 0.        , 0.2410822 , 0.2410822 , 0.2410822 ,\n",
       "        0.        , 0.        , 0.        , 0.        , 0.        ,\n",
       "        0.        , 0.        , 0.2410822 , 0.55004769, 0.        ,\n",
       "        0.        , 0.        , 0.2410822 , 0.        , 0.        ,\n",
       "        0.        , 0.        , 0.48216441, 0.        , 0.        ,\n",
       "        0.        , 0.        , 0.        , 0.2410822 , 0.        ,\n",
       "        0.2410822 ],\n",
       "       [0.        , 0.15895379, 0.        , 0.        , 0.63581516,\n",
       "        0.47686137, 0.        , 0.        , 0.        , 0.        ,\n",
       "        0.15895379, 0.15895379, 0.        , 0.15895379, 0.        ,\n",
       "        0.15895379, 0.15895379, 0.        , 0.12088845, 0.        ,\n",
       "        0.        , 0.15895379, 0.        , 0.        , 0.15895379,\n",
       "        0.        , 0.        , 0.        , 0.31790758, 0.15895379,\n",
       "        0.        , 0.        , 0.15895379, 0.        , 0.        ,\n",
       "        0.        ]])"
      ]
     },
     "execution_count": 55,
     "metadata": {},
     "output_type": "execute_result"
    }
   ],
   "source": [
    "# 转换成ndarray\n",
    "res_spase.toarray()"
   ]
  },
  {
   "cell_type": "code",
   "execution_count": 56,
   "metadata": {
    "ExecuteTime": {
     "end_time": "2019-06-23T02:40:49.276380Z",
     "start_time": "2019-06-23T02:40:49.272433Z"
    }
   },
   "outputs": [
    {
     "data": {
      "text/plain": [
       "['python',\n",
       " '不会',\n",
       " '不要',\n",
       " '之前',\n",
       " '了解',\n",
       " '事物',\n",
       " '今天',\n",
       " '光是在',\n",
       " '几百万年',\n",
       " '发出',\n",
       " '取决于',\n",
       " '只用',\n",
       " '后天',\n",
       " '含义',\n",
       " '大部分',\n",
       " '如何',\n",
       " '如果',\n",
       " '宇宙',\n",
       " '我们',\n",
       " '所以',\n",
       " '放弃',\n",
       " '方式',\n",
       " '星系',\n",
       " '晚上',\n",
       " '某样',\n",
       " '残酷',\n",
       " '每个',\n",
       " '看到',\n",
       " '真正',\n",
       " '秘密',\n",
       " '绝对',\n",
       " '美好',\n",
       " '联系',\n",
       " '过去',\n",
       " '还是',\n",
       " '这样']"
      ]
     },
     "execution_count": 56,
     "metadata": {},
     "output_type": "execute_result"
    }
   ],
   "source": [
    "# 获取每一列对应名字（词语）\n",
    "transfer.get_feature_names()"
   ]
  },
  {
   "cell_type": "code",
   "execution_count": null,
   "metadata": {},
   "outputs": [],
   "source": []
  }
 ],
 "metadata": {
  "kernelspec": {
   "display_name": "Python 3",
   "language": "python",
   "name": "python3"
  },
  "language_info": {
   "codemirror_mode": {
    "name": "ipython",
    "version": 3
   },
   "file_extension": ".py",
   "mimetype": "text/x-python",
   "name": "python",
   "nbconvert_exporter": "python",
   "pygments_lexer": "ipython3",
   "version": "3.6.8"
  },
  "toc": {
   "base_numbering": 1,
   "nav_menu": {},
   "number_sections": true,
   "sideBar": true,
   "skip_h1_title": false,
   "title_cell": "Table of Contents",
   "title_sidebar": "Contents",
   "toc_cell": false,
   "toc_position": {},
   "toc_section_display": true,
   "toc_window_display": false
  },
  "varInspector": {
   "cols": {
    "lenName": 16,
    "lenType": 16,
    "lenVar": 40
   },
   "kernels_config": {
    "python": {
     "delete_cmd_postfix": "",
     "delete_cmd_prefix": "del ",
     "library": "var_list.py",
     "varRefreshCmd": "print(var_dic_list())"
    },
    "r": {
     "delete_cmd_postfix": ") ",
     "delete_cmd_prefix": "rm(",
     "library": "var_list.r",
     "varRefreshCmd": "cat(var_dic_list()) "
    }
   },
   "types_to_exclude": [
    "module",
    "function",
    "builtin_function_or_method",
    "instance",
    "_Feature"
   ],
   "window_display": false
  }
 },
 "nbformat": 4,
 "nbformat_minor": 2
}
