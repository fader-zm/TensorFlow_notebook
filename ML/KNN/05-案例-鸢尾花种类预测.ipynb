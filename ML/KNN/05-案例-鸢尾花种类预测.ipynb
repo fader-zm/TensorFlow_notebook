{
 "cells": [
  {
   "cell_type": "code",
   "execution_count": 1,
   "metadata": {
    "ExecuteTime": {
     "end_time": "2019-06-22T02:49:18.193692Z",
     "start_time": "2019-06-22T02:49:17.949214Z"
    }
   },
   "outputs": [],
   "source": [
    "from sklearn.preprocessing import StandardScaler\n",
    "from sklearn.datasets import load_iris\n",
    "from sklearn.model_selection import train_test_split\n",
    "from sklearn.neighbors import KNeighborsClassifier\n",
    "from sklearn.model_selection import GridSearchCV"
   ]
  },
  {
   "cell_type": "code",
   "execution_count": 2,
   "metadata": {
    "ExecuteTime": {
     "end_time": "2019-06-22T02:52:14.951543Z",
     "start_time": "2019-06-22T02:52:14.946645Z"
    }
   },
   "outputs": [],
   "source": [
    "# 1.获取数据  load_iris()\n",
    "\n",
    "# 2.数据基本处理  数据集的划分\n",
    "\n",
    "# 3.特征工程  标准化\n",
    "\n",
    "# 4.机器学习  k近邻算法建模\n",
    "# 4.1 建立模型\n",
    "# 4.2 训练模型\n",
    "\n",
    "# 5.模型评估 分类模型  准确率"
   ]
  },
  {
   "cell_type": "code",
   "execution_count": 3,
   "metadata": {
    "ExecuteTime": {
     "end_time": "2019-06-22T02:52:20.131110Z",
     "start_time": "2019-06-22T02:52:20.125481Z"
    }
   },
   "outputs": [],
   "source": [
    "# 1.获取数据  load_iris()\n",
    "iris = load_iris()"
   ]
  },
  {
   "cell_type": "code",
   "execution_count": 4,
   "metadata": {
    "ExecuteTime": {
     "end_time": "2019-06-22T02:52:26.487123Z",
     "start_time": "2019-06-22T02:52:26.479450Z"
    }
   },
   "outputs": [],
   "source": [
    "# 2.数据基本处理  数据集的划分\n",
    "# 第一个参数特征值，第二个参数是目标值，test_size测试集的比例\n",
    "x_train, x_test, y_train, y_test = train_test_split(iris.data, iris.target, test_size=0.2)  "
   ]
  },
  {
   "cell_type": "code",
   "execution_count": 5,
   "metadata": {
    "ExecuteTime": {
     "end_time": "2019-06-22T02:53:12.059900Z",
     "start_time": "2019-06-22T02:53:12.049851Z"
    }
   },
   "outputs": [],
   "source": [
    "# 3.特征工程  标准化\n",
    "# 3.1 初始化转化器\n",
    "transfer = StandardScaler()"
   ]
  },
  {
   "cell_type": "code",
   "execution_count": 6,
   "metadata": {
    "ExecuteTime": {
     "end_time": "2019-06-22T02:53:28.862473Z",
     "start_time": "2019-06-22T02:53:28.859130Z"
    }
   },
   "outputs": [],
   "source": [
    "# 3.2 转换数据\n",
    "x_train = transfer.fit_transform(x_train)  # 这一步之后transfer保存有mean, std\n",
    "x_test = transfer.transform(x_test)"
   ]
  },
  {
   "cell_type": "code",
   "execution_count": 7,
   "metadata": {
    "ExecuteTime": {
     "end_time": "2019-06-22T02:53:40.106238Z",
     "start_time": "2019-06-22T02:53:40.103013Z"
    }
   },
   "outputs": [],
   "source": [
    "# 4.机器学习  k近邻算法建模\n",
    "# 4.1 建立模型 估计器\n",
    "estimator = KNeighborsClassifier(n_neighbors=3, algorithm='kd_tree') # n_neighbors K值， algorithm算法，可以指定优化计算的方法"
   ]
  },
  {
   "cell_type": "code",
   "execution_count": 8,
   "metadata": {
    "ExecuteTime": {
     "end_time": "2019-06-22T02:53:50.601872Z",
     "start_time": "2019-06-22T02:53:50.586964Z"
    }
   },
   "outputs": [
    {
     "data": {
      "text/plain": [
       "KNeighborsClassifier(algorithm='kd_tree', leaf_size=30, metric='minkowski',\n",
       "           metric_params=None, n_jobs=1, n_neighbors=3, p=2,\n",
       "           weights='uniform')"
      ]
     },
     "execution_count": 8,
     "metadata": {},
     "output_type": "execute_result"
    }
   ],
   "source": [
    "# 4.2 训练模型\n",
    "estimator.fit(x_train, y_train)  # 第一个参数训练的特征值，第二个参数训练的目标值"
   ]
  },
  {
   "cell_type": "code",
   "execution_count": 9,
   "metadata": {
    "ExecuteTime": {
     "end_time": "2019-06-22T02:53:59.488352Z",
     "start_time": "2019-06-22T02:53:59.482547Z"
    }
   },
   "outputs": [
    {
     "data": {
      "text/plain": [
       "0.9333333333333333"
      ]
     },
     "execution_count": 9,
     "metadata": {},
     "output_type": "execute_result"
    }
   ],
   "source": [
    "# 5.模型评估 分类模型  准确率\n",
    "estimator.score(x_test, y_test) # 第一个参数测试数据的特征值，第二个参数是测试数据的目标（真实值）"
   ]
  },
  {
   "cell_type": "code",
   "execution_count": 10,
   "metadata": {
    "ExecuteTime": {
     "end_time": "2019-06-22T02:54:10.879172Z",
     "start_time": "2019-06-22T02:54:10.868315Z"
    }
   },
   "outputs": [],
   "source": [
    "# 获取预测值\n",
    "y_pred = estimator.predict(x_test) # 参数：测试数据的特征值"
   ]
  },
  {
   "cell_type": "code",
   "execution_count": 11,
   "metadata": {
    "ExecuteTime": {
     "end_time": "2019-06-22T02:54:16.796504Z",
     "start_time": "2019-06-22T02:54:16.792238Z"
    }
   },
   "outputs": [
    {
     "data": {
      "text/plain": [
       "array([ True, False, False,  True,  True,  True,  True,  True,  True,\n",
       "        True,  True,  True,  True,  True,  True,  True,  True,  True,\n",
       "        True,  True,  True,  True,  True,  True,  True,  True,  True,\n",
       "        True,  True,  True])"
      ]
     },
     "execution_count": 11,
     "metadata": {},
     "output_type": "execute_result"
    }
   ],
   "source": [
    "y_pred == y_test"
   ]
  },
  {
   "cell_type": "markdown",
   "metadata": {},
   "source": [
    "# 交叉验证, 网格搜索"
   ]
  },
  {
   "cell_type": "code",
   "execution_count": 12,
   "metadata": {
    "ExecuteTime": {
     "end_time": "2019-06-22T03:00:14.725060Z",
     "start_time": "2019-06-22T03:00:14.721549Z"
    }
   },
   "outputs": [],
   "source": [
    "# 1.获取数据  load_iris()\n",
    "iris = load_iris()"
   ]
  },
  {
   "cell_type": "code",
   "execution_count": 13,
   "metadata": {
    "ExecuteTime": {
     "end_time": "2019-06-22T03:00:21.175813Z",
     "start_time": "2019-06-22T03:00:21.167918Z"
    }
   },
   "outputs": [],
   "source": [
    "# 2.数据基本处理  数据集的划分\n",
    "# 第一个参数特征值，第二个参数是目标值，test_size测试集的比例\n",
    "x_train, x_test, y_train, y_test = train_test_split(iris.data, iris.target, test_size=0.2)  "
   ]
  },
  {
   "cell_type": "code",
   "execution_count": 14,
   "metadata": {
    "ExecuteTime": {
     "end_time": "2019-06-22T03:00:29.316751Z",
     "start_time": "2019-06-22T03:00:29.314261Z"
    }
   },
   "outputs": [],
   "source": [
    "# 3.特征工程  标准化\n",
    "# 3.1 初始化转化器\n",
    "transfer = StandardScaler()\n",
    "# 3.2 转换数据\n",
    "x_train = transfer.fit_transform(x_train)  # 这一步之后transfer保存有mean, std\n",
    "x_test = transfer.transform(x_test)"
   ]
  },
  {
   "cell_type": "code",
   "execution_count": 15,
   "metadata": {
    "ExecuteTime": {
     "end_time": "2019-06-22T03:00:37.195355Z",
     "start_time": "2019-06-22T03:00:37.190327Z"
    }
   },
   "outputs": [],
   "source": [
    "# 4.机器学习  k近邻算法建模\n",
    "# 4.1 建立模型 估计器\n",
    "# estimator = KNeighborsClassifier(n_neighbors=3, algorithm='kd_tree') # n_neighbors K值， algorithm算法，可以指定优化计算的方法\n",
    "estimator = KNeighborsClassifier()"
   ]
  },
  {
   "cell_type": "code",
   "execution_count": 16,
   "metadata": {
    "ExecuteTime": {
     "end_time": "2019-06-22T03:00:44.897399Z",
     "start_time": "2019-06-22T03:00:44.894669Z"
    }
   },
   "outputs": [],
   "source": [
    "# 交叉验证和网格搜索"
   ]
  },
  {
   "cell_type": "code",
   "execution_count": 17,
   "metadata": {
    "ExecuteTime": {
     "end_time": "2019-06-22T03:00:51.778766Z",
     "start_time": "2019-06-22T03:00:51.773708Z"
    }
   },
   "outputs": [],
   "source": [
    "# 1.构建参数字典\n",
    "param_dict = {'n_neighbors':[1,3,5,7,9]}"
   ]
  },
  {
   "cell_type": "code",
   "execution_count": 18,
   "metadata": {
    "ExecuteTime": {
     "end_time": "2019-06-22T03:01:05.548297Z",
     "start_time": "2019-06-22T03:01:05.541484Z"
    }
   },
   "outputs": [],
   "source": [
    "# 2.实例化GSCV  估计器\n",
    "# 参数：estimator 估计器， param_grid:参数字典， cv 几折交叉验证\n",
    "estimator_gscv = GridSearchCV(estimator=estimator, param_grid=param_dict, cv=2)"
   ]
  },
  {
   "cell_type": "code",
   "execution_count": 19,
   "metadata": {
    "ExecuteTime": {
     "end_time": "2019-06-22T03:01:26.285253Z",
     "start_time": "2019-06-22T03:01:26.236955Z"
    }
   },
   "outputs": [
    {
     "data": {
      "text/plain": [
       "GridSearchCV(cv=2, error_score='raise',\n",
       "       estimator=KNeighborsClassifier(algorithm='auto', leaf_size=30, metric='minkowski',\n",
       "           metric_params=None, n_jobs=1, n_neighbors=5, p=2,\n",
       "           weights='uniform'),\n",
       "       fit_params=None, iid=True, n_jobs=1,\n",
       "       param_grid={'n_neighbors': [1, 3, 5, 7, 9]},\n",
       "       pre_dispatch='2*n_jobs', refit=True, return_train_score='warn',\n",
       "       scoring=None, verbose=0)"
      ]
     },
     "execution_count": 19,
     "metadata": {},
     "output_type": "execute_result"
    }
   ],
   "source": [
    "# 4.2 训练模型\n",
    "estimator_gscv.fit(x_train, y_train)  # 第一个参数训练的特征值，第二个参数训练的目标值"
   ]
  },
  {
   "cell_type": "code",
   "execution_count": 20,
   "metadata": {
    "ExecuteTime": {
     "end_time": "2019-06-22T03:01:41.540853Z",
     "start_time": "2019-06-22T03:01:41.535163Z"
    }
   },
   "outputs": [
    {
     "data": {
      "text/plain": [
       "0.8666666666666667"
      ]
     },
     "execution_count": 20,
     "metadata": {},
     "output_type": "execute_result"
    }
   ],
   "source": [
    "# 5.模型评估 分类模型  最优模型准确率\n",
    "estimator_gscv.score(x_test, y_test) # 第一个参数测试数据的特征值，第二个参数是测试数据的目标（真实值）"
   ]
  },
  {
   "cell_type": "code",
   "execution_count": 21,
   "metadata": {
    "ExecuteTime": {
     "end_time": "2019-06-22T03:01:51.079026Z",
     "start_time": "2019-06-22T03:01:51.074911Z"
    }
   },
   "outputs": [],
   "source": [
    "# 获取预测值  最优模型的预测\n",
    "y_pred = estimator_gscv.predict(x_test) # 参数：测试数据的特征值"
   ]
  },
  {
   "cell_type": "code",
   "execution_count": 22,
   "metadata": {
    "ExecuteTime": {
     "end_time": "2019-06-22T03:01:57.126716Z",
     "start_time": "2019-06-22T03:01:57.123759Z"
    }
   },
   "outputs": [
    {
     "data": {
      "text/plain": [
       "array([2, 2, 0, 1, 1, 1, 1, 1, 1, 1, 1, 1, 1, 0, 2, 2, 2, 1, 1, 0, 0, 1,\n",
       "       1, 0, 2, 0, 2, 1, 2, 2])"
      ]
     },
     "execution_count": 22,
     "metadata": {},
     "output_type": "execute_result"
    }
   ],
   "source": [
    "y_pred"
   ]
  },
  {
   "cell_type": "code",
   "execution_count": 23,
   "metadata": {
    "ExecuteTime": {
     "end_time": "2019-06-22T03:02:06.979119Z",
     "start_time": "2019-06-22T03:02:06.972731Z"
    }
   },
   "outputs": [
    {
     "data": {
      "text/plain": [
       "KNeighborsClassifier(algorithm='auto', leaf_size=30, metric='minkowski',\n",
       "           metric_params=None, n_jobs=1, n_neighbors=9, p=2,\n",
       "           weights='uniform')"
      ]
     },
     "execution_count": 23,
     "metadata": {},
     "output_type": "execute_result"
    }
   ],
   "source": [
    "# 获取最优模型\n",
    "estimator_gscv.best_estimator_"
   ]
  },
  {
   "cell_type": "code",
   "execution_count": 24,
   "metadata": {
    "ExecuteTime": {
     "end_time": "2019-06-22T03:02:14.426906Z",
     "start_time": "2019-06-22T03:02:14.424340Z"
    }
   },
   "outputs": [
    {
     "data": {
      "text/plain": [
       "{'n_neighbors': 9}"
      ]
     },
     "execution_count": 24,
     "metadata": {},
     "output_type": "execute_result"
    }
   ],
   "source": [
    "# 获取最优超参数\n",
    "estimator_gscv.best_params_"
   ]
  },
  {
   "cell_type": "code",
   "execution_count": 25,
   "metadata": {
    "ExecuteTime": {
     "end_time": "2019-06-22T03:02:20.442255Z",
     "start_time": "2019-06-22T03:02:20.423157Z"
    }
   },
   "outputs": [
    {
     "name": "stderr",
     "output_type": "stream",
     "text": [
      "/home/python/.virtualenvs/tensorflow/lib/python3.6/site-packages/sklearn/utils/deprecation.py:122: FutureWarning: You are accessing a training score ('split0_train_score'), which will not be available by default any more in 0.21. If you need training scores, please set return_train_score=True\n",
      "  warnings.warn(*warn_args, **warn_kwargs)\n",
      "/home/python/.virtualenvs/tensorflow/lib/python3.6/site-packages/sklearn/utils/deprecation.py:122: FutureWarning: You are accessing a training score ('split1_train_score'), which will not be available by default any more in 0.21. If you need training scores, please set return_train_score=True\n",
      "  warnings.warn(*warn_args, **warn_kwargs)\n",
      "/home/python/.virtualenvs/tensorflow/lib/python3.6/site-packages/sklearn/utils/deprecation.py:122: FutureWarning: You are accessing a training score ('mean_train_score'), which will not be available by default any more in 0.21. If you need training scores, please set return_train_score=True\n",
      "  warnings.warn(*warn_args, **warn_kwargs)\n",
      "/home/python/.virtualenvs/tensorflow/lib/python3.6/site-packages/sklearn/utils/deprecation.py:122: FutureWarning: You are accessing a training score ('std_train_score'), which will not be available by default any more in 0.21. If you need training scores, please set return_train_score=True\n",
      "  warnings.warn(*warn_args, **warn_kwargs)\n"
     ]
    },
    {
     "data": {
      "text/plain": [
       "{'mean_fit_time': array([0.0003252 , 0.0005517 , 0.00056875, 0.00022924, 0.00047433]),\n",
       " 'std_fit_time': array([9.84668732e-05, 3.35454941e-04, 3.46541405e-04, 1.34706497e-05,\n",
       "        2.43544579e-04]),\n",
       " 'mean_score_time': array([0.00136852, 0.00164819, 0.00154805, 0.00139928, 0.00139046]),\n",
       " 'std_score_time': array([1.18017197e-04, 3.67641449e-04, 1.00135803e-04, 1.04665756e-04,\n",
       "        3.31401825e-05]),\n",
       " 'param_n_neighbors': masked_array(data=[1, 3, 5, 7, 9],\n",
       "              mask=[False, False, False, False, False],\n",
       "        fill_value='?',\n",
       "             dtype=object),\n",
       " 'params': [{'n_neighbors': 1},\n",
       "  {'n_neighbors': 3},\n",
       "  {'n_neighbors': 5},\n",
       "  {'n_neighbors': 7},\n",
       "  {'n_neighbors': 9}],\n",
       " 'split0_test_score': array([0.95081967, 0.95081967, 0.96721311, 0.93442623, 0.95081967]),\n",
       " 'split1_test_score': array([0.91525424, 0.91525424, 0.91525424, 0.94915254, 0.96610169]),\n",
       " 'mean_test_score': array([0.93333333, 0.93333333, 0.94166667, 0.94166667, 0.95833333]),\n",
       " 'std_test_score': array([0.01778025, 0.01778025, 0.02597583, 0.00736213, 0.00763995]),\n",
       " 'rank_test_score': array([4, 4, 2, 2, 1], dtype=int32),\n",
       " 'split0_train_score': array([1.        , 0.98305085, 0.98305085, 0.98305085, 0.96610169]),\n",
       " 'split1_train_score': array([1.        , 0.98360656, 0.98360656, 0.96721311, 0.96721311]),\n",
       " 'mean_train_score': array([1.        , 0.9833287 , 0.9833287 , 0.97513198, 0.9666574 ]),\n",
       " 'std_train_score': array([0.        , 0.00027785, 0.00027785, 0.00791887, 0.00055571])}"
      ]
     },
     "execution_count": 25,
     "metadata": {},
     "output_type": "execute_result"
    }
   ],
   "source": [
    "# 获取网格搜索结果\n",
    "estimator_gscv.cv_results_"
   ]
  },
  {
   "cell_type": "code",
   "execution_count": null,
   "metadata": {},
   "outputs": [],
   "source": []
  }
 ],
 "metadata": {
  "kernelspec": {
   "display_name": "Python 3",
   "language": "python",
   "name": "python3"
  },
  "language_info": {
   "codemirror_mode": {
    "name": "ipython",
    "version": 3
   },
   "file_extension": ".py",
   "mimetype": "text/x-python",
   "name": "python",
   "nbconvert_exporter": "python",
   "pygments_lexer": "ipython3",
   "version": "3.6.8"
  },
  "toc": {
   "base_numbering": 1,
   "nav_menu": {},
   "number_sections": true,
   "sideBar": true,
   "skip_h1_title": false,
   "title_cell": "Table of Contents",
   "title_sidebar": "Contents",
   "toc_cell": false,
   "toc_position": {},
   "toc_section_display": true,
   "toc_window_display": false
  },
  "varInspector": {
   "cols": {
    "lenName": 16,
    "lenType": 16,
    "lenVar": 40
   },
   "kernels_config": {
    "python": {
     "delete_cmd_postfix": "",
     "delete_cmd_prefix": "del ",
     "library": "var_list.py",
     "varRefreshCmd": "print(var_dic_list())"
    },
    "r": {
     "delete_cmd_postfix": ") ",
     "delete_cmd_prefix": "rm(",
     "library": "var_list.r",
     "varRefreshCmd": "cat(var_dic_list()) "
    }
   },
   "types_to_exclude": [
    "module",
    "function",
    "builtin_function_or_method",
    "instance",
    "_Feature"
   ],
   "window_display": false
  }
 },
 "nbformat": 4,
 "nbformat_minor": 2
}
