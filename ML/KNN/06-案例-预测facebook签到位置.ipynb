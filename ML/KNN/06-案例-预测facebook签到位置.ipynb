{
 "cells": [
  {
   "cell_type": "code",
   "execution_count": null,
   "metadata": {
    "ExecuteTime": {
     "end_time": "2019-06-22T03:07:18.134986Z",
     "start_time": "2019-06-22T03:07:18.126915Z"
    }
   },
   "outputs": [],
   "source": [
    "数据介绍：将根据用户的位置，准确性和时间戳预测用户正在查看的业务。\n",
    "\n",
    "train.csv，test.csv \n",
    "row_id：登记事件的ID\n",
    "xy：坐标\n",
    "准确性：定位准确性 \n",
    "时间：时间戳\n",
    "place_id：业务的ID，这是您预测的目标"
   ]
  },
  {
   "cell_type": "code",
   "execution_count": null,
   "metadata": {},
   "outputs": [],
   "source": [
    "步骤分析\n",
    "对于数据做一些基本处理（这里所做的一些处理不一定达到很好的效果，我们只是简单尝试，有些特征我们可以根据一些特征选择的方式去做处理）\n",
    "\n",
    "    1 缩小数据集范围 DataFrame.query()\n",
    "\n",
    "    2 选取有用的时间特征\n",
    "\n",
    "    3 将签到位置少于n个用户的删除\n",
    "\n",
    "分割数据集\n",
    "\n",
    "标准化处理\n",
    "\n",
    "k-近邻预测"
   ]
  },
  {
   "cell_type": "code",
   "execution_count": 2,
   "metadata": {
    "ExecuteTime": {
     "end_time": "2019-06-22T03:10:19.746342Z",
     "start_time": "2019-06-22T03:10:19.325973Z"
    }
   },
   "outputs": [],
   "source": [
    "import pandas as pd\n",
    "from sklearn.model_selection import train_test_split\n",
    "from sklearn.preprocessing import StandardScaler\n",
    "from sklearn.neighbors import KNeighborsClassifier\n",
    "from sklearn.model_selection import GridSearchCV"
   ]
  },
  {
   "cell_type": "code",
   "execution_count": 4,
   "metadata": {
    "ExecuteTime": {
     "end_time": "2019-06-22T03:11:23.604533Z",
     "start_time": "2019-06-22T03:11:05.311703Z"
    }
   },
   "outputs": [],
   "source": [
    "# 1.获取数据  pd.read_csv\n",
    "data = pd.read_csv('./data/FBlocation/train.csv')"
   ]
  },
  {
   "cell_type": "code",
   "execution_count": 5,
   "metadata": {
    "ExecuteTime": {
     "end_time": "2019-06-22T03:11:34.772714Z",
     "start_time": "2019-06-22T03:11:34.743786Z"
    }
   },
   "outputs": [
    {
     "data": {
      "text/html": [
       "<div>\n",
       "<style>\n",
       "    .dataframe thead tr:only-child th {\n",
       "        text-align: right;\n",
       "    }\n",
       "\n",
       "    .dataframe thead th {\n",
       "        text-align: left;\n",
       "    }\n",
       "\n",
       "    .dataframe tbody tr th {\n",
       "        vertical-align: top;\n",
       "    }\n",
       "</style>\n",
       "<table border=\"1\" class=\"dataframe\">\n",
       "  <thead>\n",
       "    <tr style=\"text-align: right;\">\n",
       "      <th></th>\n",
       "      <th>row_id</th>\n",
       "      <th>x</th>\n",
       "      <th>y</th>\n",
       "      <th>accuracy</th>\n",
       "      <th>time</th>\n",
       "      <th>place_id</th>\n",
       "    </tr>\n",
       "  </thead>\n",
       "  <tbody>\n",
       "    <tr>\n",
       "      <th>0</th>\n",
       "      <td>0</td>\n",
       "      <td>0.7941</td>\n",
       "      <td>9.0809</td>\n",
       "      <td>54</td>\n",
       "      <td>470702</td>\n",
       "      <td>8523065625</td>\n",
       "    </tr>\n",
       "    <tr>\n",
       "      <th>1</th>\n",
       "      <td>1</td>\n",
       "      <td>5.9567</td>\n",
       "      <td>4.7968</td>\n",
       "      <td>13</td>\n",
       "      <td>186555</td>\n",
       "      <td>1757726713</td>\n",
       "    </tr>\n",
       "    <tr>\n",
       "      <th>2</th>\n",
       "      <td>2</td>\n",
       "      <td>8.3078</td>\n",
       "      <td>7.0407</td>\n",
       "      <td>74</td>\n",
       "      <td>322648</td>\n",
       "      <td>1137537235</td>\n",
       "    </tr>\n",
       "    <tr>\n",
       "      <th>3</th>\n",
       "      <td>3</td>\n",
       "      <td>7.3665</td>\n",
       "      <td>2.5165</td>\n",
       "      <td>65</td>\n",
       "      <td>704587</td>\n",
       "      <td>6567393236</td>\n",
       "    </tr>\n",
       "    <tr>\n",
       "      <th>4</th>\n",
       "      <td>4</td>\n",
       "      <td>4.0961</td>\n",
       "      <td>1.1307</td>\n",
       "      <td>31</td>\n",
       "      <td>472130</td>\n",
       "      <td>7440663949</td>\n",
       "    </tr>\n",
       "  </tbody>\n",
       "</table>\n",
       "</div>"
      ],
      "text/plain": [
       "   row_id       x       y  accuracy    time    place_id\n",
       "0       0  0.7941  9.0809        54  470702  8523065625\n",
       "1       1  5.9567  4.7968        13  186555  1757726713\n",
       "2       2  8.3078  7.0407        74  322648  1137537235\n",
       "3       3  7.3665  2.5165        65  704587  6567393236\n",
       "4       4  4.0961  1.1307        31  472130  7440663949"
      ]
     },
     "execution_count": 5,
     "metadata": {},
     "output_type": "execute_result"
    }
   ],
   "source": [
    "data.head()"
   ]
  },
  {
   "cell_type": "code",
   "execution_count": 6,
   "metadata": {
    "ExecuteTime": {
     "end_time": "2019-06-22T03:13:25.207036Z",
     "start_time": "2019-06-22T03:13:25.200712Z"
    }
   },
   "outputs": [
    {
     "data": {
      "text/plain": [
       "(29118021, 6)"
      ]
     },
     "execution_count": 6,
     "metadata": {},
     "output_type": "execute_result"
    }
   ],
   "source": [
    "data.shape"
   ]
  },
  {
   "cell_type": "code",
   "execution_count": 7,
   "metadata": {
    "ExecuteTime": {
     "end_time": "2019-06-22T03:14:02.885633Z",
     "start_time": "2019-06-22T03:14:02.879432Z"
    }
   },
   "outputs": [],
   "source": [
    "# 1.获取数据  pd.read_csv\n",
    "\n",
    "# 2.数据基本处理  提取时间特征，剔除入住人数少的酒店，选择一部分数据进行建模演示， 划分数据集\n",
    "\n",
    "# 3.特征工程 标准化\n",
    "\n",
    "# 4.机器学习 交叉验证和网格搜索\n",
    "\n",
    "# 5.模型评估 准确率"
   ]
  },
  {
   "cell_type": "code",
   "execution_count": 8,
   "metadata": {
    "ExecuteTime": {
     "end_time": "2019-06-22T03:14:45.341622Z",
     "start_time": "2019-06-22T03:14:44.880051Z"
    }
   },
   "outputs": [],
   "source": [
    "# 2.数据基本处理  提取时间特征，剔除入住人数少的酒店，选择一部分数据进行建模演示， 划分数据集\n",
    "# 2.1选择一部分数据进行建模演示 x>2&x<2.5&y<2&y>2.5\n",
    "data = data.query('x>2 & x<2.5 & y>2 & y<2.5')"
   ]
  },
  {
   "cell_type": "code",
   "execution_count": 9,
   "metadata": {
    "ExecuteTime": {
     "end_time": "2019-06-22T03:15:23.154795Z",
     "start_time": "2019-06-22T03:15:23.146115Z"
    }
   },
   "outputs": [
    {
     "data": {
      "text/html": [
       "<div>\n",
       "<style>\n",
       "    .dataframe thead tr:only-child th {\n",
       "        text-align: right;\n",
       "    }\n",
       "\n",
       "    .dataframe thead th {\n",
       "        text-align: left;\n",
       "    }\n",
       "\n",
       "    .dataframe tbody tr th {\n",
       "        vertical-align: top;\n",
       "    }\n",
       "</style>\n",
       "<table border=\"1\" class=\"dataframe\">\n",
       "  <thead>\n",
       "    <tr style=\"text-align: right;\">\n",
       "      <th></th>\n",
       "      <th>row_id</th>\n",
       "      <th>x</th>\n",
       "      <th>y</th>\n",
       "      <th>accuracy</th>\n",
       "      <th>time</th>\n",
       "      <th>place_id</th>\n",
       "    </tr>\n",
       "  </thead>\n",
       "  <tbody>\n",
       "    <tr>\n",
       "      <th>163</th>\n",
       "      <td>163</td>\n",
       "      <td>2.1663</td>\n",
       "      <td>2.3755</td>\n",
       "      <td>84</td>\n",
       "      <td>669737</td>\n",
       "      <td>3869813743</td>\n",
       "    </tr>\n",
       "    <tr>\n",
       "      <th>310</th>\n",
       "      <td>310</td>\n",
       "      <td>2.3695</td>\n",
       "      <td>2.2034</td>\n",
       "      <td>3</td>\n",
       "      <td>234719</td>\n",
       "      <td>2636621520</td>\n",
       "    </tr>\n",
       "    <tr>\n",
       "      <th>658</th>\n",
       "      <td>658</td>\n",
       "      <td>2.3236</td>\n",
       "      <td>2.1768</td>\n",
       "      <td>66</td>\n",
       "      <td>502343</td>\n",
       "      <td>7877745055</td>\n",
       "    </tr>\n",
       "    <tr>\n",
       "      <th>1368</th>\n",
       "      <td>1368</td>\n",
       "      <td>2.2613</td>\n",
       "      <td>2.3392</td>\n",
       "      <td>73</td>\n",
       "      <td>319822</td>\n",
       "      <td>9775192577</td>\n",
       "    </tr>\n",
       "    <tr>\n",
       "      <th>1627</th>\n",
       "      <td>1627</td>\n",
       "      <td>2.3331</td>\n",
       "      <td>2.0011</td>\n",
       "      <td>66</td>\n",
       "      <td>595084</td>\n",
       "      <td>6731326909</td>\n",
       "    </tr>\n",
       "  </tbody>\n",
       "</table>\n",
       "</div>"
      ],
      "text/plain": [
       "      row_id       x       y  accuracy    time    place_id\n",
       "163      163  2.1663  2.3755        84  669737  3869813743\n",
       "310      310  2.3695  2.2034         3  234719  2636621520\n",
       "658      658  2.3236  2.1768        66  502343  7877745055\n",
       "1368    1368  2.2613  2.3392        73  319822  9775192577\n",
       "1627    1627  2.3331  2.0011        66  595084  6731326909"
      ]
     },
     "execution_count": 9,
     "metadata": {},
     "output_type": "execute_result"
    }
   ],
   "source": [
    "data.head()"
   ]
  },
  {
   "cell_type": "code",
   "execution_count": 10,
   "metadata": {
    "ExecuteTime": {
     "end_time": "2019-06-22T03:15:30.185200Z",
     "start_time": "2019-06-22T03:15:30.175413Z"
    }
   },
   "outputs": [
    {
     "data": {
      "text/plain": [
       "(71664, 6)"
      ]
     },
     "execution_count": 10,
     "metadata": {},
     "output_type": "execute_result"
    }
   ],
   "source": [
    "data.shape"
   ]
  },
  {
   "cell_type": "code",
   "execution_count": 11,
   "metadata": {
    "ExecuteTime": {
     "end_time": "2019-06-22T03:15:40.169458Z",
     "start_time": "2019-06-22T03:15:40.062424Z"
    }
   },
   "outputs": [],
   "source": [
    "# 2.2 提取时间特征\n",
    "date = pd.to_datetime(data['time'], unit='s')\n",
    "date = pd.DatetimeIndex(date)\n",
    "data['day'] = date.day\n",
    "data['weekday'] = date.weekday\n",
    "data['hour'] = date.hour"
   ]
  },
  {
   "cell_type": "code",
   "execution_count": 12,
   "metadata": {
    "ExecuteTime": {
     "end_time": "2019-06-22T03:15:49.647119Z",
     "start_time": "2019-06-22T03:15:49.625552Z"
    }
   },
   "outputs": [
    {
     "data": {
      "text/html": [
       "<div>\n",
       "<style>\n",
       "    .dataframe thead tr:only-child th {\n",
       "        text-align: right;\n",
       "    }\n",
       "\n",
       "    .dataframe thead th {\n",
       "        text-align: left;\n",
       "    }\n",
       "\n",
       "    .dataframe tbody tr th {\n",
       "        vertical-align: top;\n",
       "    }\n",
       "</style>\n",
       "<table border=\"1\" class=\"dataframe\">\n",
       "  <thead>\n",
       "    <tr style=\"text-align: right;\">\n",
       "      <th></th>\n",
       "      <th>row_id</th>\n",
       "      <th>x</th>\n",
       "      <th>y</th>\n",
       "      <th>accuracy</th>\n",
       "      <th>time</th>\n",
       "      <th>place_id</th>\n",
       "      <th>day</th>\n",
       "      <th>weekday</th>\n",
       "      <th>hour</th>\n",
       "    </tr>\n",
       "  </thead>\n",
       "  <tbody>\n",
       "    <tr>\n",
       "      <th>163</th>\n",
       "      <td>163</td>\n",
       "      <td>2.1663</td>\n",
       "      <td>2.3755</td>\n",
       "      <td>84</td>\n",
       "      <td>669737</td>\n",
       "      <td>3869813743</td>\n",
       "      <td>8</td>\n",
       "      <td>3</td>\n",
       "      <td>18</td>\n",
       "    </tr>\n",
       "    <tr>\n",
       "      <th>310</th>\n",
       "      <td>310</td>\n",
       "      <td>2.3695</td>\n",
       "      <td>2.2034</td>\n",
       "      <td>3</td>\n",
       "      <td>234719</td>\n",
       "      <td>2636621520</td>\n",
       "      <td>3</td>\n",
       "      <td>5</td>\n",
       "      <td>17</td>\n",
       "    </tr>\n",
       "    <tr>\n",
       "      <th>658</th>\n",
       "      <td>658</td>\n",
       "      <td>2.3236</td>\n",
       "      <td>2.1768</td>\n",
       "      <td>66</td>\n",
       "      <td>502343</td>\n",
       "      <td>7877745055</td>\n",
       "      <td>6</td>\n",
       "      <td>1</td>\n",
       "      <td>19</td>\n",
       "    </tr>\n",
       "    <tr>\n",
       "      <th>1368</th>\n",
       "      <td>1368</td>\n",
       "      <td>2.2613</td>\n",
       "      <td>2.3392</td>\n",
       "      <td>73</td>\n",
       "      <td>319822</td>\n",
       "      <td>9775192577</td>\n",
       "      <td>4</td>\n",
       "      <td>6</td>\n",
       "      <td>16</td>\n",
       "    </tr>\n",
       "    <tr>\n",
       "      <th>1627</th>\n",
       "      <td>1627</td>\n",
       "      <td>2.3331</td>\n",
       "      <td>2.0011</td>\n",
       "      <td>66</td>\n",
       "      <td>595084</td>\n",
       "      <td>6731326909</td>\n",
       "      <td>7</td>\n",
       "      <td>2</td>\n",
       "      <td>21</td>\n",
       "    </tr>\n",
       "  </tbody>\n",
       "</table>\n",
       "</div>"
      ],
      "text/plain": [
       "      row_id       x       y  accuracy    time    place_id  day  weekday  hour\n",
       "163      163  2.1663  2.3755        84  669737  3869813743    8        3    18\n",
       "310      310  2.3695  2.2034         3  234719  2636621520    3        5    17\n",
       "658      658  2.3236  2.1768        66  502343  7877745055    6        1    19\n",
       "1368    1368  2.2613  2.3392        73  319822  9775192577    4        6    16\n",
       "1627    1627  2.3331  2.0011        66  595084  6731326909    7        2    21"
      ]
     },
     "execution_count": 12,
     "metadata": {},
     "output_type": "execute_result"
    }
   ],
   "source": [
    "data.head()"
   ]
  },
  {
   "cell_type": "code",
   "execution_count": 13,
   "metadata": {
    "ExecuteTime": {
     "end_time": "2019-06-22T03:16:00.177916Z",
     "start_time": "2019-06-22T03:16:00.171678Z"
    }
   },
   "outputs": [
    {
     "data": {
      "text/plain": [
       "(71664, 9)"
      ]
     },
     "execution_count": 13,
     "metadata": {},
     "output_type": "execute_result"
    }
   ],
   "source": [
    "data.shape"
   ]
  },
  {
   "cell_type": "code",
   "execution_count": 14,
   "metadata": {
    "ExecuteTime": {
     "end_time": "2019-06-22T03:16:38.437368Z",
     "start_time": "2019-06-22T03:16:38.401044Z"
    }
   },
   "outputs": [],
   "source": [
    "# 2.3剔除入住人数少的酒店\n",
    "place_count = data.groupby(by='place_id').count()"
   ]
  },
  {
   "cell_type": "code",
   "execution_count": 16,
   "metadata": {
    "ExecuteTime": {
     "end_time": "2019-06-22T03:16:58.847291Z",
     "start_time": "2019-06-22T03:16:58.823414Z"
    }
   },
   "outputs": [
    {
     "data": {
      "text/html": [
       "<div>\n",
       "<style>\n",
       "    .dataframe thead tr:only-child th {\n",
       "        text-align: right;\n",
       "    }\n",
       "\n",
       "    .dataframe thead th {\n",
       "        text-align: left;\n",
       "    }\n",
       "\n",
       "    .dataframe tbody tr th {\n",
       "        vertical-align: top;\n",
       "    }\n",
       "</style>\n",
       "<table border=\"1\" class=\"dataframe\">\n",
       "  <thead>\n",
       "    <tr style=\"text-align: right;\">\n",
       "      <th></th>\n",
       "      <th>row_id</th>\n",
       "      <th>x</th>\n",
       "      <th>y</th>\n",
       "      <th>accuracy</th>\n",
       "      <th>time</th>\n",
       "      <th>day</th>\n",
       "      <th>weekday</th>\n",
       "      <th>hour</th>\n",
       "    </tr>\n",
       "    <tr>\n",
       "      <th>place_id</th>\n",
       "      <th></th>\n",
       "      <th></th>\n",
       "      <th></th>\n",
       "      <th></th>\n",
       "      <th></th>\n",
       "      <th></th>\n",
       "      <th></th>\n",
       "      <th></th>\n",
       "    </tr>\n",
       "  </thead>\n",
       "  <tbody>\n",
       "    <tr>\n",
       "      <th>1006234733</th>\n",
       "      <td>1</td>\n",
       "      <td>1</td>\n",
       "      <td>1</td>\n",
       "      <td>1</td>\n",
       "      <td>1</td>\n",
       "      <td>1</td>\n",
       "      <td>1</td>\n",
       "      <td>1</td>\n",
       "    </tr>\n",
       "    <tr>\n",
       "      <th>1008823061</th>\n",
       "      <td>4</td>\n",
       "      <td>4</td>\n",
       "      <td>4</td>\n",
       "      <td>4</td>\n",
       "      <td>4</td>\n",
       "      <td>4</td>\n",
       "      <td>4</td>\n",
       "      <td>4</td>\n",
       "    </tr>\n",
       "    <tr>\n",
       "      <th>1012580558</th>\n",
       "      <td>3</td>\n",
       "      <td>3</td>\n",
       "      <td>3</td>\n",
       "      <td>3</td>\n",
       "      <td>3</td>\n",
       "      <td>3</td>\n",
       "      <td>3</td>\n",
       "      <td>3</td>\n",
       "    </tr>\n",
       "    <tr>\n",
       "      <th>1025585791</th>\n",
       "      <td>21</td>\n",
       "      <td>21</td>\n",
       "      <td>21</td>\n",
       "      <td>21</td>\n",
       "      <td>21</td>\n",
       "      <td>21</td>\n",
       "      <td>21</td>\n",
       "      <td>21</td>\n",
       "    </tr>\n",
       "    <tr>\n",
       "      <th>1026507711</th>\n",
       "      <td>220</td>\n",
       "      <td>220</td>\n",
       "      <td>220</td>\n",
       "      <td>220</td>\n",
       "      <td>220</td>\n",
       "      <td>220</td>\n",
       "      <td>220</td>\n",
       "      <td>220</td>\n",
       "    </tr>\n",
       "  </tbody>\n",
       "</table>\n",
       "</div>"
      ],
      "text/plain": [
       "            row_id    x    y  accuracy  time  day  weekday  hour\n",
       "place_id                                                        \n",
       "1006234733       1    1    1         1     1    1        1     1\n",
       "1008823061       4    4    4         4     4    4        4     4\n",
       "1012580558       3    3    3         3     3    3        3     3\n",
       "1025585791      21   21   21        21    21   21       21    21\n",
       "1026507711     220  220  220       220   220  220      220   220"
      ]
     },
     "execution_count": 16,
     "metadata": {},
     "output_type": "execute_result"
    }
   ],
   "source": [
    "place_count.head()"
   ]
  },
  {
   "cell_type": "code",
   "execution_count": 17,
   "metadata": {
    "ExecuteTime": {
     "end_time": "2019-06-22T03:17:06.459234Z",
     "start_time": "2019-06-22T03:17:06.445325Z"
    }
   },
   "outputs": [],
   "source": [
    "place_count = data.groupby(by='place_id').count()['row_id']"
   ]
  },
  {
   "cell_type": "code",
   "execution_count": 18,
   "metadata": {
    "ExecuteTime": {
     "end_time": "2019-06-22T03:17:20.446152Z",
     "start_time": "2019-06-22T03:17:20.439032Z"
    }
   },
   "outputs": [
    {
     "data": {
      "text/plain": [
       "place_id\n",
       "1006234733      1\n",
       "1008823061      4\n",
       "1012580558      3\n",
       "1025585791     21\n",
       "1026507711    220\n",
       "Name: row_id, dtype: int64"
      ]
     },
     "execution_count": 18,
     "metadata": {},
     "output_type": "execute_result"
    }
   ],
   "source": [
    "place_count.head()"
   ]
  },
  {
   "cell_type": "code",
   "execution_count": 19,
   "metadata": {
    "ExecuteTime": {
     "end_time": "2019-06-22T03:17:35.244834Z",
     "start_time": "2019-06-22T03:17:35.242218Z"
    }
   },
   "outputs": [],
   "source": [
    "place_count = place_count[place_count>3]"
   ]
  },
  {
   "cell_type": "code",
   "execution_count": 21,
   "metadata": {
    "ExecuteTime": {
     "end_time": "2019-06-22T03:17:47.300172Z",
     "start_time": "2019-06-22T03:17:47.288693Z"
    }
   },
   "outputs": [
    {
     "data": {
      "text/plain": [
       "place_id\n",
       "1008823061      4\n",
       "1025585791     21\n",
       "1026507711    220\n",
       "1032417180     10\n",
       "1040557418    123\n",
       "Name: row_id, dtype: int64"
      ]
     },
     "execution_count": 21,
     "metadata": {},
     "output_type": "execute_result"
    }
   ],
   "source": [
    "place_count.head()"
   ]
  },
  {
   "cell_type": "code",
   "execution_count": 28,
   "metadata": {
    "ExecuteTime": {
     "end_time": "2019-06-22T03:20:38.465416Z",
     "start_time": "2019-06-22T03:20:38.458575Z"
    }
   },
   "outputs": [
    {
     "data": {
      "text/plain": [
       "163     True\n",
       "310     True\n",
       "658     True\n",
       "1368    True\n",
       "1627    True\n",
       "Name: place_id, dtype: bool"
      ]
     },
     "execution_count": 28,
     "metadata": {},
     "output_type": "execute_result"
    }
   ],
   "source": [
    "data['place_id'].isin(place_count.index).head()"
   ]
  },
  {
   "cell_type": "code",
   "execution_count": 24,
   "metadata": {
    "ExecuteTime": {
     "end_time": "2019-06-22T03:18:30.207079Z",
     "start_time": "2019-06-22T03:18:30.184964Z"
    }
   },
   "outputs": [],
   "source": [
    "data = data[data['place_id'].isin(place_count.index)]"
   ]
  },
  {
   "cell_type": "code",
   "execution_count": 25,
   "metadata": {
    "ExecuteTime": {
     "end_time": "2019-06-22T03:18:30.658571Z",
     "start_time": "2019-06-22T03:18:30.646635Z"
    }
   },
   "outputs": [
    {
     "data": {
      "text/html": [
       "<div>\n",
       "<style>\n",
       "    .dataframe thead tr:only-child th {\n",
       "        text-align: right;\n",
       "    }\n",
       "\n",
       "    .dataframe thead th {\n",
       "        text-align: left;\n",
       "    }\n",
       "\n",
       "    .dataframe tbody tr th {\n",
       "        vertical-align: top;\n",
       "    }\n",
       "</style>\n",
       "<table border=\"1\" class=\"dataframe\">\n",
       "  <thead>\n",
       "    <tr style=\"text-align: right;\">\n",
       "      <th></th>\n",
       "      <th>row_id</th>\n",
       "      <th>x</th>\n",
       "      <th>y</th>\n",
       "      <th>accuracy</th>\n",
       "      <th>time</th>\n",
       "      <th>place_id</th>\n",
       "      <th>day</th>\n",
       "      <th>weekday</th>\n",
       "      <th>hour</th>\n",
       "    </tr>\n",
       "  </thead>\n",
       "  <tbody>\n",
       "    <tr>\n",
       "      <th>163</th>\n",
       "      <td>163</td>\n",
       "      <td>2.1663</td>\n",
       "      <td>2.3755</td>\n",
       "      <td>84</td>\n",
       "      <td>669737</td>\n",
       "      <td>3869813743</td>\n",
       "      <td>8</td>\n",
       "      <td>3</td>\n",
       "      <td>18</td>\n",
       "    </tr>\n",
       "    <tr>\n",
       "      <th>310</th>\n",
       "      <td>310</td>\n",
       "      <td>2.3695</td>\n",
       "      <td>2.2034</td>\n",
       "      <td>3</td>\n",
       "      <td>234719</td>\n",
       "      <td>2636621520</td>\n",
       "      <td>3</td>\n",
       "      <td>5</td>\n",
       "      <td>17</td>\n",
       "    </tr>\n",
       "    <tr>\n",
       "      <th>658</th>\n",
       "      <td>658</td>\n",
       "      <td>2.3236</td>\n",
       "      <td>2.1768</td>\n",
       "      <td>66</td>\n",
       "      <td>502343</td>\n",
       "      <td>7877745055</td>\n",
       "      <td>6</td>\n",
       "      <td>1</td>\n",
       "      <td>19</td>\n",
       "    </tr>\n",
       "    <tr>\n",
       "      <th>1368</th>\n",
       "      <td>1368</td>\n",
       "      <td>2.2613</td>\n",
       "      <td>2.3392</td>\n",
       "      <td>73</td>\n",
       "      <td>319822</td>\n",
       "      <td>9775192577</td>\n",
       "      <td>4</td>\n",
       "      <td>6</td>\n",
       "      <td>16</td>\n",
       "    </tr>\n",
       "    <tr>\n",
       "      <th>1627</th>\n",
       "      <td>1627</td>\n",
       "      <td>2.3331</td>\n",
       "      <td>2.0011</td>\n",
       "      <td>66</td>\n",
       "      <td>595084</td>\n",
       "      <td>6731326909</td>\n",
       "      <td>7</td>\n",
       "      <td>2</td>\n",
       "      <td>21</td>\n",
       "    </tr>\n",
       "  </tbody>\n",
       "</table>\n",
       "</div>"
      ],
      "text/plain": [
       "      row_id       x       y  accuracy    time    place_id  day  weekday  hour\n",
       "163      163  2.1663  2.3755        84  669737  3869813743    8        3    18\n",
       "310      310  2.3695  2.2034         3  234719  2636621520    3        5    17\n",
       "658      658  2.3236  2.1768        66  502343  7877745055    6        1    19\n",
       "1368    1368  2.2613  2.3392        73  319822  9775192577    4        6    16\n",
       "1627    1627  2.3331  2.0011        66  595084  6731326909    7        2    21"
      ]
     },
     "execution_count": 25,
     "metadata": {},
     "output_type": "execute_result"
    }
   ],
   "source": [
    "data.head()"
   ]
  },
  {
   "cell_type": "code",
   "execution_count": 29,
   "metadata": {
    "ExecuteTime": {
     "end_time": "2019-06-22T03:22:15.571925Z",
     "start_time": "2019-06-22T03:22:15.553757Z"
    }
   },
   "outputs": [],
   "source": [
    "# 2.4 划分数据集\n",
    "# 提取特征值和目标值\n",
    "x = data[['x', 'y', 'accuracy', 'day', 'weekday', 'hour']]\n",
    "y = data['place_id']\n",
    "# 划分训练集和测试集\n",
    "x_train, x_test, y_train, y_test = train_test_split(x, y, test_size=0.2)   # 参数：特征值， 目标值，测试集占的比例"
   ]
  },
  {
   "cell_type": "code",
   "execution_count": 30,
   "metadata": {
    "ExecuteTime": {
     "end_time": "2019-06-22T03:22:22.752787Z",
     "start_time": "2019-06-22T03:22:22.746825Z"
    }
   },
   "outputs": [],
   "source": [
    "# 3.特征工程 标准化\n",
    "# 3.1 初始化转换器\n",
    "transfer = StandardScaler()"
   ]
  },
  {
   "cell_type": "code",
   "execution_count": 31,
   "metadata": {
    "ExecuteTime": {
     "end_time": "2019-06-22T03:22:52.838619Z",
     "start_time": "2019-06-22T03:22:52.817452Z"
    }
   },
   "outputs": [],
   "source": [
    "# 3.2 转换数据\n",
    "x_train = transfer.fit_transform(x_train)\n",
    "x_test = transfer.transform(x_test)"
   ]
  },
  {
   "cell_type": "code",
   "execution_count": 32,
   "metadata": {
    "ExecuteTime": {
     "end_time": "2019-06-22T03:22:58.924679Z",
     "start_time": "2019-06-22T03:22:58.920825Z"
    }
   },
   "outputs": [
    {
     "data": {
      "text/plain": [
       "array([[-1.30547088,  0.8580328 ,  0.69169019,  0.62405331, -0.61485018,\n",
       "         0.06343705],\n",
       "       [ 1.35751353, -0.26600542,  0.71755385, -0.5075462 ,  1.69463078,\n",
       "         1.66081834],\n",
       "       [ 1.50305723,  0.95669675, -0.3859623 , -0.13034637, -1.76959065,\n",
       "        -0.95307832],\n",
       "       ...,\n",
       "       [ 0.77866167,  0.95596591, -0.22215912,  1.37845298,  0.5398903 ,\n",
       "        -0.80786184],\n",
       "       [-1.7600457 , -0.95738394, -0.66184133,  1.00125314, -0.03747994,\n",
       "         1.37038538],\n",
       "       [ 0.04363278, -0.15710965, -0.15318936, -0.5075462 ,  1.69463078,\n",
       "         0.78951945]])"
      ]
     },
     "execution_count": 32,
     "metadata": {},
     "output_type": "execute_result"
    }
   ],
   "source": [
    "x_train"
   ]
  },
  {
   "cell_type": "code",
   "execution_count": 39,
   "metadata": {
    "ExecuteTime": {
     "end_time": "2019-06-22T03:25:52.315765Z",
     "start_time": "2019-06-22T03:25:52.308534Z"
    }
   },
   "outputs": [],
   "source": [
    "# 4.机器学习 交叉验证和网格搜索\n",
    "# 4.1 初始化估计器  \n",
    "estimator = KNeighborsClassifier(algorithm='ball_tree')"
   ]
  },
  {
   "cell_type": "code",
   "execution_count": 45,
   "metadata": {
    "ExecuteTime": {
     "end_time": "2019-06-22T03:28:08.718567Z",
     "start_time": "2019-06-22T03:28:08.711554Z"
    }
   },
   "outputs": [],
   "source": [
    "# 4.2 交叉验证和网格搜索\n",
    "# 4.2.1 构建参数字典\n",
    "param_dict = {'n_neighbors':[1,3,5,7,9]}\n",
    "# 4.2.2 初始化GSCV对象\n",
    "estimator_gscv = GridSearchCV(estimator=estimator, param_grid=param_dict, cv=6)"
   ]
  },
  {
   "cell_type": "code",
   "execution_count": 46,
   "metadata": {
    "ExecuteTime": {
     "end_time": "2019-06-22T03:30:00.429350Z",
     "start_time": "2019-06-22T03:28:10.080373Z"
    }
   },
   "outputs": [
    {
     "name": "stderr",
     "output_type": "stream",
     "text": [
      "/home/python/.virtualenvs/tensorflow/lib/python3.6/site-packages/sklearn/model_selection/_split.py:605: Warning: The least populated class in y has only 1 members, which is too few. The minimum number of members in any class cannot be less than n_splits=6.\n",
      "  % (min_groups, self.n_splits)), Warning)\n"
     ]
    },
    {
     "data": {
      "text/plain": [
       "GridSearchCV(cv=6, error_score='raise',\n",
       "       estimator=KNeighborsClassifier(algorithm='ball_tree', leaf_size=30, metric='minkowski',\n",
       "           metric_params=None, n_jobs=1, n_neighbors=5, p=2,\n",
       "           weights='uniform'),\n",
       "       fit_params=None, iid=True, n_jobs=1,\n",
       "       param_grid={'n_neighbors': [1, 3, 5, 7, 9]},\n",
       "       pre_dispatch='2*n_jobs', refit=True, return_train_score='warn',\n",
       "       scoring=None, verbose=0)"
      ]
     },
     "execution_count": 46,
     "metadata": {},
     "output_type": "execute_result"
    }
   ],
   "source": [
    "# 训练模型\n",
    "estimator_gscv.fit(x_train, y_train) # 参数：训练集的特征值，训练集的目标值"
   ]
  },
  {
   "cell_type": "code",
   "execution_count": 47,
   "metadata": {
    "ExecuteTime": {
     "end_time": "2019-06-22T03:57:02.136334Z",
     "start_time": "2019-06-22T03:57:01.107439Z"
    }
   },
   "outputs": [
    {
     "data": {
      "text/plain": [
       "0.3700281527466975"
      ]
     },
     "execution_count": 47,
     "metadata": {},
     "output_type": "execute_result"
    }
   ],
   "source": [
    "# 5.模型评估 准确率\n",
    "estimator_gscv.score(x_test, y_test)  # 参数：测试集的特征值， 测试集的目标值"
   ]
  },
  {
   "cell_type": "code",
   "execution_count": 48,
   "metadata": {
    "ExecuteTime": {
     "end_time": "2019-06-22T03:57:06.975867Z",
     "start_time": "2019-06-22T03:57:06.970166Z"
    }
   },
   "outputs": [
    {
     "data": {
      "text/plain": [
       "KNeighborsClassifier(algorithm='ball_tree', leaf_size=30, metric='minkowski',\n",
       "           metric_params=None, n_jobs=1, n_neighbors=5, p=2,\n",
       "           weights='uniform')"
      ]
     },
     "execution_count": 48,
     "metadata": {},
     "output_type": "execute_result"
    }
   ],
   "source": [
    "# 获取最优模型\n",
    "estimator_gscv.best_estimator_"
   ]
  },
  {
   "cell_type": "code",
   "execution_count": 49,
   "metadata": {
    "ExecuteTime": {
     "end_time": "2019-06-22T03:57:08.110171Z",
     "start_time": "2019-06-22T03:57:08.107463Z"
    }
   },
   "outputs": [
    {
     "data": {
      "text/plain": [
       "{'n_neighbors': 5}"
      ]
     },
     "execution_count": 49,
     "metadata": {},
     "output_type": "execute_result"
    }
   ],
   "source": [
    "# 获取最优超参数\n",
    "estimator_gscv.best_params_"
   ]
  },
  {
   "cell_type": "code",
   "execution_count": null,
   "metadata": {},
   "outputs": [],
   "source": []
  }
 ],
 "metadata": {
  "kernelspec": {
   "display_name": "Python 3",
   "language": "python",
   "name": "python3"
  },
  "language_info": {
   "codemirror_mode": {
    "name": "ipython",
    "version": 3
   },
   "file_extension": ".py",
   "mimetype": "text/x-python",
   "name": "python",
   "nbconvert_exporter": "python",
   "pygments_lexer": "ipython3",
   "version": "3.6.8"
  },
  "toc": {
   "base_numbering": 1,
   "nav_menu": {},
   "number_sections": true,
   "sideBar": true,
   "skip_h1_title": false,
   "title_cell": "Table of Contents",
   "title_sidebar": "Contents",
   "toc_cell": false,
   "toc_position": {},
   "toc_section_display": true,
   "toc_window_display": false
  },
  "varInspector": {
   "cols": {
    "lenName": 16,
    "lenType": 16,
    "lenVar": 40
   },
   "kernels_config": {
    "python": {
     "delete_cmd_postfix": "",
     "delete_cmd_prefix": "del ",
     "library": "var_list.py",
     "varRefreshCmd": "print(var_dic_list())"
    },
    "r": {
     "delete_cmd_postfix": ") ",
     "delete_cmd_prefix": "rm(",
     "library": "var_list.r",
     "varRefreshCmd": "cat(var_dic_list()) "
    }
   },
   "types_to_exclude": [
    "module",
    "function",
    "builtin_function_or_method",
    "instance",
    "_Feature"
   ],
   "window_display": false
  }
 },
 "nbformat": 4,
 "nbformat_minor": 2
}
