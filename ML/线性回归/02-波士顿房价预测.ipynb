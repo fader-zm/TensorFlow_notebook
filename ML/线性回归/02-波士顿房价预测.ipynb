{
 "cells": [
  {
   "cell_type": "code",
   "execution_count": 25,
   "metadata": {
    "ExecuteTime": {
     "end_time": "2019-06-22T05:30:44.774838Z",
     "start_time": "2019-06-22T05:30:44.759346Z"
    }
   },
   "outputs": [],
   "source": [
    "# 导入工具\n",
    "from sklearn.datasets import load_boston\n",
    "from sklearn.linear_model import LinearRegression # 正规方程优化\n",
    "from sklearn.linear_model import SGDRegressor  # 梯度下降优化\n",
    "from sklearn.model_selection import train_test_split\n",
    "from sklearn.preprocessing import StandardScaler\n",
    "from sklearn.metrics import mean_squared_error\n",
    "from sklearn.linear_model import Ridge  # 加入了L2正则化的线性回归\n",
    "from sklearn.externals import joblib"
   ]
  },
  {
   "cell_type": "code",
   "execution_count": 26,
   "metadata": {
    "ExecuteTime": {
     "end_time": "2019-06-22T05:30:45.385506Z",
     "start_time": "2019-06-22T05:30:45.383405Z"
    }
   },
   "outputs": [],
   "source": [
    "# 1.获取数据  load_boston\n",
    "\n",
    "# 2.数据的基本处理 数据集划分\n",
    "\n",
    "# 3.特征工程 标准化\n",
    "\n",
    "# 4.机器学习 正规方程优化， 梯度下降优化\n",
    "\n",
    "# 5.模型评估 MSE 均方误差"
   ]
  },
  {
   "cell_type": "markdown",
   "metadata": {},
   "source": [
    "# 正规方程的线性回归"
   ]
  },
  {
   "cell_type": "code",
   "execution_count": 41,
   "metadata": {
    "ExecuteTime": {
     "end_time": "2019-06-22T05:32:20.597966Z",
     "start_time": "2019-06-22T05:32:20.564211Z"
    }
   },
   "outputs": [
    {
     "data": {
      "text/plain": [
       "{'data': array([[6.3200e-03, 1.8000e+01, 2.3100e+00, ..., 1.5300e+01, 3.9690e+02,\n",
       "         4.9800e+00],\n",
       "        [2.7310e-02, 0.0000e+00, 7.0700e+00, ..., 1.7800e+01, 3.9690e+02,\n",
       "         9.1400e+00],\n",
       "        [2.7290e-02, 0.0000e+00, 7.0700e+00, ..., 1.7800e+01, 3.9283e+02,\n",
       "         4.0300e+00],\n",
       "        ...,\n",
       "        [6.0760e-02, 0.0000e+00, 1.1930e+01, ..., 2.1000e+01, 3.9690e+02,\n",
       "         5.6400e+00],\n",
       "        [1.0959e-01, 0.0000e+00, 1.1930e+01, ..., 2.1000e+01, 3.9345e+02,\n",
       "         6.4800e+00],\n",
       "        [4.7410e-02, 0.0000e+00, 1.1930e+01, ..., 2.1000e+01, 3.9690e+02,\n",
       "         7.8800e+00]]),\n",
       " 'target': array([24. , 21.6, 34.7, 33.4, 36.2, 28.7, 22.9, 27.1, 16.5, 18.9, 15. ,\n",
       "        18.9, 21.7, 20.4, 18.2, 19.9, 23.1, 17.5, 20.2, 18.2, 13.6, 19.6,\n",
       "        15.2, 14.5, 15.6, 13.9, 16.6, 14.8, 18.4, 21. , 12.7, 14.5, 13.2,\n",
       "        13.1, 13.5, 18.9, 20. , 21. , 24.7, 30.8, 34.9, 26.6, 25.3, 24.7,\n",
       "        21.2, 19.3, 20. , 16.6, 14.4, 19.4, 19.7, 20.5, 25. , 23.4, 18.9,\n",
       "        35.4, 24.7, 31.6, 23.3, 19.6, 18.7, 16. , 22.2, 25. , 33. , 23.5,\n",
       "        19.4, 22. , 17.4, 20.9, 24.2, 21.7, 22.8, 23.4, 24.1, 21.4, 20. ,\n",
       "        20.8, 21.2, 20.3, 28. , 23.9, 24.8, 22.9, 23.9, 26.6, 22.5, 22.2,\n",
       "        23.6, 28.7, 22.6, 22. , 22.9, 25. , 20.6, 28.4, 21.4, 38.7, 43.8,\n",
       "        33.2, 27.5, 26.5, 18.6, 19.3, 20.1, 19.5, 19.5, 20.4, 19.8, 19.4,\n",
       "        21.7, 22.8, 18.8, 18.7, 18.5, 18.3, 21.2, 19.2, 20.4, 19.3, 22. ,\n",
       "        20.3, 20.5, 17.3, 18.8, 21.4, 15.7, 16.2, 18. , 14.3, 19.2, 19.6,\n",
       "        23. , 18.4, 15.6, 18.1, 17.4, 17.1, 13.3, 17.8, 14. , 14.4, 13.4,\n",
       "        15.6, 11.8, 13.8, 15.6, 14.6, 17.8, 15.4, 21.5, 19.6, 15.3, 19.4,\n",
       "        17. , 15.6, 13.1, 41.3, 24.3, 23.3, 27. , 50. , 50. , 50. , 22.7,\n",
       "        25. , 50. , 23.8, 23.8, 22.3, 17.4, 19.1, 23.1, 23.6, 22.6, 29.4,\n",
       "        23.2, 24.6, 29.9, 37.2, 39.8, 36.2, 37.9, 32.5, 26.4, 29.6, 50. ,\n",
       "        32. , 29.8, 34.9, 37. , 30.5, 36.4, 31.1, 29.1, 50. , 33.3, 30.3,\n",
       "        34.6, 34.9, 32.9, 24.1, 42.3, 48.5, 50. , 22.6, 24.4, 22.5, 24.4,\n",
       "        20. , 21.7, 19.3, 22.4, 28.1, 23.7, 25. , 23.3, 28.7, 21.5, 23. ,\n",
       "        26.7, 21.7, 27.5, 30.1, 44.8, 50. , 37.6, 31.6, 46.7, 31.5, 24.3,\n",
       "        31.7, 41.7, 48.3, 29. , 24. , 25.1, 31.5, 23.7, 23.3, 22. , 20.1,\n",
       "        22.2, 23.7, 17.6, 18.5, 24.3, 20.5, 24.5, 26.2, 24.4, 24.8, 29.6,\n",
       "        42.8, 21.9, 20.9, 44. , 50. , 36. , 30.1, 33.8, 43.1, 48.8, 31. ,\n",
       "        36.5, 22.8, 30.7, 50. , 43.5, 20.7, 21.1, 25.2, 24.4, 35.2, 32.4,\n",
       "        32. , 33.2, 33.1, 29.1, 35.1, 45.4, 35.4, 46. , 50. , 32.2, 22. ,\n",
       "        20.1, 23.2, 22.3, 24.8, 28.5, 37.3, 27.9, 23.9, 21.7, 28.6, 27.1,\n",
       "        20.3, 22.5, 29. , 24.8, 22. , 26.4, 33.1, 36.1, 28.4, 33.4, 28.2,\n",
       "        22.8, 20.3, 16.1, 22.1, 19.4, 21.6, 23.8, 16.2, 17.8, 19.8, 23.1,\n",
       "        21. , 23.8, 23.1, 20.4, 18.5, 25. , 24.6, 23. , 22.2, 19.3, 22.6,\n",
       "        19.8, 17.1, 19.4, 22.2, 20.7, 21.1, 19.5, 18.5, 20.6, 19. , 18.7,\n",
       "        32.7, 16.5, 23.9, 31.2, 17.5, 17.2, 23.1, 24.5, 26.6, 22.9, 24.1,\n",
       "        18.6, 30.1, 18.2, 20.6, 17.8, 21.7, 22.7, 22.6, 25. , 19.9, 20.8,\n",
       "        16.8, 21.9, 27.5, 21.9, 23.1, 50. , 50. , 50. , 50. , 50. , 13.8,\n",
       "        13.8, 15. , 13.9, 13.3, 13.1, 10.2, 10.4, 10.9, 11.3, 12.3,  8.8,\n",
       "         7.2, 10.5,  7.4, 10.2, 11.5, 15.1, 23.2,  9.7, 13.8, 12.7, 13.1,\n",
       "        12.5,  8.5,  5. ,  6.3,  5.6,  7.2, 12.1,  8.3,  8.5,  5. , 11.9,\n",
       "        27.9, 17.2, 27.5, 15. , 17.2, 17.9, 16.3,  7. ,  7.2,  7.5, 10.4,\n",
       "         8.8,  8.4, 16.7, 14.2, 20.8, 13.4, 11.7,  8.3, 10.2, 10.9, 11. ,\n",
       "         9.5, 14.5, 14.1, 16.1, 14.3, 11.7, 13.4,  9.6,  8.7,  8.4, 12.8,\n",
       "        10.5, 17.1, 18.4, 15.4, 10.8, 11.8, 14.9, 12.6, 14.1, 13. , 13.4,\n",
       "        15.2, 16.1, 17.8, 14.9, 14.1, 12.7, 13.5, 14.9, 20. , 16.4, 17.7,\n",
       "        19.5, 20.2, 21.4, 19.9, 19. , 19.1, 19.1, 20.1, 19.9, 19.6, 23.2,\n",
       "        29.8, 13.8, 13.3, 16.7, 12. , 14.6, 21.4, 23. , 23.7, 25. , 21.8,\n",
       "        20.6, 21.2, 19.1, 20.6, 15.2,  7. ,  8.1, 13.6, 20.1, 21.8, 24.5,\n",
       "        23.1, 19.7, 18.3, 21.2, 17.5, 16.8, 22.4, 20.6, 23.9, 22. , 11.9]),\n",
       " 'feature_names': array(['CRIM', 'ZN', 'INDUS', 'CHAS', 'NOX', 'RM', 'AGE', 'DIS', 'RAD',\n",
       "        'TAX', 'PTRATIO', 'B', 'LSTAT'], dtype='<U7'),\n",
       " 'DESCR': \"Boston House Prices dataset\\n===========================\\n\\nNotes\\n------\\nData Set Characteristics:  \\n\\n    :Number of Instances: 506 \\n\\n    :Number of Attributes: 13 numeric/categorical predictive\\n    \\n    :Median Value (attribute 14) is usually the target\\n\\n    :Attribute Information (in order):\\n        - CRIM     per capita crime rate by town\\n        - ZN       proportion of residential land zoned for lots over 25,000 sq.ft.\\n        - INDUS    proportion of non-retail business acres per town\\n        - CHAS     Charles River dummy variable (= 1 if tract bounds river; 0 otherwise)\\n        - NOX      nitric oxides concentration (parts per 10 million)\\n        - RM       average number of rooms per dwelling\\n        - AGE      proportion of owner-occupied units built prior to 1940\\n        - DIS      weighted distances to five Boston employment centres\\n        - RAD      index of accessibility to radial highways\\n        - TAX      full-value property-tax rate per $10,000\\n        - PTRATIO  pupil-teacher ratio by town\\n        - B        1000(Bk - 0.63)^2 where Bk is the proportion of blacks by town\\n        - LSTAT    % lower status of the population\\n        - MEDV     Median value of owner-occupied homes in $1000's\\n\\n    :Missing Attribute Values: None\\n\\n    :Creator: Harrison, D. and Rubinfeld, D.L.\\n\\nThis is a copy of UCI ML housing dataset.\\nhttp://archive.ics.uci.edu/ml/datasets/Housing\\n\\n\\nThis dataset was taken from the StatLib library which is maintained at Carnegie Mellon University.\\n\\nThe Boston house-price data of Harrison, D. and Rubinfeld, D.L. 'Hedonic\\nprices and the demand for clean air', J. Environ. Economics & Management,\\nvol.5, 81-102, 1978.   Used in Belsley, Kuh & Welsch, 'Regression diagnostics\\n...', Wiley, 1980.   N.B. Various transformations are used in the table on\\npages 244-261 of the latter.\\n\\nThe Boston house-price data has been used in many machine learning papers that address regression\\nproblems.   \\n     \\n**References**\\n\\n   - Belsley, Kuh & Welsch, 'Regression diagnostics: Identifying Influential Data and Sources of Collinearity', Wiley, 1980. 244-261.\\n   - Quinlan,R. (1993). Combining Instance-Based and Model-Based Learning. In Proceedings on the Tenth International Conference of Machine Learning, 236-243, University of Massachusetts, Amherst. Morgan Kaufmann.\\n   - many more! (see http://archive.ics.uci.edu/ml/datasets/Housing)\\n\"}"
      ]
     },
     "execution_count": 41,
     "metadata": {},
     "output_type": "execute_result"
    }
   ],
   "source": [
    "# 1.获取数据  load_boston\n",
    "data = load_boston()  # bunch字典\n",
    "data"
   ]
  },
  {
   "cell_type": "code",
   "execution_count": 28,
   "metadata": {
    "ExecuteTime": {
     "end_time": "2019-06-22T05:30:47.182327Z",
     "start_time": "2019-06-22T05:30:47.177089Z"
    }
   },
   "outputs": [],
   "source": [
    "# 2.数据的基本处理 数据集划分\n",
    "x_train, x_test, y_train, y_test = train_test_split(data.data, data.target, test_size=0.2)"
   ]
  },
  {
   "cell_type": "code",
   "execution_count": 29,
   "metadata": {
    "ExecuteTime": {
     "end_time": "2019-06-22T05:30:47.843454Z",
     "start_time": "2019-06-22T05:30:47.836197Z"
    }
   },
   "outputs": [
    {
     "data": {
      "text/plain": [
       "(array([[5.47900e-02, 3.30000e+01, 2.18000e+00, ..., 1.84000e+01,\n",
       "         3.93360e+02, 8.93000e+00],\n",
       "        [1.19294e+00, 0.00000e+00, 2.18900e+01, ..., 2.12000e+01,\n",
       "         3.96900e+02, 1.22600e+01],\n",
       "        [5.50070e-01, 2.00000e+01, 3.97000e+00, ..., 1.30000e+01,\n",
       "         3.87890e+02, 8.10000e+00],\n",
       "        ...,\n",
       "        [1.42310e-01, 0.00000e+00, 1.00100e+01, ..., 1.78000e+01,\n",
       "         3.88740e+02, 1.04500e+01],\n",
       "        [1.51902e+00, 0.00000e+00, 1.95800e+01, ..., 1.47000e+01,\n",
       "         3.88450e+02, 3.32000e+00],\n",
       "        [5.09017e+00, 0.00000e+00, 1.81000e+01, ..., 2.02000e+01,\n",
       "         3.85090e+02, 1.72700e+01]]),\n",
       " array([[6.79208e+01, 0.00000e+00, 1.81000e+01, ..., 2.02000e+01,\n",
       "         3.84970e+02, 2.29800e+01],\n",
       "        [1.28023e+01, 0.00000e+00, 1.81000e+01, ..., 2.02000e+01,\n",
       "         2.40520e+02, 2.37900e+01],\n",
       "        [7.02200e-02, 0.00000e+00, 4.05000e+00, ..., 1.66000e+01,\n",
       "         3.93230e+02, 1.01100e+01],\n",
       "        ...,\n",
       "        [7.01300e-02, 0.00000e+00, 1.38900e+01, ..., 1.64000e+01,\n",
       "         3.92780e+02, 9.69000e+00],\n",
       "        [5.08300e-02, 0.00000e+00, 5.19000e+00, ..., 2.02000e+01,\n",
       "         3.89710e+02, 5.68000e+00],\n",
       "        [9.91655e+00, 0.00000e+00, 1.81000e+01, ..., 2.02000e+01,\n",
       "         3.38160e+02, 2.99700e+01]]),\n",
       " array([28.4, 19.6, 36.5, 21.8, 14.3, 18.2, 17.8, 29.8, 24.8, 16.1, 19.9,\n",
       "        19.4, 35.4, 27.5, 41.3, 50. , 20. , 16. , 13.3, 21.9, 15.2, 24.2,\n",
       "        13.6, 32.2, 35.2, 50. , 20.2, 50. , 48.8, 19.4, 26.7, 16.2, 22.9,\n",
       "        23.4, 19.4, 21.5, 44.8, 13.1, 14.6, 13.9, 26.6, 16.5, 20. , 13.4,\n",
       "        21.7, 20.9, 23. , 33.1, 10.2, 31.1, 43.5, 22.2, 24. , 15.4, 13.1,\n",
       "        17.8,  7.5, 31.2, 20.1, 22.3, 18.6, 27.9, 23. , 16.6, 22.2, 23.4,\n",
       "        24.7, 15.3, 50. , 19.1, 23.7, 35.4, 50. , 18.2, 23.8, 22.7, 50. ,\n",
       "         8.3, 22.8, 28.2, 10.4, 18.5, 31.6, 22. , 21. , 21.1, 19.1, 11.5,\n",
       "         7. , 19.9, 50. , 27. , 23.2, 12. , 11.9, 24.4, 50. , 24.4, 10.2,\n",
       "        21.7, 29.8, 19.8, 16.3, 17.7, 21.5, 32.7, 14.5, 22.2, 28. , 22.4,\n",
       "        19.5, 11.3, 13.4, 18.9, 18.8, 18.9, 36.1, 50. , 26.2, 33.3, 29.9,\n",
       "        50. , 28.1, 11. , 24.8, 19.3, 22.6, 21.2, 21.2, 22. , 17. , 15.6,\n",
       "        21.8, 28.7, 31.5, 42.3,  8.5, 12.6, 22.1, 45.4, 16.7, 41.7, 19. ,\n",
       "        29.4, 14.9, 20.1, 21.4, 21.2, 23.8, 18.2, 25. , 24.7, 15.6, 13.8,\n",
       "        15.2, 12.7, 33.2, 24.7, 18.7, 34.7, 43.1, 14.9, 20.5, 22.4, 21.7,\n",
       "        39.8, 18.5, 24.5, 12.5, 34.9, 19.2,  8.4, 19.9, 32.4, 20. , 16.8,\n",
       "        19.2, 32.5, 37.9, 16.2, 13.8, 20. , 23.7, 23.8, 18.4, 18.8,  8.1,\n",
       "        17.5, 12.7, 23.8, 19.5, 16.1, 50. , 22.9, 19.6, 20.3, 21.6, 22.7,\n",
       "        19.6, 16.6, 23.1, 23.3, 24.4, 20.8, 20.6, 26.4, 21.4, 14.5,  8.5,\n",
       "        14.3, 15.6, 23.9, 35.1, 17.4, 22. ,  8.8, 22.6, 23.9, 25. , 15.6,\n",
       "        13.5, 18.3, 38.7, 22.9, 48.5, 11.8, 16.8, 20.7, 24.1, 27.5, 19.4,\n",
       "        36. , 23.6, 19.6, 24.8, 10.4, 20.8, 21. , 23.2,  7.2, 25.1, 20.2,\n",
       "        17.1, 24.8, 29. , 23.9, 31. , 17.5, 10.9, 20.1, 25. , 18.1, 23.9,\n",
       "        13.8, 13.6, 29.1, 19.1, 26.4, 30.8, 24.6, 29.6, 19.7, 37. , 37.3,\n",
       "        10.5, 18.9, 11.7, 30.5, 17.9, 22.2, 12.1, 17.2, 22.6, 21.7, 10.2,\n",
       "        16.4, 19.4, 20.5, 20.8, 24.5, 21. , 14.4, 36.4, 19.3, 14.8, 29. ,\n",
       "        18.7, 20.9, 20.6, 23.1, 23.2, 25. , 22. , 50. , 18.7, 13.8,  7.2,\n",
       "        32.9, 13.4, 17.2, 34.9, 16.7, 19.1, 33.2, 19.7, 19.6, 21.4, 14.9,\n",
       "        23.1, 23.5, 37.6, 13. , 50. , 17.2, 30.1, 30.1,  8.7, 32. , 19.8,\n",
       "        18.5,  8.4, 20.6, 18.3, 17.1, 16.5, 20.4, 13.4, 24.6, 15. , 20.3,\n",
       "        50. , 20.6, 20.3,  5.6, 20.4, 14.2, 23.3, 31.5, 20.3, 18.4, 31.6,\n",
       "        21.9, 17.6, 12.3, 13.1, 50. , 30.1, 17.8, 27.5, 22. , 12.7, 19.3,\n",
       "        11.8, 44. , 20.4, 23.9, 17.8, 22.6, 18. , 34.6, 15.6, 20. , 22.5,\n",
       "        19.5, 21.2, 42.8, 17.1, 21.7, 25. , 33.1, 22.5,  9.7, 33. , 17.8,\n",
       "        23.7, 25. , 14.4, 34.9, 20.4, 15.2, 23.3, 24. , 27.1, 21.7, 28.4,\n",
       "        12.8, 19.5, 23.1, 46. , 22.3,  7.4, 20.7, 18.4, 21.2, 23.3, 10.9,\n",
       "        23. , 21.9, 22.8, 19. , 21.7, 18.5, 50. , 16.1]),\n",
       " array([ 5. , 10.8, 23.2, 22. , 24.4, 29.1, 14.1, 14.6, 33.4, 17.4, 28.7,\n",
       "        26.6, 28.6, 27.1, 30.3,  8.3, 25.2, 13.3, 25.3, 22.8, 20.1, 28.5,\n",
       "        33.4, 26.6, 14.1, 11.7, 24.3, 48.3, 19.3, 13.5, 15.4, 46.7, 23. ,\n",
       "        17.4, 29.6,  8.8, 21.1, 15.7, 13.8, 13.3, 27.9, 22. ,  7. , 31.7,\n",
       "        21.4,  7.2, 20.5, 13.1, 21.4, 19.4, 23.1, 22.9, 24.3, 23.1, 25. ,\n",
       "        24.1, 23.7, 22.6, 27.5, 20.6, 23.6, 33.8, 18.6, 14. , 22.8, 19.3,\n",
       "        36.2, 19.9, 20.1, 15.1, 19.8, 17.3, 24.3, 15. , 24.1, 43.8, 32. ,\n",
       "        14.1, 21.6, 17.5, 25. , 22.5,  9.6, 13.2, 37.2, 11.9,  9.5, 26.5,\n",
       "        23.1,  5. , 30.7, 10.5, 20.6, 15. , 18.9, 13.9, 14.5, 36.2, 24.5,\n",
       "        28.7, 22.2,  6.3]))"
      ]
     },
     "execution_count": 29,
     "metadata": {},
     "output_type": "execute_result"
    }
   ],
   "source": [
    "x_train, x_test, y_train, y_test"
   ]
  },
  {
   "cell_type": "code",
   "execution_count": 30,
   "metadata": {
    "ExecuteTime": {
     "end_time": "2019-06-22T05:30:48.424632Z",
     "start_time": "2019-06-22T05:30:48.419861Z"
    }
   },
   "outputs": [],
   "source": [
    "# 3.特征工程 标准化\n",
    "transfer = StandardScaler()\n",
    "x_train = transfer.fit_transform(x_train)\n",
    "x_test = transfer.transform(x_test)"
   ]
  },
  {
   "cell_type": "code",
   "execution_count": 31,
   "metadata": {
    "ExecuteTime": {
     "end_time": "2019-06-22T05:30:49.071664Z",
     "start_time": "2019-06-22T05:30:49.065420Z"
    }
   },
   "outputs": [],
   "source": [
    "# 4.机器学习 正规方程优化\n",
    "# 4.1 实例化估计器\n",
    "estimator = LinearRegression(fit_intercept=True)"
   ]
  },
  {
   "cell_type": "code",
   "execution_count": 32,
   "metadata": {
    "ExecuteTime": {
     "end_time": "2019-06-22T05:30:49.772149Z",
     "start_time": "2019-06-22T05:30:49.768348Z"
    }
   },
   "outputs": [
    {
     "data": {
      "text/plain": [
       "LinearRegression(copy_X=True, fit_intercept=True, n_jobs=1, normalize=False)"
      ]
     },
     "execution_count": 32,
     "metadata": {},
     "output_type": "execute_result"
    }
   ],
   "source": [
    "# 4.2 训练模型\n",
    "estimator.fit(x_train, y_train)"
   ]
  },
  {
   "cell_type": "code",
   "execution_count": 33,
   "metadata": {
    "ExecuteTime": {
     "end_time": "2019-06-22T05:30:50.433780Z",
     "start_time": "2019-06-22T05:30:50.430017Z"
    }
   },
   "outputs": [],
   "source": [
    "# 5.模型评估 MSE 均方误差"
   ]
  },
  {
   "cell_type": "code",
   "execution_count": 34,
   "metadata": {
    "ExecuteTime": {
     "end_time": "2019-06-22T05:30:51.117989Z",
     "start_time": "2019-06-22T05:30:51.110046Z"
    }
   },
   "outputs": [
    {
     "name": "stdout",
     "output_type": "stream",
     "text": [
      "预测值为:\n",
      " [ 9.48759214 11.79812873 25.25418861 29.27566197 23.78956833 30.77497306\n",
      " 17.89130187 19.92037793 28.09598659 16.16444491 30.71327379 27.62623309\n",
      " 28.5360294  19.58607731 33.30303246 13.52163807 27.09826173 16.88389963\n",
      " 24.62787338 28.7020182  23.91176413 34.31727369 36.2756337  21.56682997\n",
      " 16.00855229 16.28345059 24.41912354 37.53874242 20.27514407 13.57436296\n",
      " 18.46021817 35.43509195 24.01366806 16.96529183 24.34394592  3.56237987\n",
      " 22.30924519 15.59249748  6.65432527 21.02439081 32.64651561 27.56085837\n",
      "  8.52453826 33.54200548 23.99347743  8.56795179 19.72232867 16.7195844\n",
      " 23.393886   23.36201804 24.60188172 19.8456725  19.58293479 22.9274607\n",
      " 29.34218735 25.3164616  27.80622671 26.93898072 13.96291413 21.57148811\n",
      " 30.68061361 35.09430879 16.14740338 13.99910955 24.23351254 21.69571693\n",
      " 27.52995443 20.71520436 16.16804268 17.52521785 22.77265732 17.36617389\n",
      " 29.62297303 26.2976143  20.04692882 35.07925893 34.32269438 19.56972645\n",
      " 24.96191048 15.61639672 25.87436358 29.2881089  14.82763613  8.56076157\n",
      " 32.91609457  8.51896783 13.53203693 25.54339994 24.20618996  7.41519641\n",
      " 31.51364573  6.59813564 21.58089867 16.43232073 21.45078985 12.97007435\n",
      " 13.61748804 27.66148677 27.77226186 28.76421657 21.36482833 11.29514842]\n",
      "模型中的系数为:\n",
      " [-0.75604545  1.44698124  0.48006061  0.67713691 -2.52034877  2.81860592\n",
      "  0.18926281 -3.32039644  2.91104967 -2.24815743 -2.20014742  0.89069983\n",
      " -3.61086782]\n",
      "模型中的偏置为:\n",
      " 22.821534653465395\n"
     ]
    },
    {
     "data": {
      "text/plain": [
       "19.24543449255445"
      ]
     },
     "execution_count": 34,
     "metadata": {},
     "output_type": "execute_result"
    }
   ],
   "source": [
    "# 5.1 获取预测值\n",
    "y_predict = estimator.predict(x_test)\n",
    "print(\"预测值为:\\n\", y_predict)\n",
    "print(\"模型中的系数为:\\n\", estimator.coef_)\n",
    "print(\"模型中的偏置为:\\n\", estimator.intercept_)\n",
    "mean_squared_error(y_pred=y_predict, y_true=y_test)  # y_pred 预测值，y_true 真实值"
   ]
  },
  {
   "cell_type": "markdown",
   "metadata": {},
   "source": [
    "# 梯度下降的线性回归"
   ]
  },
  {
   "cell_type": "code",
   "execution_count": 35,
   "metadata": {
    "ExecuteTime": {
     "end_time": "2019-06-22T05:30:52.344525Z",
     "start_time": "2019-06-22T05:30:52.336435Z"
    }
   },
   "outputs": [],
   "source": [
    "# 1.获取数据  load_boston\n",
    "data = load_boston()  # bunch字典"
   ]
  },
  {
   "cell_type": "code",
   "execution_count": 36,
   "metadata": {
    "ExecuteTime": {
     "end_time": "2019-06-22T05:30:52.941558Z",
     "start_time": "2019-06-22T05:30:52.938176Z"
    }
   },
   "outputs": [],
   "source": [
    "# 2.数据的基本处理 数据集划分\n",
    "x_train, x_test, y_train, y_test = train_test_split(data.data, data.target, test_size=0.2)"
   ]
  },
  {
   "cell_type": "code",
   "execution_count": 37,
   "metadata": {
    "ExecuteTime": {
     "end_time": "2019-06-22T05:30:53.545632Z",
     "start_time": "2019-06-22T05:30:53.540748Z"
    }
   },
   "outputs": [],
   "source": [
    "# 3.特征工程 标准化\n",
    "transfer = StandardScaler()\n",
    "x_train = transfer.fit_transform(x_train)\n",
    "x_test = transfer.transform(x_test)"
   ]
  },
  {
   "cell_type": "code",
   "execution_count": 38,
   "metadata": {
    "ExecuteTime": {
     "end_time": "2019-06-22T05:30:54.213777Z",
     "start_time": "2019-06-22T05:30:54.209079Z"
    }
   },
   "outputs": [
    {
     "data": {
      "text/plain": [
       "SGDRegressor(alpha=0.0001, average=False, epsilon=0.1, eta0=0.01,\n",
       "       fit_intercept=True, l1_ratio=0.15, learning_rate='constant',\n",
       "       loss='squared_loss', max_iter=1000, n_iter=None, penalty='l2',\n",
       "       power_t=0.25, random_state=None, shuffle=True, tol=0.001, verbose=0,\n",
       "       warm_start=False)"
      ]
     },
     "execution_count": 38,
     "metadata": {},
     "output_type": "execute_result"
    }
   ],
   "source": [
    "# 4.机器学习 正规方程优化\n",
    "# 4.1 实例化估计器\n",
    "# estimator = LinearRegression(fit_intercept=True)\n",
    "# 参数：max_iter 梯度下降的最大迭代次数， learning_rate 学习率类型, eta0 学习率值 \n",
    "# tol：每次迭代损失函数值减少的最小值 如果迭代带来的损失函数减少小于这个值，就停止迭代\n",
    "estimator = SGDRegressor(max_iter=1000, tol=0.001, learning_rate='constant', eta0=0.01)\n",
    "# 4.2 训练模型正则化\n",
    "estimator.fit(x_train, y_train)"
   ]
  },
  {
   "cell_type": "code",
   "execution_count": 39,
   "metadata": {
    "ExecuteTime": {
     "end_time": "2019-06-22T05:30:54.855790Z",
     "start_time": "2019-06-22T05:30:54.841707Z"
    }
   },
   "outputs": [
    {
     "name": "stdout",
     "output_type": "stream",
     "text": [
      "预测值为:\n",
      " [37.84037884 13.32584459 22.88378615 32.8557595  15.87046134 35.44387673\n",
      " 23.09207856 29.4034147  15.69424024 25.99205999 33.81942225 19.37986621\n",
      " 16.76576048 30.52043177  8.31082929 21.60831293 17.72163353 20.23007045\n",
      " 32.34311289 17.82181264 19.10315111 23.09567902 26.16355635 16.2382909\n",
      " 20.0269744   8.76535596 18.95555995 22.33210272 28.56367079 21.76975303\n",
      " 13.93747672 14.05739323 19.60914989 17.92171249 25.22733517 20.82636632\n",
      " 15.47308402 20.8542494  20.46187138 40.10278237 17.30440884 27.80353315\n",
      " 18.41680033 20.40906349 14.13155165 14.83559276 19.90516117 18.85152202\n",
      " 19.29176508 28.99440987 26.55172556 28.26067755 23.17124427 37.6512369\n",
      " 22.46529025 20.1038625  26.21138481 14.12844038 21.55230923 14.40941542\n",
      " 22.64286639 20.34952539  9.81741836 22.72540751 13.02668072 18.75898189\n",
      "  5.39654685 17.41295856 26.67298782 19.60771983 20.58674676 19.26341265\n",
      " 22.74750589 22.47296711 26.33388903 15.77700573 22.0927731  28.88519494\n",
      " 14.40779383 34.93168795 28.8223318  23.81229546 19.436717   20.36668728\n",
      " 16.86211269 12.95843023 26.97267727  5.94085112 28.55174031 25.30850128\n",
      " 23.10126486 15.64725091 35.40220563 28.62736068 22.73331714 20.80538313\n",
      "  8.62929138 29.39077856 22.38071994 17.39351524 15.57077891 26.03058525]\n",
      "模型中的系数为:\n",
      " [-0.95561196  1.20146328  0.3059584   0.74885779 -2.02503519  1.85490276\n",
      "  0.15833857 -3.21954129  2.36027994 -1.4878569  -1.90058298  0.91017293\n",
      " -3.81070816]\n",
      "模型中的偏置为:\n",
      " [22.32807414]\n"
     ]
    },
    {
     "data": {
      "text/plain": [
       "19.569136117150883"
      ]
     },
     "execution_count": 39,
     "metadata": {},
     "output_type": "execute_result"
    }
   ],
   "source": [
    "# 5.模型评估 MSE 均方误差\n",
    "# 5.1 获取预测值\n",
    "y_predict = estimator.predict(x_test)\n",
    "print(\"预测值为:\\n\", y_predict)\n",
    "print(\"模型中的系数为:\\n\", estimator.coef_)\n",
    "print(\"模型中的偏置为:\\n\", estimator.intercept_)\n",
    "mean_squared_error(y_pred=y_predict, y_true=y_test)  # y_pred 预测值，y_true 真实值"
   ]
  },
  {
   "cell_type": "markdown",
   "metadata": {},
   "source": [
    "# 岭回归 加入L2正则化的线性回归"
   ]
  },
  {
   "cell_type": "code",
   "execution_count": 42,
   "metadata": {
    "ExecuteTime": {
     "end_time": "2019-06-22T06:33:20.523308Z",
     "start_time": "2019-06-22T06:33:20.508683Z"
    }
   },
   "outputs": [],
   "source": [
    "# 1.获取数据  load_boston\n",
    "data = load_boston()  # bunch字典"
   ]
  },
  {
   "cell_type": "code",
   "execution_count": 43,
   "metadata": {
    "ExecuteTime": {
     "end_time": "2019-06-22T06:33:27.689807Z",
     "start_time": "2019-06-22T06:33:27.682338Z"
    }
   },
   "outputs": [],
   "source": [
    "# 2.数据的基本处理 数据集划分\n",
    "x_train, x_test, y_train, y_test = train_test_split(data.data, data.target, test_size=0.2)"
   ]
  },
  {
   "cell_type": "code",
   "execution_count": 44,
   "metadata": {
    "ExecuteTime": {
     "end_time": "2019-06-22T06:33:33.633535Z",
     "start_time": "2019-06-22T06:33:33.629425Z"
    }
   },
   "outputs": [],
   "source": [
    "# 3.特征工程 标准化\n",
    "transfer = StandardScaler()\n",
    "x_train = transfer.fit_transform(x_train)\n",
    "x_test = transfer.transform(x_test)"
   ]
  },
  {
   "cell_type": "code",
   "execution_count": 45,
   "metadata": {
    "ExecuteTime": {
     "end_time": "2019-06-22T06:33:56.103710Z",
     "start_time": "2019-06-22T06:33:56.079996Z"
    }
   },
   "outputs": [
    {
     "data": {
      "text/plain": [
       "Ridge(alpha=1.0, copy_X=True, fit_intercept=True, max_iter=None,\n",
       "   normalize=False, random_state=None, solver='auto', tol=0.001)"
      ]
     },
     "execution_count": 45,
     "metadata": {},
     "output_type": "execute_result"
    }
   ],
   "source": [
    "# 4.机器学习 正规方程优化\n",
    "# 4.1 实例化估计器\n",
    "# estimator = LinearRegression(fit_intercept=True)\n",
    "# 参数：max_iter 梯度下降的最大迭代次数， learning_rate 学习率类型, eta0 学习率值 \n",
    "# tol：每次迭代损失函数值减少的最小值 如果迭代带来的损失函数减少小于这个值，就停止迭代\n",
    "# estimator = SGDRegressor(max_iter=1000, tol=0.001, learning_rate='constant', eta0=0.01)\n",
    "estimator = Ridge(alpha=1.0)\n",
    "# 4.2 训练模型正则化\n",
    "estimator.fit(x_train, y_train)"
   ]
  },
  {
   "cell_type": "code",
   "execution_count": 47,
   "metadata": {
    "ExecuteTime": {
     "end_time": "2019-06-22T06:34:34.601454Z",
     "start_time": "2019-06-22T06:34:34.590666Z"
    }
   },
   "outputs": [
    {
     "name": "stdout",
     "output_type": "stream",
     "text": [
      "预测值为:\n",
      " [36.76384028  4.16034771 -0.61981168 -6.51069457 21.9083486  16.45610455\n",
      " 13.15756747 28.71757109 25.27449162 28.84855309 35.67871398 30.86306603\n",
      " 20.99551873 20.25509283 27.56939455 17.9056044  32.30593601 11.7254176\n",
      " 30.18375908 21.69450737 31.62909113 20.5214383  25.24436379 30.27350397\n",
      " 25.30316545 17.86998928 21.39234568 14.30379286 33.66947934  4.95637293\n",
      " 31.74217328 29.64182635 20.99705877 29.78088379 24.24272339 20.49873217\n",
      " 26.74552589 23.98565968 14.26374498 20.52467686 20.25663981 17.26695849\n",
      " 14.30506936 27.64208986 19.60977156 13.37978934 19.01127867 24.21548606\n",
      " 18.13554681 19.22095742 24.76500076 21.38863679 19.19060228 23.14209162\n",
      " 19.70052372 16.50936792 33.4710478  13.59439295 30.97002652 31.69986399\n",
      " 23.9811787  16.86982301 38.02735085 18.25469895  5.81706942  7.82706319\n",
      " 34.3443454  17.6552043  33.98524529 23.66213851 16.54531454 18.52376858\n",
      " 23.49617562 22.54554748 25.27654103 19.59382613 25.83880973 40.6518766\n",
      " 10.93776476 26.16556807 28.94516941 20.30379327 22.93918553 25.57399046\n",
      " 19.23188668 23.44017284 30.22966212 27.678609   30.11093089 28.71478667\n",
      " 23.0530956  19.65204448 28.49558409 20.28135742 18.56040507 20.3128059\n",
      " 24.06281538 19.06412354 19.1840554  39.85409715 32.52877908 16.1495215 ]\n",
      "模型中的系数为:\n",
      " [-1.1254816   1.11253302  0.39386357  0.81505842 -1.96006702  2.46857085\n",
      "  0.20882489 -3.10788065  3.01266977 -2.50852208 -2.08312706  0.91149196\n",
      " -4.39674633]\n",
      "模型中的偏置为:\n",
      " 22.62400990099015\n"
     ]
    },
    {
     "data": {
      "text/plain": [
       "19.277130509138736"
      ]
     },
     "execution_count": 47,
     "metadata": {},
     "output_type": "execute_result"
    }
   ],
   "source": [
    "# 5.模型评估 MSE 均方误差\n",
    "# 5.1 获取预测值\n",
    "y_predict = estimator.predict(x_test)\n",
    "print(\"预测值为:\\n\", y_predict)\n",
    "print(\"模型中的系数为:\\n\", estimator.coef_)\n",
    "print(\"模型中的偏置为:\\n\", estimator.intercept_)\n",
    "mean_squared_error(y_pred=y_predict, y_true=y_test)  # y_pred 预测值，y_true 真实值"
   ]
  },
  {
   "cell_type": "markdown",
   "metadata": {},
   "source": [
    "# 模型的保存和加载"
   ]
  },
  {
   "cell_type": "code",
   "execution_count": 48,
   "metadata": {
    "ExecuteTime": {
     "end_time": "2019-06-22T06:45:34.712485Z",
     "start_time": "2019-06-22T06:45:34.687151Z"
    }
   },
   "outputs": [
    {
     "data": {
      "text/plain": [
       "Ridge(alpha=1.0, copy_X=True, fit_intercept=True, max_iter=None,\n",
       "   normalize=False, random_state=None, solver='auto', tol=0.001)"
      ]
     },
     "execution_count": 48,
     "metadata": {},
     "output_type": "execute_result"
    }
   ],
   "source": [
    "# 1.获取数据  load_boston\n",
    "data = load_boston()  # bunch字典\n",
    "\n",
    "# 2.数据的基本处理 数据集划分\n",
    "x_train, x_test, y_train, y_test = train_test_split(data.data, data.target, test_size=0.2)\n",
    "\n",
    "# 3.特征工程 标准化\n",
    "transfer = StandardScaler()\n",
    "x_train = transfer.fit_transform(x_train)\n",
    "x_test = transfer.transform(x_test)\n",
    "\n",
    "# 4.机器学习 正规方程优化\n",
    "# 4.1 实例化估计器\n",
    "# estimator = LinearRegression(fit_intercept=True)\n",
    "# 参数：max_iter 梯度下降的最大迭代次数， learning_rate 学习率类型, eta0 学习率值 \n",
    "# tol：每次迭代损失函数值减少的最小值 如果迭代带来的损失函数减少小于这个值，就停止迭代\n",
    "# estimator = SGDRegressor(max_iter=1000, tol=0.001, learning_rate='constant', eta0=0.01)\n",
    "estimator = Ridge(alpha=1.0)\n",
    "# 4.2 训练模型正则化\n",
    "estimator.fit(x_train, y_train)"
   ]
  },
  {
   "cell_type": "code",
   "execution_count": 50,
   "metadata": {
    "ExecuteTime": {
     "end_time": "2019-06-22T06:45:59.244045Z",
     "start_time": "2019-06-22T06:45:59.237246Z"
    }
   },
   "outputs": [
    {
     "data": {
      "text/plain": [
       "['./test.pkl']"
      ]
     },
     "execution_count": 50,
     "metadata": {},
     "output_type": "execute_result"
    }
   ],
   "source": [
    "# 保存模型\n",
    "joblib.dump(estimator, './test.pkl') # 参数：模型对象， 保存的路径"
   ]
  },
  {
   "cell_type": "code",
   "execution_count": 51,
   "metadata": {
    "ExecuteTime": {
     "end_time": "2019-06-22T06:45:59.746850Z",
     "start_time": "2019-06-22T06:45:59.740607Z"
    }
   },
   "outputs": [],
   "source": [
    "# 加载模型\n",
    "estimator_load = joblib.load('./test.pkl') # 模型文件路径"
   ]
  },
  {
   "cell_type": "code",
   "execution_count": 52,
   "metadata": {
    "ExecuteTime": {
     "end_time": "2019-06-22T06:46:13.016783Z",
     "start_time": "2019-06-22T06:46:13.012019Z"
    }
   },
   "outputs": [
    {
     "data": {
      "text/plain": [
       "19.343355479091198"
      ]
     },
     "execution_count": 52,
     "metadata": {},
     "output_type": "execute_result"
    }
   ],
   "source": [
    "# 5.模型评估 MSE 均方误差\n",
    "# 5.1 获取预测值\n",
    "y_predict = estimator.predict(x_test)\n",
    "mean_squared_error(y_pred=y_predict, y_true=y_test)  # y_pred 预测值，y_true 真实值"
   ]
  },
  {
   "cell_type": "code",
   "execution_count": null,
   "metadata": {},
   "outputs": [],
   "source": []
  }
 ],
 "metadata": {
  "kernelspec": {
   "display_name": "Python 3",
   "language": "python",
   "name": "python3"
  },
  "language_info": {
   "codemirror_mode": {
    "name": "ipython",
    "version": 3
   },
   "file_extension": ".py",
   "mimetype": "text/x-python",
   "name": "python",
   "nbconvert_exporter": "python",
   "pygments_lexer": "ipython3",
   "version": "3.6.8"
  },
  "toc": {
   "base_numbering": 1,
   "nav_menu": {},
   "number_sections": true,
   "sideBar": true,
   "skip_h1_title": false,
   "title_cell": "Table of Contents",
   "title_sidebar": "Contents",
   "toc_cell": false,
   "toc_position": {},
   "toc_section_display": true,
   "toc_window_display": false
  },
  "varInspector": {
   "cols": {
    "lenName": 16,
    "lenType": 16,
    "lenVar": 40
   },
   "kernels_config": {
    "python": {
     "delete_cmd_postfix": "",
     "delete_cmd_prefix": "del ",
     "library": "var_list.py",
     "varRefreshCmd": "print(var_dic_list())"
    },
    "r": {
     "delete_cmd_postfix": ") ",
     "delete_cmd_prefix": "rm(",
     "library": "var_list.r",
     "varRefreshCmd": "cat(var_dic_list()) "
    }
   },
   "types_to_exclude": [
    "module",
    "function",
    "builtin_function_or_method",
    "instance",
    "_Feature"
   ],
   "window_display": false
  }
 },
 "nbformat": 4,
 "nbformat_minor": 2
}
