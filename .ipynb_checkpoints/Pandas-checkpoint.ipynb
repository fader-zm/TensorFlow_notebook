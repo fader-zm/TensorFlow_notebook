{
 "cells": [
  {
   "cell_type": "markdown",
   "metadata": {},
   "source": [
    "# Pandas 基础"
   ]
  },
  {
   "cell_type": "markdown",
   "metadata": {},
   "source": [
    "## Pandas介绍"
   ]
  },
  {
   "cell_type": "code",
   "execution_count": null,
   "metadata": {},
   "outputs": [],
   "source": [
    "1. Pandas是什么?\n",
    "Pandas是一个处理数据集数据的工具, 主要用于数据挖掘数据分析的开源Python库\n",
    "2. 为什么要用Pandas?\n",
    "便捷的数据处理能力\n",
    "文件读取方便\n",
    "封装了Matplotlib, Numpy的画图和计算"
   ]
  },
  {
   "cell_type": "code",
   "execution_count": 2,
   "metadata": {
    "ExecuteTime": {
     "end_time": "2019-06-18T12:43:13.069032Z",
     "start_time": "2019-06-18T12:43:13.067232Z"
    }
   },
   "outputs": [],
   "source": [
    "import pandas as pd\n",
    "import numpy as np"
   ]
  },
  {
   "cell_type": "code",
   "execution_count": 4,
   "metadata": {
    "ExecuteTime": {
     "end_time": "2019-06-18T12:45:08.333397Z",
     "start_time": "2019-06-18T12:45:08.331213Z"
    }
   },
   "outputs": [],
   "source": [
    "# 创建一个符合正太分布的10个股票5天的涨跌幅数据\n",
    "stock_change = np.random.normal(size=[5, 10])"
   ]
  },
  {
   "cell_type": "code",
   "execution_count": 5,
   "metadata": {
    "ExecuteTime": {
     "end_time": "2019-06-18T12:45:13.447787Z",
     "start_time": "2019-06-18T12:45:13.429444Z"
    }
   },
   "outputs": [
    {
     "data": {
      "text/plain": [
       "array([[ 0.58492236,  1.0101665 , -0.3118005 ,  0.06072774,  1.10799563,\n",
       "         0.94912017,  0.98321197,  0.35675636, -0.08948141,  0.6347561 ],\n",
       "       [-1.58403794, -0.89154092,  1.50898111,  0.29757664,  2.16962742,\n",
       "        -0.7309496 , -1.30943339, -0.20546413,  0.83062146,  0.78713435],\n",
       "       [-0.46515407, -0.59774187,  2.32272976, -1.75546909, -0.29251869,\n",
       "         1.82401712, -0.5068828 , -0.01688685,  0.10158242, -1.45084551],\n",
       "       [ 0.67993544,  0.50317744, -0.01841426,  0.24230992,  1.52566273,\n",
       "        -0.06598317, -0.02993126, -0.77715483, -0.481756  , -0.02645341],\n",
       "       [-0.38904838, -0.19589413,  0.25388573, -0.37432188, -1.27808778,\n",
       "        -0.1798515 , -1.82449728,  1.49776239,  0.17031915,  0.0423508 ]])"
      ]
     },
     "execution_count": 5,
     "metadata": {},
     "output_type": "execute_result"
    }
   ],
   "source": [
    "stock_change"
   ]
  },
  {
   "cell_type": "code",
   "execution_count": 6,
   "metadata": {
    "ExecuteTime": {
     "end_time": "2019-06-18T12:49:35.164324Z",
     "start_time": "2019-06-18T12:49:35.161145Z"
    }
   },
   "outputs": [],
   "source": [
    "# 使用Pandas中的数据结构\n",
    "stock_day_rise = pd.DataFrame(stock_change)"
   ]
  },
  {
   "cell_type": "code",
   "execution_count": 7,
   "metadata": {
    "ExecuteTime": {
     "end_time": "2019-06-18T12:49:43.163679Z",
     "start_time": "2019-06-18T12:49:43.141305Z"
    }
   },
   "outputs": [
    {
     "data": {
      "text/html": [
       "<div>\n",
       "<style>\n",
       "    .dataframe thead tr:only-child th {\n",
       "        text-align: right;\n",
       "    }\n",
       "\n",
       "    .dataframe thead th {\n",
       "        text-align: left;\n",
       "    }\n",
       "\n",
       "    .dataframe tbody tr th {\n",
       "        vertical-align: top;\n",
       "    }\n",
       "</style>\n",
       "<table border=\"1\" class=\"dataframe\">\n",
       "  <thead>\n",
       "    <tr style=\"text-align: right;\">\n",
       "      <th></th>\n",
       "      <th>0</th>\n",
       "      <th>1</th>\n",
       "      <th>2</th>\n",
       "      <th>3</th>\n",
       "      <th>4</th>\n",
       "      <th>5</th>\n",
       "      <th>6</th>\n",
       "      <th>7</th>\n",
       "      <th>8</th>\n",
       "      <th>9</th>\n",
       "    </tr>\n",
       "  </thead>\n",
       "  <tbody>\n",
       "    <tr>\n",
       "      <th>0</th>\n",
       "      <td>0.584922</td>\n",
       "      <td>1.010166</td>\n",
       "      <td>-0.311800</td>\n",
       "      <td>0.060728</td>\n",
       "      <td>1.107996</td>\n",
       "      <td>0.949120</td>\n",
       "      <td>0.983212</td>\n",
       "      <td>0.356756</td>\n",
       "      <td>-0.089481</td>\n",
       "      <td>0.634756</td>\n",
       "    </tr>\n",
       "    <tr>\n",
       "      <th>1</th>\n",
       "      <td>-1.584038</td>\n",
       "      <td>-0.891541</td>\n",
       "      <td>1.508981</td>\n",
       "      <td>0.297577</td>\n",
       "      <td>2.169627</td>\n",
       "      <td>-0.730950</td>\n",
       "      <td>-1.309433</td>\n",
       "      <td>-0.205464</td>\n",
       "      <td>0.830621</td>\n",
       "      <td>0.787134</td>\n",
       "    </tr>\n",
       "    <tr>\n",
       "      <th>2</th>\n",
       "      <td>-0.465154</td>\n",
       "      <td>-0.597742</td>\n",
       "      <td>2.322730</td>\n",
       "      <td>-1.755469</td>\n",
       "      <td>-0.292519</td>\n",
       "      <td>1.824017</td>\n",
       "      <td>-0.506883</td>\n",
       "      <td>-0.016887</td>\n",
       "      <td>0.101582</td>\n",
       "      <td>-1.450846</td>\n",
       "    </tr>\n",
       "    <tr>\n",
       "      <th>3</th>\n",
       "      <td>0.679935</td>\n",
       "      <td>0.503177</td>\n",
       "      <td>-0.018414</td>\n",
       "      <td>0.242310</td>\n",
       "      <td>1.525663</td>\n",
       "      <td>-0.065983</td>\n",
       "      <td>-0.029931</td>\n",
       "      <td>-0.777155</td>\n",
       "      <td>-0.481756</td>\n",
       "      <td>-0.026453</td>\n",
       "    </tr>\n",
       "    <tr>\n",
       "      <th>4</th>\n",
       "      <td>-0.389048</td>\n",
       "      <td>-0.195894</td>\n",
       "      <td>0.253886</td>\n",
       "      <td>-0.374322</td>\n",
       "      <td>-1.278088</td>\n",
       "      <td>-0.179852</td>\n",
       "      <td>-1.824497</td>\n",
       "      <td>1.497762</td>\n",
       "      <td>0.170319</td>\n",
       "      <td>0.042351</td>\n",
       "    </tr>\n",
       "  </tbody>\n",
       "</table>\n",
       "</div>"
      ],
      "text/plain": [
       "          0         1         2         3         4         5         6  \\\n",
       "0  0.584922  1.010166 -0.311800  0.060728  1.107996  0.949120  0.983212   \n",
       "1 -1.584038 -0.891541  1.508981  0.297577  2.169627 -0.730950 -1.309433   \n",
       "2 -0.465154 -0.597742  2.322730 -1.755469 -0.292519  1.824017 -0.506883   \n",
       "3  0.679935  0.503177 -0.018414  0.242310  1.525663 -0.065983 -0.029931   \n",
       "4 -0.389048 -0.195894  0.253886 -0.374322 -1.278088 -0.179852 -1.824497   \n",
       "\n",
       "          7         8         9  \n",
       "0  0.356756 -0.089481  0.634756  \n",
       "1 -0.205464  0.830621  0.787134  \n",
       "2 -0.016887  0.101582 -1.450846  \n",
       "3 -0.777155 -0.481756 -0.026453  \n",
       "4  1.497762  0.170319  0.042351  "
      ]
     },
     "execution_count": 7,
     "metadata": {},
     "output_type": "execute_result"
    }
   ],
   "source": [
    "stock_day_rise"
   ]
  },
  {
   "cell_type": "code",
   "execution_count": 9,
   "metadata": {
    "ExecuteTime": {
     "end_time": "2019-06-18T12:52:26.596578Z",
     "start_time": "2019-06-18T12:52:26.593701Z"
    }
   },
   "outputs": [],
   "source": [
    "# 构造行索引序列\n",
    "stock_code = ['股票{}'.format(i) for i in range(stock_day_rise.shape[0])]"
   ]
  },
  {
   "cell_type": "code",
   "execution_count": 12,
   "metadata": {
    "ExecuteTime": {
     "end_time": "2019-06-18T12:52:56.304570Z",
     "start_time": "2019-06-18T12:52:56.299191Z"
    }
   },
   "outputs": [
    {
     "data": {
      "text/plain": [
       "['股票0', '股票1', '股票2', '股票3', '股票4']"
      ]
     },
     "execution_count": 12,
     "metadata": {},
     "output_type": "execute_result"
    }
   ],
   "source": [
    "stock_code"
   ]
  },
  {
   "cell_type": "code",
   "execution_count": 13,
   "metadata": {
    "ExecuteTime": {
     "end_time": "2019-06-18T12:53:45.464252Z",
     "start_time": "2019-06-18T12:53:45.445348Z"
    }
   },
   "outputs": [],
   "source": [
    "# 添加行索引\n",
    "data = pd.DataFrame(stock_day_rise, index=stock_code)"
   ]
  },
  {
   "cell_type": "code",
   "execution_count": 14,
   "metadata": {
    "ExecuteTime": {
     "end_time": "2019-06-18T12:53:48.358568Z",
     "start_time": "2019-06-18T12:53:48.334389Z"
    }
   },
   "outputs": [
    {
     "data": {
      "text/html": [
       "<div>\n",
       "<style>\n",
       "    .dataframe thead tr:only-child th {\n",
       "        text-align: right;\n",
       "    }\n",
       "\n",
       "    .dataframe thead th {\n",
       "        text-align: left;\n",
       "    }\n",
       "\n",
       "    .dataframe tbody tr th {\n",
       "        vertical-align: top;\n",
       "    }\n",
       "</style>\n",
       "<table border=\"1\" class=\"dataframe\">\n",
       "  <thead>\n",
       "    <tr style=\"text-align: right;\">\n",
       "      <th></th>\n",
       "      <th>0</th>\n",
       "      <th>1</th>\n",
       "      <th>2</th>\n",
       "      <th>3</th>\n",
       "      <th>4</th>\n",
       "      <th>5</th>\n",
       "      <th>6</th>\n",
       "      <th>7</th>\n",
       "      <th>8</th>\n",
       "      <th>9</th>\n",
       "    </tr>\n",
       "  </thead>\n",
       "  <tbody>\n",
       "    <tr>\n",
       "      <th>股票0</th>\n",
       "      <td>NaN</td>\n",
       "      <td>NaN</td>\n",
       "      <td>NaN</td>\n",
       "      <td>NaN</td>\n",
       "      <td>NaN</td>\n",
       "      <td>NaN</td>\n",
       "      <td>NaN</td>\n",
       "      <td>NaN</td>\n",
       "      <td>NaN</td>\n",
       "      <td>NaN</td>\n",
       "    </tr>\n",
       "    <tr>\n",
       "      <th>股票1</th>\n",
       "      <td>NaN</td>\n",
       "      <td>NaN</td>\n",
       "      <td>NaN</td>\n",
       "      <td>NaN</td>\n",
       "      <td>NaN</td>\n",
       "      <td>NaN</td>\n",
       "      <td>NaN</td>\n",
       "      <td>NaN</td>\n",
       "      <td>NaN</td>\n",
       "      <td>NaN</td>\n",
       "    </tr>\n",
       "    <tr>\n",
       "      <th>股票2</th>\n",
       "      <td>NaN</td>\n",
       "      <td>NaN</td>\n",
       "      <td>NaN</td>\n",
       "      <td>NaN</td>\n",
       "      <td>NaN</td>\n",
       "      <td>NaN</td>\n",
       "      <td>NaN</td>\n",
       "      <td>NaN</td>\n",
       "      <td>NaN</td>\n",
       "      <td>NaN</td>\n",
       "    </tr>\n",
       "    <tr>\n",
       "      <th>股票3</th>\n",
       "      <td>NaN</td>\n",
       "      <td>NaN</td>\n",
       "      <td>NaN</td>\n",
       "      <td>NaN</td>\n",
       "      <td>NaN</td>\n",
       "      <td>NaN</td>\n",
       "      <td>NaN</td>\n",
       "      <td>NaN</td>\n",
       "      <td>NaN</td>\n",
       "      <td>NaN</td>\n",
       "    </tr>\n",
       "    <tr>\n",
       "      <th>股票4</th>\n",
       "      <td>NaN</td>\n",
       "      <td>NaN</td>\n",
       "      <td>NaN</td>\n",
       "      <td>NaN</td>\n",
       "      <td>NaN</td>\n",
       "      <td>NaN</td>\n",
       "      <td>NaN</td>\n",
       "      <td>NaN</td>\n",
       "      <td>NaN</td>\n",
       "      <td>NaN</td>\n",
       "    </tr>\n",
       "  </tbody>\n",
       "</table>\n",
       "</div>"
      ],
      "text/plain": [
       "      0   1   2   3   4   5   6   7   8   9\n",
       "股票0 NaN NaN NaN NaN NaN NaN NaN NaN NaN NaN\n",
       "股票1 NaN NaN NaN NaN NaN NaN NaN NaN NaN NaN\n",
       "股票2 NaN NaN NaN NaN NaN NaN NaN NaN NaN NaN\n",
       "股票3 NaN NaN NaN NaN NaN NaN NaN NaN NaN NaN\n",
       "股票4 NaN NaN NaN NaN NaN NaN NaN NaN NaN NaN"
      ]
     },
     "execution_count": 14,
     "metadata": {},
     "output_type": "execute_result"
    }
   ],
   "source": [
    "data"
   ]
  },
  {
   "cell_type": "code",
   "execution_count": 16,
   "metadata": {
    "ExecuteTime": {
     "end_time": "2019-06-18T12:58:46.266051Z",
     "start_time": "2019-06-18T12:58:46.259251Z"
    }
   },
   "outputs": [],
   "source": [
    "# 添加列索引\n",
    "# 生成一个时间序列, 略过周末非交易日\n",
    "date = pd.date_range('2019-3-21', periods=stock_day_rise.shape[1], freq='B')"
   ]
  },
  {
   "cell_type": "code",
   "execution_count": 17,
   "metadata": {
    "ExecuteTime": {
     "end_time": "2019-06-18T12:58:54.497059Z",
     "start_time": "2019-06-18T12:58:54.484602Z"
    }
   },
   "outputs": [
    {
     "data": {
      "text/plain": [
       "DatetimeIndex(['2019-03-21', '2019-03-22', '2019-03-25', '2019-03-26',\n",
       "               '2019-03-27', '2019-03-28', '2019-03-29', '2019-04-01',\n",
       "               '2019-04-02', '2019-04-03'],\n",
       "              dtype='datetime64[ns]', freq='B')"
      ]
     },
     "execution_count": 17,
     "metadata": {},
     "output_type": "execute_result"
    }
   ],
   "source": [
    "date"
   ]
  },
  {
   "cell_type": "code",
   "execution_count": 18,
   "metadata": {
    "ExecuteTime": {
     "end_time": "2019-06-18T13:00:06.537400Z",
     "start_time": "2019-06-18T13:00:06.535141Z"
    }
   },
   "outputs": [],
   "source": [
    "# index代表行索引, columns代表列索引\n",
    "data = pd.DataFrame(stock_change, index=stock_code, columns=date)"
   ]
  },
  {
   "cell_type": "code",
   "execution_count": 19,
   "metadata": {
    "ExecuteTime": {
     "end_time": "2019-06-18T13:00:08.965403Z",
     "start_time": "2019-06-18T13:00:08.927537Z"
    }
   },
   "outputs": [
    {
     "data": {
      "text/html": [
       "<div>\n",
       "<style>\n",
       "    .dataframe thead tr:only-child th {\n",
       "        text-align: right;\n",
       "    }\n",
       "\n",
       "    .dataframe thead th {\n",
       "        text-align: left;\n",
       "    }\n",
       "\n",
       "    .dataframe tbody tr th {\n",
       "        vertical-align: top;\n",
       "    }\n",
       "</style>\n",
       "<table border=\"1\" class=\"dataframe\">\n",
       "  <thead>\n",
       "    <tr style=\"text-align: right;\">\n",
       "      <th></th>\n",
       "      <th>2019-03-21 00:00:00</th>\n",
       "      <th>2019-03-22 00:00:00</th>\n",
       "      <th>2019-03-25 00:00:00</th>\n",
       "      <th>2019-03-26 00:00:00</th>\n",
       "      <th>2019-03-27 00:00:00</th>\n",
       "      <th>2019-03-28 00:00:00</th>\n",
       "      <th>2019-03-29 00:00:00</th>\n",
       "      <th>2019-04-01 00:00:00</th>\n",
       "      <th>2019-04-02 00:00:00</th>\n",
       "      <th>2019-04-03 00:00:00</th>\n",
       "    </tr>\n",
       "  </thead>\n",
       "  <tbody>\n",
       "    <tr>\n",
       "      <th>股票0</th>\n",
       "      <td>0.584922</td>\n",
       "      <td>1.010166</td>\n",
       "      <td>-0.311800</td>\n",
       "      <td>0.060728</td>\n",
       "      <td>1.107996</td>\n",
       "      <td>0.949120</td>\n",
       "      <td>0.983212</td>\n",
       "      <td>0.356756</td>\n",
       "      <td>-0.089481</td>\n",
       "      <td>0.634756</td>\n",
       "    </tr>\n",
       "    <tr>\n",
       "      <th>股票1</th>\n",
       "      <td>-1.584038</td>\n",
       "      <td>-0.891541</td>\n",
       "      <td>1.508981</td>\n",
       "      <td>0.297577</td>\n",
       "      <td>2.169627</td>\n",
       "      <td>-0.730950</td>\n",
       "      <td>-1.309433</td>\n",
       "      <td>-0.205464</td>\n",
       "      <td>0.830621</td>\n",
       "      <td>0.787134</td>\n",
       "    </tr>\n",
       "    <tr>\n",
       "      <th>股票2</th>\n",
       "      <td>-0.465154</td>\n",
       "      <td>-0.597742</td>\n",
       "      <td>2.322730</td>\n",
       "      <td>-1.755469</td>\n",
       "      <td>-0.292519</td>\n",
       "      <td>1.824017</td>\n",
       "      <td>-0.506883</td>\n",
       "      <td>-0.016887</td>\n",
       "      <td>0.101582</td>\n",
       "      <td>-1.450846</td>\n",
       "    </tr>\n",
       "    <tr>\n",
       "      <th>股票3</th>\n",
       "      <td>0.679935</td>\n",
       "      <td>0.503177</td>\n",
       "      <td>-0.018414</td>\n",
       "      <td>0.242310</td>\n",
       "      <td>1.525663</td>\n",
       "      <td>-0.065983</td>\n",
       "      <td>-0.029931</td>\n",
       "      <td>-0.777155</td>\n",
       "      <td>-0.481756</td>\n",
       "      <td>-0.026453</td>\n",
       "    </tr>\n",
       "    <tr>\n",
       "      <th>股票4</th>\n",
       "      <td>-0.389048</td>\n",
       "      <td>-0.195894</td>\n",
       "      <td>0.253886</td>\n",
       "      <td>-0.374322</td>\n",
       "      <td>-1.278088</td>\n",
       "      <td>-0.179852</td>\n",
       "      <td>-1.824497</td>\n",
       "      <td>1.497762</td>\n",
       "      <td>0.170319</td>\n",
       "      <td>0.042351</td>\n",
       "    </tr>\n",
       "  </tbody>\n",
       "</table>\n",
       "</div>"
      ],
      "text/plain": [
       "     2019-03-21  2019-03-22  2019-03-25  2019-03-26  2019-03-27  2019-03-28  \\\n",
       "股票0    0.584922    1.010166   -0.311800    0.060728    1.107996    0.949120   \n",
       "股票1   -1.584038   -0.891541    1.508981    0.297577    2.169627   -0.730950   \n",
       "股票2   -0.465154   -0.597742    2.322730   -1.755469   -0.292519    1.824017   \n",
       "股票3    0.679935    0.503177   -0.018414    0.242310    1.525663   -0.065983   \n",
       "股票4   -0.389048   -0.195894    0.253886   -0.374322   -1.278088   -0.179852   \n",
       "\n",
       "     2019-03-29  2019-04-01  2019-04-02  2019-04-03  \n",
       "股票0    0.983212    0.356756   -0.089481    0.634756  \n",
       "股票1   -1.309433   -0.205464    0.830621    0.787134  \n",
       "股票2   -0.506883   -0.016887    0.101582   -1.450846  \n",
       "股票3   -0.029931   -0.777155   -0.481756   -0.026453  \n",
       "股票4   -1.824497    1.497762    0.170319    0.042351  "
      ]
     },
     "execution_count": 19,
     "metadata": {},
     "output_type": "execute_result"
    }
   ],
   "source": [
    "data"
   ]
  },
  {
   "cell_type": "markdown",
   "metadata": {},
   "source": [
    "### DataFrame介绍"
   ]
  },
  {
   "cell_type": "code",
   "execution_count": null,
   "metadata": {},
   "outputs": [],
   "source": [
    "DataFrame是数据容器, 二维数组\n",
    "DataFrame的结构, index行索引, columns列索引, values数据\n",
    "DataFrame的常用属性和方法\n",
    "    属性: index, columns, values, shape, T \n",
    "    方法:head(num), tail(num)"
   ]
  },
  {
   "cell_type": "code",
   "execution_count": 20,
   "metadata": {
    "ExecuteTime": {
     "end_time": "2019-06-18T13:17:59.073744Z",
     "start_time": "2019-06-18T13:17:59.064879Z"
    }
   },
   "outputs": [
    {
     "data": {
      "text/plain": [
       "(5, 10)"
      ]
     },
     "execution_count": 20,
     "metadata": {},
     "output_type": "execute_result"
    }
   ],
   "source": [
    "data.shape"
   ]
  },
  {
   "cell_type": "code",
   "execution_count": 21,
   "metadata": {
    "ExecuteTime": {
     "end_time": "2019-06-18T13:18:13.690789Z",
     "start_time": "2019-06-18T13:18:13.687777Z"
    }
   },
   "outputs": [
    {
     "data": {
      "text/plain": [
       "Index(['股票0', '股票1', '股票2', '股票3', '股票4'], dtype='object')"
      ]
     },
     "execution_count": 21,
     "metadata": {},
     "output_type": "execute_result"
    }
   ],
   "source": [
    "data.index"
   ]
  },
  {
   "cell_type": "code",
   "execution_count": 22,
   "metadata": {
    "ExecuteTime": {
     "end_time": "2019-06-18T13:18:19.143917Z",
     "start_time": "2019-06-18T13:18:19.137794Z"
    }
   },
   "outputs": [
    {
     "data": {
      "text/plain": [
       "DatetimeIndex(['2019-03-21', '2019-03-22', '2019-03-25', '2019-03-26',\n",
       "               '2019-03-27', '2019-03-28', '2019-03-29', '2019-04-01',\n",
       "               '2019-04-02', '2019-04-03'],\n",
       "              dtype='datetime64[ns]', freq='B')"
      ]
     },
     "execution_count": 22,
     "metadata": {},
     "output_type": "execute_result"
    }
   ],
   "source": [
    "data.columns"
   ]
  },
  {
   "cell_type": "code",
   "execution_count": 23,
   "metadata": {
    "ExecuteTime": {
     "end_time": "2019-06-18T13:18:28.441213Z",
     "start_time": "2019-06-18T13:18:28.416724Z"
    }
   },
   "outputs": [
    {
     "data": {
      "text/html": [
       "<div>\n",
       "<style>\n",
       "    .dataframe thead tr:only-child th {\n",
       "        text-align: right;\n",
       "    }\n",
       "\n",
       "    .dataframe thead th {\n",
       "        text-align: left;\n",
       "    }\n",
       "\n",
       "    .dataframe tbody tr th {\n",
       "        vertical-align: top;\n",
       "    }\n",
       "</style>\n",
       "<table border=\"1\" class=\"dataframe\">\n",
       "  <thead>\n",
       "    <tr style=\"text-align: right;\">\n",
       "      <th></th>\n",
       "      <th>股票0</th>\n",
       "      <th>股票1</th>\n",
       "      <th>股票2</th>\n",
       "      <th>股票3</th>\n",
       "      <th>股票4</th>\n",
       "    </tr>\n",
       "  </thead>\n",
       "  <tbody>\n",
       "    <tr>\n",
       "      <th>2019-03-21</th>\n",
       "      <td>0.584922</td>\n",
       "      <td>-1.584038</td>\n",
       "      <td>-0.465154</td>\n",
       "      <td>0.679935</td>\n",
       "      <td>-0.389048</td>\n",
       "    </tr>\n",
       "    <tr>\n",
       "      <th>2019-03-22</th>\n",
       "      <td>1.010166</td>\n",
       "      <td>-0.891541</td>\n",
       "      <td>-0.597742</td>\n",
       "      <td>0.503177</td>\n",
       "      <td>-0.195894</td>\n",
       "    </tr>\n",
       "    <tr>\n",
       "      <th>2019-03-25</th>\n",
       "      <td>-0.311800</td>\n",
       "      <td>1.508981</td>\n",
       "      <td>2.322730</td>\n",
       "      <td>-0.018414</td>\n",
       "      <td>0.253886</td>\n",
       "    </tr>\n",
       "    <tr>\n",
       "      <th>2019-03-26</th>\n",
       "      <td>0.060728</td>\n",
       "      <td>0.297577</td>\n",
       "      <td>-1.755469</td>\n",
       "      <td>0.242310</td>\n",
       "      <td>-0.374322</td>\n",
       "    </tr>\n",
       "    <tr>\n",
       "      <th>2019-03-27</th>\n",
       "      <td>1.107996</td>\n",
       "      <td>2.169627</td>\n",
       "      <td>-0.292519</td>\n",
       "      <td>1.525663</td>\n",
       "      <td>-1.278088</td>\n",
       "    </tr>\n",
       "    <tr>\n",
       "      <th>2019-03-28</th>\n",
       "      <td>0.949120</td>\n",
       "      <td>-0.730950</td>\n",
       "      <td>1.824017</td>\n",
       "      <td>-0.065983</td>\n",
       "      <td>-0.179852</td>\n",
       "    </tr>\n",
       "    <tr>\n",
       "      <th>2019-03-29</th>\n",
       "      <td>0.983212</td>\n",
       "      <td>-1.309433</td>\n",
       "      <td>-0.506883</td>\n",
       "      <td>-0.029931</td>\n",
       "      <td>-1.824497</td>\n",
       "    </tr>\n",
       "    <tr>\n",
       "      <th>2019-04-01</th>\n",
       "      <td>0.356756</td>\n",
       "      <td>-0.205464</td>\n",
       "      <td>-0.016887</td>\n",
       "      <td>-0.777155</td>\n",
       "      <td>1.497762</td>\n",
       "    </tr>\n",
       "    <tr>\n",
       "      <th>2019-04-02</th>\n",
       "      <td>-0.089481</td>\n",
       "      <td>0.830621</td>\n",
       "      <td>0.101582</td>\n",
       "      <td>-0.481756</td>\n",
       "      <td>0.170319</td>\n",
       "    </tr>\n",
       "    <tr>\n",
       "      <th>2019-04-03</th>\n",
       "      <td>0.634756</td>\n",
       "      <td>0.787134</td>\n",
       "      <td>-1.450846</td>\n",
       "      <td>-0.026453</td>\n",
       "      <td>0.042351</td>\n",
       "    </tr>\n",
       "  </tbody>\n",
       "</table>\n",
       "</div>"
      ],
      "text/plain": [
       "                 股票0       股票1       股票2       股票3       股票4\n",
       "2019-03-21  0.584922 -1.584038 -0.465154  0.679935 -0.389048\n",
       "2019-03-22  1.010166 -0.891541 -0.597742  0.503177 -0.195894\n",
       "2019-03-25 -0.311800  1.508981  2.322730 -0.018414  0.253886\n",
       "2019-03-26  0.060728  0.297577 -1.755469  0.242310 -0.374322\n",
       "2019-03-27  1.107996  2.169627 -0.292519  1.525663 -1.278088\n",
       "2019-03-28  0.949120 -0.730950  1.824017 -0.065983 -0.179852\n",
       "2019-03-29  0.983212 -1.309433 -0.506883 -0.029931 -1.824497\n",
       "2019-04-01  0.356756 -0.205464 -0.016887 -0.777155  1.497762\n",
       "2019-04-02 -0.089481  0.830621  0.101582 -0.481756  0.170319\n",
       "2019-04-03  0.634756  0.787134 -1.450846 -0.026453  0.042351"
      ]
     },
     "execution_count": 23,
     "metadata": {},
     "output_type": "execute_result"
    }
   ],
   "source": [
    "data.T"
   ]
  },
  {
   "cell_type": "code",
   "execution_count": 24,
   "metadata": {
    "ExecuteTime": {
     "end_time": "2019-06-18T13:18:45.217753Z",
     "start_time": "2019-06-18T13:18:45.211615Z"
    }
   },
   "outputs": [
    {
     "data": {
      "text/plain": [
       "array([[ 0.58492236,  1.0101665 , -0.3118005 ,  0.06072774,  1.10799563,\n",
       "         0.94912017,  0.98321197,  0.35675636, -0.08948141,  0.6347561 ],\n",
       "       [-1.58403794, -0.89154092,  1.50898111,  0.29757664,  2.16962742,\n",
       "        -0.7309496 , -1.30943339, -0.20546413,  0.83062146,  0.78713435],\n",
       "       [-0.46515407, -0.59774187,  2.32272976, -1.75546909, -0.29251869,\n",
       "         1.82401712, -0.5068828 , -0.01688685,  0.10158242, -1.45084551],\n",
       "       [ 0.67993544,  0.50317744, -0.01841426,  0.24230992,  1.52566273,\n",
       "        -0.06598317, -0.02993126, -0.77715483, -0.481756  , -0.02645341],\n",
       "       [-0.38904838, -0.19589413,  0.25388573, -0.37432188, -1.27808778,\n",
       "        -0.1798515 , -1.82449728,  1.49776239,  0.17031915,  0.0423508 ]])"
      ]
     },
     "execution_count": 24,
     "metadata": {},
     "output_type": "execute_result"
    }
   ],
   "source": [
    "data.values"
   ]
  },
  {
   "cell_type": "code",
   "execution_count": 26,
   "metadata": {
    "ExecuteTime": {
     "end_time": "2019-06-18T13:19:15.097696Z",
     "start_time": "2019-06-18T13:19:15.071319Z"
    }
   },
   "outputs": [
    {
     "data": {
      "text/html": [
       "<div>\n",
       "<style>\n",
       "    .dataframe thead tr:only-child th {\n",
       "        text-align: right;\n",
       "    }\n",
       "\n",
       "    .dataframe thead th {\n",
       "        text-align: left;\n",
       "    }\n",
       "\n",
       "    .dataframe tbody tr th {\n",
       "        vertical-align: top;\n",
       "    }\n",
       "</style>\n",
       "<table border=\"1\" class=\"dataframe\">\n",
       "  <thead>\n",
       "    <tr style=\"text-align: right;\">\n",
       "      <th></th>\n",
       "      <th>2019-03-21 00:00:00</th>\n",
       "      <th>2019-03-22 00:00:00</th>\n",
       "      <th>2019-03-25 00:00:00</th>\n",
       "      <th>2019-03-26 00:00:00</th>\n",
       "      <th>2019-03-27 00:00:00</th>\n",
       "      <th>2019-03-28 00:00:00</th>\n",
       "      <th>2019-03-29 00:00:00</th>\n",
       "      <th>2019-04-01 00:00:00</th>\n",
       "      <th>2019-04-02 00:00:00</th>\n",
       "      <th>2019-04-03 00:00:00</th>\n",
       "    </tr>\n",
       "  </thead>\n",
       "  <tbody>\n",
       "    <tr>\n",
       "      <th>股票0</th>\n",
       "      <td>0.584922</td>\n",
       "      <td>1.010166</td>\n",
       "      <td>-0.311800</td>\n",
       "      <td>0.060728</td>\n",
       "      <td>1.107996</td>\n",
       "      <td>0.949120</td>\n",
       "      <td>0.983212</td>\n",
       "      <td>0.356756</td>\n",
       "      <td>-0.089481</td>\n",
       "      <td>0.634756</td>\n",
       "    </tr>\n",
       "    <tr>\n",
       "      <th>股票1</th>\n",
       "      <td>-1.584038</td>\n",
       "      <td>-0.891541</td>\n",
       "      <td>1.508981</td>\n",
       "      <td>0.297577</td>\n",
       "      <td>2.169627</td>\n",
       "      <td>-0.730950</td>\n",
       "      <td>-1.309433</td>\n",
       "      <td>-0.205464</td>\n",
       "      <td>0.830621</td>\n",
       "      <td>0.787134</td>\n",
       "    </tr>\n",
       "    <tr>\n",
       "      <th>股票2</th>\n",
       "      <td>-0.465154</td>\n",
       "      <td>-0.597742</td>\n",
       "      <td>2.322730</td>\n",
       "      <td>-1.755469</td>\n",
       "      <td>-0.292519</td>\n",
       "      <td>1.824017</td>\n",
       "      <td>-0.506883</td>\n",
       "      <td>-0.016887</td>\n",
       "      <td>0.101582</td>\n",
       "      <td>-1.450846</td>\n",
       "    </tr>\n",
       "  </tbody>\n",
       "</table>\n",
       "</div>"
      ],
      "text/plain": [
       "     2019-03-21  2019-03-22  2019-03-25  2019-03-26  2019-03-27  2019-03-28  \\\n",
       "股票0    0.584922    1.010166   -0.311800    0.060728    1.107996    0.949120   \n",
       "股票1   -1.584038   -0.891541    1.508981    0.297577    2.169627   -0.730950   \n",
       "股票2   -0.465154   -0.597742    2.322730   -1.755469   -0.292519    1.824017   \n",
       "\n",
       "     2019-03-29  2019-04-01  2019-04-02  2019-04-03  \n",
       "股票0    0.983212    0.356756   -0.089481    0.634756  \n",
       "股票1   -1.309433   -0.205464    0.830621    0.787134  \n",
       "股票2   -0.506883   -0.016887    0.101582   -1.450846  "
      ]
     },
     "execution_count": 26,
     "metadata": {},
     "output_type": "execute_result"
    }
   ],
   "source": [
    "data.head(3)"
   ]
  },
  {
   "cell_type": "code",
   "execution_count": 27,
   "metadata": {
    "ExecuteTime": {
     "end_time": "2019-06-18T13:19:25.286393Z",
     "start_time": "2019-06-18T13:19:25.253088Z"
    }
   },
   "outputs": [
    {
     "data": {
      "text/html": [
       "<div>\n",
       "<style>\n",
       "    .dataframe thead tr:only-child th {\n",
       "        text-align: right;\n",
       "    }\n",
       "\n",
       "    .dataframe thead th {\n",
       "        text-align: left;\n",
       "    }\n",
       "\n",
       "    .dataframe tbody tr th {\n",
       "        vertical-align: top;\n",
       "    }\n",
       "</style>\n",
       "<table border=\"1\" class=\"dataframe\">\n",
       "  <thead>\n",
       "    <tr style=\"text-align: right;\">\n",
       "      <th></th>\n",
       "      <th>2019-03-21 00:00:00</th>\n",
       "      <th>2019-03-22 00:00:00</th>\n",
       "      <th>2019-03-25 00:00:00</th>\n",
       "      <th>2019-03-26 00:00:00</th>\n",
       "      <th>2019-03-27 00:00:00</th>\n",
       "      <th>2019-03-28 00:00:00</th>\n",
       "      <th>2019-03-29 00:00:00</th>\n",
       "      <th>2019-04-01 00:00:00</th>\n",
       "      <th>2019-04-02 00:00:00</th>\n",
       "      <th>2019-04-03 00:00:00</th>\n",
       "    </tr>\n",
       "  </thead>\n",
       "  <tbody>\n",
       "    <tr>\n",
       "      <th>股票2</th>\n",
       "      <td>-0.465154</td>\n",
       "      <td>-0.597742</td>\n",
       "      <td>2.322730</td>\n",
       "      <td>-1.755469</td>\n",
       "      <td>-0.292519</td>\n",
       "      <td>1.824017</td>\n",
       "      <td>-0.506883</td>\n",
       "      <td>-0.016887</td>\n",
       "      <td>0.101582</td>\n",
       "      <td>-1.450846</td>\n",
       "    </tr>\n",
       "    <tr>\n",
       "      <th>股票3</th>\n",
       "      <td>0.679935</td>\n",
       "      <td>0.503177</td>\n",
       "      <td>-0.018414</td>\n",
       "      <td>0.242310</td>\n",
       "      <td>1.525663</td>\n",
       "      <td>-0.065983</td>\n",
       "      <td>-0.029931</td>\n",
       "      <td>-0.777155</td>\n",
       "      <td>-0.481756</td>\n",
       "      <td>-0.026453</td>\n",
       "    </tr>\n",
       "    <tr>\n",
       "      <th>股票4</th>\n",
       "      <td>-0.389048</td>\n",
       "      <td>-0.195894</td>\n",
       "      <td>0.253886</td>\n",
       "      <td>-0.374322</td>\n",
       "      <td>-1.278088</td>\n",
       "      <td>-0.179852</td>\n",
       "      <td>-1.824497</td>\n",
       "      <td>1.497762</td>\n",
       "      <td>0.170319</td>\n",
       "      <td>0.042351</td>\n",
       "    </tr>\n",
       "  </tbody>\n",
       "</table>\n",
       "</div>"
      ],
      "text/plain": [
       "     2019-03-21  2019-03-22  2019-03-25  2019-03-26  2019-03-27  2019-03-28  \\\n",
       "股票2   -0.465154   -0.597742    2.322730   -1.755469   -0.292519    1.824017   \n",
       "股票3    0.679935    0.503177   -0.018414    0.242310    1.525663   -0.065983   \n",
       "股票4   -0.389048   -0.195894    0.253886   -0.374322   -1.278088   -0.179852   \n",
       "\n",
       "     2019-03-29  2019-04-01  2019-04-02  2019-04-03  \n",
       "股票2   -0.506883   -0.016887    0.101582   -1.450846  \n",
       "股票3   -0.029931   -0.777155   -0.481756   -0.026453  \n",
       "股票4   -1.824497    1.497762    0.170319    0.042351  "
      ]
     },
     "execution_count": 27,
     "metadata": {},
     "output_type": "execute_result"
    }
   ],
   "source": [
    "data.tail(3)"
   ]
  },
  {
   "cell_type": "code",
   "execution_count": null,
   "metadata": {},
   "outputs": [],
   "source": [
    "DataFrame的索引设置\n",
    "1. data_df.reset_index()  # 重置行索引, 默认保留旧索引, drop=True不保留旧索引\n",
    "2. data_df.index  # 直接替换行索引\n",
    "3. data_df.set_index  # 指定某行为行索引\n",
    "4. data_df = pd.DataFrame(data, index=code)  # 创建DataFrame是指定行索引或者列索引"
   ]
  },
  {
   "cell_type": "code",
   "execution_count": 28,
   "metadata": {
    "ExecuteTime": {
     "end_time": "2019-06-18T13:19:42.220086Z",
     "start_time": "2019-06-18T13:19:42.189863Z"
    }
   },
   "outputs": [
    {
     "data": {
      "text/html": [
       "<div>\n",
       "<style>\n",
       "    .dataframe thead tr:only-child th {\n",
       "        text-align: right;\n",
       "    }\n",
       "\n",
       "    .dataframe thead th {\n",
       "        text-align: left;\n",
       "    }\n",
       "\n",
       "    .dataframe tbody tr th {\n",
       "        vertical-align: top;\n",
       "    }\n",
       "</style>\n",
       "<table border=\"1\" class=\"dataframe\">\n",
       "  <thead>\n",
       "    <tr style=\"text-align: right;\">\n",
       "      <th></th>\n",
       "      <th>index</th>\n",
       "      <th>2019-03-21 00:00:00</th>\n",
       "      <th>2019-03-22 00:00:00</th>\n",
       "      <th>2019-03-25 00:00:00</th>\n",
       "      <th>2019-03-26 00:00:00</th>\n",
       "      <th>2019-03-27 00:00:00</th>\n",
       "      <th>2019-03-28 00:00:00</th>\n",
       "      <th>2019-03-29 00:00:00</th>\n",
       "      <th>2019-04-01 00:00:00</th>\n",
       "      <th>2019-04-02 00:00:00</th>\n",
       "      <th>2019-04-03 00:00:00</th>\n",
       "    </tr>\n",
       "  </thead>\n",
       "  <tbody>\n",
       "    <tr>\n",
       "      <th>0</th>\n",
       "      <td>股票0</td>\n",
       "      <td>0.584922</td>\n",
       "      <td>1.010166</td>\n",
       "      <td>-0.311800</td>\n",
       "      <td>0.060728</td>\n",
       "      <td>1.107996</td>\n",
       "      <td>0.949120</td>\n",
       "      <td>0.983212</td>\n",
       "      <td>0.356756</td>\n",
       "      <td>-0.089481</td>\n",
       "      <td>0.634756</td>\n",
       "    </tr>\n",
       "    <tr>\n",
       "      <th>1</th>\n",
       "      <td>股票1</td>\n",
       "      <td>-1.584038</td>\n",
       "      <td>-0.891541</td>\n",
       "      <td>1.508981</td>\n",
       "      <td>0.297577</td>\n",
       "      <td>2.169627</td>\n",
       "      <td>-0.730950</td>\n",
       "      <td>-1.309433</td>\n",
       "      <td>-0.205464</td>\n",
       "      <td>0.830621</td>\n",
       "      <td>0.787134</td>\n",
       "    </tr>\n",
       "    <tr>\n",
       "      <th>2</th>\n",
       "      <td>股票2</td>\n",
       "      <td>-0.465154</td>\n",
       "      <td>-0.597742</td>\n",
       "      <td>2.322730</td>\n",
       "      <td>-1.755469</td>\n",
       "      <td>-0.292519</td>\n",
       "      <td>1.824017</td>\n",
       "      <td>-0.506883</td>\n",
       "      <td>-0.016887</td>\n",
       "      <td>0.101582</td>\n",
       "      <td>-1.450846</td>\n",
       "    </tr>\n",
       "    <tr>\n",
       "      <th>3</th>\n",
       "      <td>股票3</td>\n",
       "      <td>0.679935</td>\n",
       "      <td>0.503177</td>\n",
       "      <td>-0.018414</td>\n",
       "      <td>0.242310</td>\n",
       "      <td>1.525663</td>\n",
       "      <td>-0.065983</td>\n",
       "      <td>-0.029931</td>\n",
       "      <td>-0.777155</td>\n",
       "      <td>-0.481756</td>\n",
       "      <td>-0.026453</td>\n",
       "    </tr>\n",
       "    <tr>\n",
       "      <th>4</th>\n",
       "      <td>股票4</td>\n",
       "      <td>-0.389048</td>\n",
       "      <td>-0.195894</td>\n",
       "      <td>0.253886</td>\n",
       "      <td>-0.374322</td>\n",
       "      <td>-1.278088</td>\n",
       "      <td>-0.179852</td>\n",
       "      <td>-1.824497</td>\n",
       "      <td>1.497762</td>\n",
       "      <td>0.170319</td>\n",
       "      <td>0.042351</td>\n",
       "    </tr>\n",
       "  </tbody>\n",
       "</table>\n",
       "</div>"
      ],
      "text/plain": [
       "  index  2019-03-21 00:00:00  2019-03-22 00:00:00  2019-03-25 00:00:00  \\\n",
       "0   股票0             0.584922             1.010166            -0.311800   \n",
       "1   股票1            -1.584038            -0.891541             1.508981   \n",
       "2   股票2            -0.465154            -0.597742             2.322730   \n",
       "3   股票3             0.679935             0.503177            -0.018414   \n",
       "4   股票4            -0.389048            -0.195894             0.253886   \n",
       "\n",
       "   2019-03-26 00:00:00  2019-03-27 00:00:00  2019-03-28 00:00:00  \\\n",
       "0             0.060728             1.107996             0.949120   \n",
       "1             0.297577             2.169627            -0.730950   \n",
       "2            -1.755469            -0.292519             1.824017   \n",
       "3             0.242310             1.525663            -0.065983   \n",
       "4            -0.374322            -1.278088            -0.179852   \n",
       "\n",
       "   2019-03-29 00:00:00  2019-04-01 00:00:00  2019-04-02 00:00:00  \\\n",
       "0             0.983212             0.356756            -0.089481   \n",
       "1            -1.309433            -0.205464             0.830621   \n",
       "2            -0.506883            -0.016887             0.101582   \n",
       "3            -0.029931            -0.777155            -0.481756   \n",
       "4            -1.824497             1.497762             0.170319   \n",
       "\n",
       "   2019-04-03 00:00:00  \n",
       "0             0.634756  \n",
       "1             0.787134  \n",
       "2            -1.450846  \n",
       "3            -0.026453  \n",
       "4             0.042351  "
      ]
     },
     "execution_count": 28,
     "metadata": {},
     "output_type": "execute_result"
    }
   ],
   "source": [
    "data.reset_index()"
   ]
  },
  {
   "cell_type": "code",
   "execution_count": 29,
   "metadata": {
    "ExecuteTime": {
     "end_time": "2019-06-18T13:20:13.688858Z",
     "start_time": "2019-06-18T13:20:13.644970Z"
    }
   },
   "outputs": [
    {
     "data": {
      "text/html": [
       "<div>\n",
       "<style>\n",
       "    .dataframe thead tr:only-child th {\n",
       "        text-align: right;\n",
       "    }\n",
       "\n",
       "    .dataframe thead th {\n",
       "        text-align: left;\n",
       "    }\n",
       "\n",
       "    .dataframe tbody tr th {\n",
       "        vertical-align: top;\n",
       "    }\n",
       "</style>\n",
       "<table border=\"1\" class=\"dataframe\">\n",
       "  <thead>\n",
       "    <tr style=\"text-align: right;\">\n",
       "      <th></th>\n",
       "      <th>2019-03-21 00:00:00</th>\n",
       "      <th>2019-03-22 00:00:00</th>\n",
       "      <th>2019-03-25 00:00:00</th>\n",
       "      <th>2019-03-26 00:00:00</th>\n",
       "      <th>2019-03-27 00:00:00</th>\n",
       "      <th>2019-03-28 00:00:00</th>\n",
       "      <th>2019-03-29 00:00:00</th>\n",
       "      <th>2019-04-01 00:00:00</th>\n",
       "      <th>2019-04-02 00:00:00</th>\n",
       "      <th>2019-04-03 00:00:00</th>\n",
       "    </tr>\n",
       "  </thead>\n",
       "  <tbody>\n",
       "    <tr>\n",
       "      <th>0</th>\n",
       "      <td>0.584922</td>\n",
       "      <td>1.010166</td>\n",
       "      <td>-0.311800</td>\n",
       "      <td>0.060728</td>\n",
       "      <td>1.107996</td>\n",
       "      <td>0.949120</td>\n",
       "      <td>0.983212</td>\n",
       "      <td>0.356756</td>\n",
       "      <td>-0.089481</td>\n",
       "      <td>0.634756</td>\n",
       "    </tr>\n",
       "    <tr>\n",
       "      <th>1</th>\n",
       "      <td>-1.584038</td>\n",
       "      <td>-0.891541</td>\n",
       "      <td>1.508981</td>\n",
       "      <td>0.297577</td>\n",
       "      <td>2.169627</td>\n",
       "      <td>-0.730950</td>\n",
       "      <td>-1.309433</td>\n",
       "      <td>-0.205464</td>\n",
       "      <td>0.830621</td>\n",
       "      <td>0.787134</td>\n",
       "    </tr>\n",
       "    <tr>\n",
       "      <th>2</th>\n",
       "      <td>-0.465154</td>\n",
       "      <td>-0.597742</td>\n",
       "      <td>2.322730</td>\n",
       "      <td>-1.755469</td>\n",
       "      <td>-0.292519</td>\n",
       "      <td>1.824017</td>\n",
       "      <td>-0.506883</td>\n",
       "      <td>-0.016887</td>\n",
       "      <td>0.101582</td>\n",
       "      <td>-1.450846</td>\n",
       "    </tr>\n",
       "    <tr>\n",
       "      <th>3</th>\n",
       "      <td>0.679935</td>\n",
       "      <td>0.503177</td>\n",
       "      <td>-0.018414</td>\n",
       "      <td>0.242310</td>\n",
       "      <td>1.525663</td>\n",
       "      <td>-0.065983</td>\n",
       "      <td>-0.029931</td>\n",
       "      <td>-0.777155</td>\n",
       "      <td>-0.481756</td>\n",
       "      <td>-0.026453</td>\n",
       "    </tr>\n",
       "    <tr>\n",
       "      <th>4</th>\n",
       "      <td>-0.389048</td>\n",
       "      <td>-0.195894</td>\n",
       "      <td>0.253886</td>\n",
       "      <td>-0.374322</td>\n",
       "      <td>-1.278088</td>\n",
       "      <td>-0.179852</td>\n",
       "      <td>-1.824497</td>\n",
       "      <td>1.497762</td>\n",
       "      <td>0.170319</td>\n",
       "      <td>0.042351</td>\n",
       "    </tr>\n",
       "  </tbody>\n",
       "</table>\n",
       "</div>"
      ],
      "text/plain": [
       "   2019-03-21  2019-03-22  2019-03-25  2019-03-26  2019-03-27  2019-03-28  \\\n",
       "0    0.584922    1.010166   -0.311800    0.060728    1.107996    0.949120   \n",
       "1   -1.584038   -0.891541    1.508981    0.297577    2.169627   -0.730950   \n",
       "2   -0.465154   -0.597742    2.322730   -1.755469   -0.292519    1.824017   \n",
       "3    0.679935    0.503177   -0.018414    0.242310    1.525663   -0.065983   \n",
       "4   -0.389048   -0.195894    0.253886   -0.374322   -1.278088   -0.179852   \n",
       "\n",
       "   2019-03-29  2019-04-01  2019-04-02  2019-04-03  \n",
       "0    0.983212    0.356756   -0.089481    0.634756  \n",
       "1   -1.309433   -0.205464    0.830621    0.787134  \n",
       "2   -0.506883   -0.016887    0.101582   -1.450846  \n",
       "3   -0.029931   -0.777155   -0.481756   -0.026453  \n",
       "4   -1.824497    1.497762    0.170319    0.042351  "
      ]
     },
     "execution_count": 29,
     "metadata": {},
     "output_type": "execute_result"
    }
   ],
   "source": [
    "data.reset_index(drop=True)"
   ]
  },
  {
   "cell_type": "code",
   "execution_count": 35,
   "metadata": {
    "ExecuteTime": {
     "end_time": "2019-06-18T13:23:04.393351Z",
     "start_time": "2019-06-18T13:23:04.388873Z"
    }
   },
   "outputs": [],
   "source": [
    "data.index = ['中证股{}'.format(i) for i in range(data.shape[0])]"
   ]
  },
  {
   "cell_type": "code",
   "execution_count": 36,
   "metadata": {
    "ExecuteTime": {
     "end_time": "2019-06-18T13:23:07.677870Z",
     "start_time": "2019-06-18T13:23:07.645016Z"
    }
   },
   "outputs": [
    {
     "data": {
      "text/html": [
       "<div>\n",
       "<style>\n",
       "    .dataframe thead tr:only-child th {\n",
       "        text-align: right;\n",
       "    }\n",
       "\n",
       "    .dataframe thead th {\n",
       "        text-align: left;\n",
       "    }\n",
       "\n",
       "    .dataframe tbody tr th {\n",
       "        vertical-align: top;\n",
       "    }\n",
       "</style>\n",
       "<table border=\"1\" class=\"dataframe\">\n",
       "  <thead>\n",
       "    <tr style=\"text-align: right;\">\n",
       "      <th></th>\n",
       "      <th>2019-03-21 00:00:00</th>\n",
       "      <th>2019-03-22 00:00:00</th>\n",
       "      <th>2019-03-25 00:00:00</th>\n",
       "      <th>2019-03-26 00:00:00</th>\n",
       "      <th>2019-03-27 00:00:00</th>\n",
       "      <th>2019-03-28 00:00:00</th>\n",
       "      <th>2019-03-29 00:00:00</th>\n",
       "      <th>2019-04-01 00:00:00</th>\n",
       "      <th>2019-04-02 00:00:00</th>\n",
       "      <th>2019-04-03 00:00:00</th>\n",
       "    </tr>\n",
       "  </thead>\n",
       "  <tbody>\n",
       "    <tr>\n",
       "      <th>中证股0</th>\n",
       "      <td>0.584922</td>\n",
       "      <td>1.010166</td>\n",
       "      <td>-0.311800</td>\n",
       "      <td>0.060728</td>\n",
       "      <td>1.107996</td>\n",
       "      <td>0.949120</td>\n",
       "      <td>0.983212</td>\n",
       "      <td>0.356756</td>\n",
       "      <td>-0.089481</td>\n",
       "      <td>0.634756</td>\n",
       "    </tr>\n",
       "    <tr>\n",
       "      <th>中证股1</th>\n",
       "      <td>-1.584038</td>\n",
       "      <td>-0.891541</td>\n",
       "      <td>1.508981</td>\n",
       "      <td>0.297577</td>\n",
       "      <td>2.169627</td>\n",
       "      <td>-0.730950</td>\n",
       "      <td>-1.309433</td>\n",
       "      <td>-0.205464</td>\n",
       "      <td>0.830621</td>\n",
       "      <td>0.787134</td>\n",
       "    </tr>\n",
       "    <tr>\n",
       "      <th>中证股2</th>\n",
       "      <td>-0.465154</td>\n",
       "      <td>-0.597742</td>\n",
       "      <td>2.322730</td>\n",
       "      <td>-1.755469</td>\n",
       "      <td>-0.292519</td>\n",
       "      <td>1.824017</td>\n",
       "      <td>-0.506883</td>\n",
       "      <td>-0.016887</td>\n",
       "      <td>0.101582</td>\n",
       "      <td>-1.450846</td>\n",
       "    </tr>\n",
       "    <tr>\n",
       "      <th>中证股3</th>\n",
       "      <td>0.679935</td>\n",
       "      <td>0.503177</td>\n",
       "      <td>-0.018414</td>\n",
       "      <td>0.242310</td>\n",
       "      <td>1.525663</td>\n",
       "      <td>-0.065983</td>\n",
       "      <td>-0.029931</td>\n",
       "      <td>-0.777155</td>\n",
       "      <td>-0.481756</td>\n",
       "      <td>-0.026453</td>\n",
       "    </tr>\n",
       "    <tr>\n",
       "      <th>中证股4</th>\n",
       "      <td>-0.389048</td>\n",
       "      <td>-0.195894</td>\n",
       "      <td>0.253886</td>\n",
       "      <td>-0.374322</td>\n",
       "      <td>-1.278088</td>\n",
       "      <td>-0.179852</td>\n",
       "      <td>-1.824497</td>\n",
       "      <td>1.497762</td>\n",
       "      <td>0.170319</td>\n",
       "      <td>0.042351</td>\n",
       "    </tr>\n",
       "  </tbody>\n",
       "</table>\n",
       "</div>"
      ],
      "text/plain": [
       "      2019-03-21  2019-03-22  2019-03-25  2019-03-26  2019-03-27  2019-03-28  \\\n",
       "中证股0    0.584922    1.010166   -0.311800    0.060728    1.107996    0.949120   \n",
       "中证股1   -1.584038   -0.891541    1.508981    0.297577    2.169627   -0.730950   \n",
       "中证股2   -0.465154   -0.597742    2.322730   -1.755469   -0.292519    1.824017   \n",
       "中证股3    0.679935    0.503177   -0.018414    0.242310    1.525663   -0.065983   \n",
       "中证股4   -0.389048   -0.195894    0.253886   -0.374322   -1.278088   -0.179852   \n",
       "\n",
       "      2019-03-29  2019-04-01  2019-04-02  2019-04-03  \n",
       "中证股0    0.983212    0.356756   -0.089481    0.634756  \n",
       "中证股1   -1.309433   -0.205464    0.830621    0.787134  \n",
       "中证股2   -0.506883   -0.016887    0.101582   -1.450846  \n",
       "中证股3   -0.029931   -0.777155   -0.481756   -0.026453  \n",
       "中证股4   -1.824497    1.497762    0.170319    0.042351  "
      ]
     },
     "execution_count": 36,
     "metadata": {},
     "output_type": "execute_result"
    }
   ],
   "source": [
    "data"
   ]
  },
  {
   "cell_type": "code",
   "execution_count": 37,
   "metadata": {
    "ExecuteTime": {
     "end_time": "2019-06-18T13:26:12.853497Z",
     "start_time": "2019-06-18T13:26:12.812554Z"
    }
   },
   "outputs": [
    {
     "data": {
      "text/html": [
       "<div>\n",
       "<style>\n",
       "    .dataframe thead tr:only-child th {\n",
       "        text-align: right;\n",
       "    }\n",
       "\n",
       "    .dataframe thead th {\n",
       "        text-align: left;\n",
       "    }\n",
       "\n",
       "    .dataframe tbody tr th {\n",
       "        vertical-align: top;\n",
       "    }\n",
       "</style>\n",
       "<table border=\"1\" class=\"dataframe\">\n",
       "  <thead>\n",
       "    <tr style=\"text-align: right;\">\n",
       "      <th></th>\n",
       "      <th>2019-03-22 00:00:00</th>\n",
       "      <th>2019-03-25 00:00:00</th>\n",
       "      <th>2019-03-26 00:00:00</th>\n",
       "      <th>2019-03-27 00:00:00</th>\n",
       "      <th>2019-03-28 00:00:00</th>\n",
       "      <th>2019-03-29 00:00:00</th>\n",
       "      <th>2019-04-01 00:00:00</th>\n",
       "      <th>2019-04-02 00:00:00</th>\n",
       "      <th>2019-04-03 00:00:00</th>\n",
       "    </tr>\n",
       "    <tr>\n",
       "      <th>2019-03-21 00:00:00</th>\n",
       "      <th></th>\n",
       "      <th></th>\n",
       "      <th></th>\n",
       "      <th></th>\n",
       "      <th></th>\n",
       "      <th></th>\n",
       "      <th></th>\n",
       "      <th></th>\n",
       "      <th></th>\n",
       "    </tr>\n",
       "  </thead>\n",
       "  <tbody>\n",
       "    <tr>\n",
       "      <th>0.584922</th>\n",
       "      <td>1.010166</td>\n",
       "      <td>-0.311800</td>\n",
       "      <td>0.060728</td>\n",
       "      <td>1.107996</td>\n",
       "      <td>0.949120</td>\n",
       "      <td>0.983212</td>\n",
       "      <td>0.356756</td>\n",
       "      <td>-0.089481</td>\n",
       "      <td>0.634756</td>\n",
       "    </tr>\n",
       "    <tr>\n",
       "      <th>-1.584038</th>\n",
       "      <td>-0.891541</td>\n",
       "      <td>1.508981</td>\n",
       "      <td>0.297577</td>\n",
       "      <td>2.169627</td>\n",
       "      <td>-0.730950</td>\n",
       "      <td>-1.309433</td>\n",
       "      <td>-0.205464</td>\n",
       "      <td>0.830621</td>\n",
       "      <td>0.787134</td>\n",
       "    </tr>\n",
       "    <tr>\n",
       "      <th>-0.465154</th>\n",
       "      <td>-0.597742</td>\n",
       "      <td>2.322730</td>\n",
       "      <td>-1.755469</td>\n",
       "      <td>-0.292519</td>\n",
       "      <td>1.824017</td>\n",
       "      <td>-0.506883</td>\n",
       "      <td>-0.016887</td>\n",
       "      <td>0.101582</td>\n",
       "      <td>-1.450846</td>\n",
       "    </tr>\n",
       "    <tr>\n",
       "      <th>0.679935</th>\n",
       "      <td>0.503177</td>\n",
       "      <td>-0.018414</td>\n",
       "      <td>0.242310</td>\n",
       "      <td>1.525663</td>\n",
       "      <td>-0.065983</td>\n",
       "      <td>-0.029931</td>\n",
       "      <td>-0.777155</td>\n",
       "      <td>-0.481756</td>\n",
       "      <td>-0.026453</td>\n",
       "    </tr>\n",
       "    <tr>\n",
       "      <th>-0.389048</th>\n",
       "      <td>-0.195894</td>\n",
       "      <td>0.253886</td>\n",
       "      <td>-0.374322</td>\n",
       "      <td>-1.278088</td>\n",
       "      <td>-0.179852</td>\n",
       "      <td>-1.824497</td>\n",
       "      <td>1.497762</td>\n",
       "      <td>0.170319</td>\n",
       "      <td>0.042351</td>\n",
       "    </tr>\n",
       "  </tbody>\n",
       "</table>\n",
       "</div>"
      ],
      "text/plain": [
       "                     2019-03-22  2019-03-25  2019-03-26  2019-03-27  \\\n",
       "2019-03-21 00:00:00                                                   \n",
       " 0.584922              1.010166   -0.311800    0.060728    1.107996   \n",
       "-1.584038             -0.891541    1.508981    0.297577    2.169627   \n",
       "-0.465154             -0.597742    2.322730   -1.755469   -0.292519   \n",
       " 0.679935              0.503177   -0.018414    0.242310    1.525663   \n",
       "-0.389048             -0.195894    0.253886   -0.374322   -1.278088   \n",
       "\n",
       "                     2019-03-28  2019-03-29  2019-04-01  2019-04-02  \\\n",
       "2019-03-21 00:00:00                                                   \n",
       " 0.584922              0.949120    0.983212    0.356756   -0.089481   \n",
       "-1.584038             -0.730950   -1.309433   -0.205464    0.830621   \n",
       "-0.465154              1.824017   -0.506883   -0.016887    0.101582   \n",
       " 0.679935             -0.065983   -0.029931   -0.777155   -0.481756   \n",
       "-0.389048             -0.179852   -1.824497    1.497762    0.170319   \n",
       "\n",
       "                     2019-04-03  \n",
       "2019-03-21 00:00:00              \n",
       " 0.584922              0.634756  \n",
       "-1.584038              0.787134  \n",
       "-0.465154             -1.450846  \n",
       " 0.679935             -0.026453  \n",
       "-0.389048              0.042351  "
      ]
     },
     "execution_count": 37,
     "metadata": {},
     "output_type": "execute_result"
    }
   ],
   "source": [
    "data.set_index(data.columns[0])"
   ]
  },
  {
   "cell_type": "code",
   "execution_count": 39,
   "metadata": {
    "ExecuteTime": {
     "end_time": "2019-06-18T13:27:46.106046Z",
     "start_time": "2019-06-18T13:27:46.075812Z"
    }
   },
   "outputs": [
    {
     "data": {
      "text/html": [
       "<div>\n",
       "<style>\n",
       "    .dataframe thead tr:only-child th {\n",
       "        text-align: right;\n",
       "    }\n",
       "\n",
       "    .dataframe thead th {\n",
       "        text-align: left;\n",
       "    }\n",
       "\n",
       "    .dataframe tbody tr th {\n",
       "        vertical-align: top;\n",
       "    }\n",
       "</style>\n",
       "<table border=\"1\" class=\"dataframe\">\n",
       "  <thead>\n",
       "    <tr style=\"text-align: right;\">\n",
       "      <th></th>\n",
       "      <th></th>\n",
       "      <th>2019-03-25 00:00:00</th>\n",
       "      <th>2019-03-26 00:00:00</th>\n",
       "      <th>2019-03-27 00:00:00</th>\n",
       "      <th>2019-03-28 00:00:00</th>\n",
       "      <th>2019-03-29 00:00:00</th>\n",
       "      <th>2019-04-01 00:00:00</th>\n",
       "      <th>2019-04-02 00:00:00</th>\n",
       "      <th>2019-04-03 00:00:00</th>\n",
       "    </tr>\n",
       "    <tr>\n",
       "      <th>2019-03-21 00:00:00</th>\n",
       "      <th>2019-03-22 00:00:00</th>\n",
       "      <th></th>\n",
       "      <th></th>\n",
       "      <th></th>\n",
       "      <th></th>\n",
       "      <th></th>\n",
       "      <th></th>\n",
       "      <th></th>\n",
       "      <th></th>\n",
       "    </tr>\n",
       "  </thead>\n",
       "  <tbody>\n",
       "    <tr>\n",
       "      <th>0.584922</th>\n",
       "      <th>1.010166</th>\n",
       "      <td>-0.311800</td>\n",
       "      <td>0.060728</td>\n",
       "      <td>1.107996</td>\n",
       "      <td>0.949120</td>\n",
       "      <td>0.983212</td>\n",
       "      <td>0.356756</td>\n",
       "      <td>-0.089481</td>\n",
       "      <td>0.634756</td>\n",
       "    </tr>\n",
       "    <tr>\n",
       "      <th>-1.584038</th>\n",
       "      <th>-0.891541</th>\n",
       "      <td>1.508981</td>\n",
       "      <td>0.297577</td>\n",
       "      <td>2.169627</td>\n",
       "      <td>-0.730950</td>\n",
       "      <td>-1.309433</td>\n",
       "      <td>-0.205464</td>\n",
       "      <td>0.830621</td>\n",
       "      <td>0.787134</td>\n",
       "    </tr>\n",
       "    <tr>\n",
       "      <th>-0.465154</th>\n",
       "      <th>-0.597742</th>\n",
       "      <td>2.322730</td>\n",
       "      <td>-1.755469</td>\n",
       "      <td>-0.292519</td>\n",
       "      <td>1.824017</td>\n",
       "      <td>-0.506883</td>\n",
       "      <td>-0.016887</td>\n",
       "      <td>0.101582</td>\n",
       "      <td>-1.450846</td>\n",
       "    </tr>\n",
       "    <tr>\n",
       "      <th>0.679935</th>\n",
       "      <th>0.503177</th>\n",
       "      <td>-0.018414</td>\n",
       "      <td>0.242310</td>\n",
       "      <td>1.525663</td>\n",
       "      <td>-0.065983</td>\n",
       "      <td>-0.029931</td>\n",
       "      <td>-0.777155</td>\n",
       "      <td>-0.481756</td>\n",
       "      <td>-0.026453</td>\n",
       "    </tr>\n",
       "    <tr>\n",
       "      <th>-0.389048</th>\n",
       "      <th>-0.195894</th>\n",
       "      <td>0.253886</td>\n",
       "      <td>-0.374322</td>\n",
       "      <td>-1.278088</td>\n",
       "      <td>-0.179852</td>\n",
       "      <td>-1.824497</td>\n",
       "      <td>1.497762</td>\n",
       "      <td>0.170319</td>\n",
       "      <td>0.042351</td>\n",
       "    </tr>\n",
       "  </tbody>\n",
       "</table>\n",
       "</div>"
      ],
      "text/plain": [
       "                                         2019-03-25  2019-03-26  2019-03-27  \\\n",
       "2019-03-21 00:00:00 2019-03-22 00:00:00                                       \n",
       " 0.584922            1.010166             -0.311800    0.060728    1.107996   \n",
       "-1.584038           -0.891541              1.508981    0.297577    2.169627   \n",
       "-0.465154           -0.597742              2.322730   -1.755469   -0.292519   \n",
       " 0.679935            0.503177             -0.018414    0.242310    1.525663   \n",
       "-0.389048           -0.195894              0.253886   -0.374322   -1.278088   \n",
       "\n",
       "                                         2019-03-28  2019-03-29  2019-04-01  \\\n",
       "2019-03-21 00:00:00 2019-03-22 00:00:00                                       \n",
       " 0.584922            1.010166              0.949120    0.983212    0.356756   \n",
       "-1.584038           -0.891541             -0.730950   -1.309433   -0.205464   \n",
       "-0.465154           -0.597742              1.824017   -0.506883   -0.016887   \n",
       " 0.679935            0.503177             -0.065983   -0.029931   -0.777155   \n",
       "-0.389048           -0.195894             -0.179852   -1.824497    1.497762   \n",
       "\n",
       "                                         2019-04-02  2019-04-03  \n",
       "2019-03-21 00:00:00 2019-03-22 00:00:00                          \n",
       " 0.584922            1.010166             -0.089481    0.634756  \n",
       "-1.584038           -0.891541              0.830621    0.787134  \n",
       "-0.465154           -0.597742              0.101582   -1.450846  \n",
       " 0.679935            0.503177             -0.481756   -0.026453  \n",
       "-0.389048           -0.195894              0.170319    0.042351  "
      ]
     },
     "execution_count": 39,
     "metadata": {},
     "output_type": "execute_result"
    }
   ],
   "source": [
    "# 设置多个索引\n",
    "data.set_index([data.columns[0], data.columns[1]])"
   ]
  },
  {
   "cell_type": "markdown",
   "metadata": {},
   "source": [
    "### Series介绍\n",
    "Series数据容器 一维数组\n",
    "Series的结构 index, values\n",
    "创建Series:\n",
    "    指定内容, 默认索引 pd.Series(np.arange(10))\n",
    "    指定索引 pd.Series(np.random.rand(10, 20, 10), np.arange(10))\n",
    "    通过字典数据创建 pd.Series({'red':100, 'blue':200, 'green': 500, 'yellow':1000})"
   ]
  },
  {
   "cell_type": "code",
   "execution_count": 40,
   "metadata": {
    "ExecuteTime": {
     "end_time": "2019-06-18T13:33:55.199255Z",
     "start_time": "2019-06-18T13:33:55.195018Z"
    }
   },
   "outputs": [
    {
     "data": {
      "text/plain": [
       "0    0\n",
       "1    1\n",
       "2    2\n",
       "3    3\n",
       "4    4\n",
       "5    5\n",
       "6    6\n",
       "7    7\n",
       "8    8\n",
       "9    9\n",
       "dtype: int64"
      ]
     },
     "execution_count": 40,
     "metadata": {},
     "output_type": "execute_result"
    }
   ],
   "source": [
    "pd.Series(range(10))"
   ]
  },
  {
   "cell_type": "code",
   "execution_count": 41,
   "metadata": {
    "ExecuteTime": {
     "end_time": "2019-06-18T13:34:06.409944Z",
     "start_time": "2019-06-18T13:34:06.401423Z"
    }
   },
   "outputs": [
    {
     "data": {
      "text/plain": [
       "pandas.core.series.Series"
      ]
     },
     "execution_count": 41,
     "metadata": {},
     "output_type": "execute_result"
    }
   ],
   "source": [
    "type(pd.Series(range(10)))"
   ]
  },
  {
   "cell_type": "code",
   "execution_count": 42,
   "metadata": {
    "ExecuteTime": {
     "end_time": "2019-06-18T13:34:49.417391Z",
     "start_time": "2019-06-18T13:34:49.412469Z"
    }
   },
   "outputs": [
    {
     "data": {
      "text/plain": [
       "0    0.558015\n",
       "1    0.878032\n",
       "2    0.898684\n",
       "3    0.982763\n",
       "4    0.772807\n",
       "5    0.592983\n",
       "6    0.488386\n",
       "7    0.588574\n",
       "8    0.188577\n",
       "9    0.100553\n",
       "dtype: float64"
      ]
     },
     "execution_count": 42,
     "metadata": {},
     "output_type": "execute_result"
    }
   ],
   "source": [
    "pd.Series(np.random.rand(10), range(10))"
   ]
  },
  {
   "cell_type": "code",
   "execution_count": 44,
   "metadata": {
    "ExecuteTime": {
     "end_time": "2019-06-18T13:35:14.612643Z",
     "start_time": "2019-06-18T13:35:14.606291Z"
    }
   },
   "outputs": [
    {
     "data": {
      "text/plain": [
       "blue       200\n",
       "green      500\n",
       "red        100\n",
       "yellow    1000\n",
       "dtype: int64"
      ]
     },
     "execution_count": 44,
     "metadata": {},
     "output_type": "execute_result"
    }
   ],
   "source": [
    "pd.Series({'red':100, 'blue':200, 'green': 500, 'yellow':1000})"
   ]
  },
  {
   "cell_type": "markdown",
   "metadata": {},
   "source": [
    "### 索引操作"
   ]
  },
  {
   "cell_type": "code",
   "execution_count": null,
   "metadata": {},
   "outputs": [],
   "source": [
    "结合loc或者iloc使用索引(先行后列)(推荐使用)\n",
    "\tloc：使用索引名字进行切片\n",
    "\tiloc：使用索引下标进行切片"
   ]
  },
  {
   "cell_type": "code",
   "execution_count": 45,
   "metadata": {
    "ExecuteTime": {
     "end_time": "2019-06-18T13:40:01.864995Z",
     "start_time": "2019-06-18T13:40:01.850986Z"
    }
   },
   "outputs": [],
   "source": [
    "# 读取文件\n",
    "data = pd.read_csv(\"./data/stock_day.csv\")"
   ]
  },
  {
   "cell_type": "code",
   "execution_count": 47,
   "metadata": {
    "ExecuteTime": {
     "end_time": "2019-06-18T13:40:20.658950Z",
     "start_time": "2019-06-18T13:40:20.620814Z"
    }
   },
   "outputs": [
    {
     "data": {
      "text/html": [
       "<div>\n",
       "<style>\n",
       "    .dataframe thead tr:only-child th {\n",
       "        text-align: right;\n",
       "    }\n",
       "\n",
       "    .dataframe thead th {\n",
       "        text-align: left;\n",
       "    }\n",
       "\n",
       "    .dataframe tbody tr th {\n",
       "        vertical-align: top;\n",
       "    }\n",
       "</style>\n",
       "<table border=\"1\" class=\"dataframe\">\n",
       "  <thead>\n",
       "    <tr style=\"text-align: right;\">\n",
       "      <th></th>\n",
       "      <th>open</th>\n",
       "      <th>high</th>\n",
       "      <th>close</th>\n",
       "      <th>low</th>\n",
       "      <th>volume</th>\n",
       "      <th>price_change</th>\n",
       "      <th>p_change</th>\n",
       "      <th>ma5</th>\n",
       "      <th>ma10</th>\n",
       "      <th>ma20</th>\n",
       "      <th>v_ma5</th>\n",
       "      <th>v_ma10</th>\n",
       "      <th>v_ma20</th>\n",
       "      <th>turnover</th>\n",
       "    </tr>\n",
       "  </thead>\n",
       "  <tbody>\n",
       "    <tr>\n",
       "      <th>2018-02-27</th>\n",
       "      <td>23.53</td>\n",
       "      <td>25.88</td>\n",
       "      <td>24.16</td>\n",
       "      <td>23.53</td>\n",
       "      <td>95578.03</td>\n",
       "      <td>0.63</td>\n",
       "      <td>2.68</td>\n",
       "      <td>22.942</td>\n",
       "      <td>22.142</td>\n",
       "      <td>22.875</td>\n",
       "      <td>53782.64</td>\n",
       "      <td>46738.65</td>\n",
       "      <td>55576.11</td>\n",
       "      <td>2.39</td>\n",
       "    </tr>\n",
       "    <tr>\n",
       "      <th>2018-02-26</th>\n",
       "      <td>22.80</td>\n",
       "      <td>23.78</td>\n",
       "      <td>23.53</td>\n",
       "      <td>22.80</td>\n",
       "      <td>60985.11</td>\n",
       "      <td>0.69</td>\n",
       "      <td>3.02</td>\n",
       "      <td>22.406</td>\n",
       "      <td>21.955</td>\n",
       "      <td>22.942</td>\n",
       "      <td>40827.52</td>\n",
       "      <td>42736.34</td>\n",
       "      <td>56007.50</td>\n",
       "      <td>1.53</td>\n",
       "    </tr>\n",
       "    <tr>\n",
       "      <th>2018-02-23</th>\n",
       "      <td>22.88</td>\n",
       "      <td>23.37</td>\n",
       "      <td>22.82</td>\n",
       "      <td>22.71</td>\n",
       "      <td>52914.01</td>\n",
       "      <td>0.54</td>\n",
       "      <td>2.42</td>\n",
       "      <td>21.938</td>\n",
       "      <td>21.929</td>\n",
       "      <td>23.022</td>\n",
       "      <td>35119.58</td>\n",
       "      <td>41871.97</td>\n",
       "      <td>56372.85</td>\n",
       "      <td>1.32</td>\n",
       "    </tr>\n",
       "  </tbody>\n",
       "</table>\n",
       "</div>"
      ],
      "text/plain": [
       "             open   high  close    low    volume  price_change  p_change  \\\n",
       "2018-02-27  23.53  25.88  24.16  23.53  95578.03          0.63      2.68   \n",
       "2018-02-26  22.80  23.78  23.53  22.80  60985.11          0.69      3.02   \n",
       "2018-02-23  22.88  23.37  22.82  22.71  52914.01          0.54      2.42   \n",
       "\n",
       "               ma5    ma10    ma20     v_ma5    v_ma10    v_ma20  turnover  \n",
       "2018-02-27  22.942  22.142  22.875  53782.64  46738.65  55576.11      2.39  \n",
       "2018-02-26  22.406  21.955  22.942  40827.52  42736.34  56007.50      1.53  \n",
       "2018-02-23  21.938  21.929  23.022  35119.58  41871.97  56372.85      1.32  "
      ]
     },
     "execution_count": 47,
     "metadata": {},
     "output_type": "execute_result"
    }
   ],
   "source": [
    "data.head(3)"
   ]
  },
  {
   "cell_type": "code",
   "execution_count": 51,
   "metadata": {
    "ExecuteTime": {
     "end_time": "2019-06-18T13:41:58.552323Z",
     "start_time": "2019-06-18T13:41:58.545483Z"
    }
   },
   "outputs": [
    {
     "data": {
      "text/plain": [
       "23.53"
      ]
     },
     "execution_count": 51,
     "metadata": {},
     "output_type": "execute_result"
    }
   ],
   "source": [
    "data['open']['2018-02-27']"
   ]
  },
  {
   "cell_type": "code",
   "execution_count": 69,
   "metadata": {
    "ExecuteTime": {
     "end_time": "2019-06-18T13:50:22.344330Z",
     "start_time": "2019-06-18T13:50:22.327735Z"
    }
   },
   "outputs": [
    {
     "data": {
      "text/plain": [
       "2018-02-27    23.53\n",
       "2018-02-26    22.80\n",
       "2018-02-23    22.88\n",
       "2018-02-22    22.25\n",
       "2018-02-14    21.49\n",
       "Name: open, dtype: float64"
      ]
     },
     "execution_count": 69,
     "metadata": {},
     "output_type": "execute_result"
    }
   ],
   "source": [
    "data['open'].head()"
   ]
  },
  {
   "cell_type": "code",
   "execution_count": 52,
   "metadata": {
    "ExecuteTime": {
     "end_time": "2019-06-18T13:43:13.142297Z",
     "start_time": "2019-06-18T13:43:13.137243Z"
    }
   },
   "outputs": [
    {
     "data": {
      "text/plain": [
       "2018-02-27    23.53\n",
       "2018-02-26    22.80\n",
       "2018-02-23    22.88\n",
       "Name: open, dtype: float64"
      ]
     },
     "execution_count": 52,
     "metadata": {},
     "output_type": "execute_result"
    }
   ],
   "source": [
    "# 通过索引名获取数据, 先行后列\n",
    "data.loc['2018-02-27':'2018-02-23', 'open']"
   ]
  },
  {
   "cell_type": "code",
   "execution_count": 54,
   "metadata": {
    "ExecuteTime": {
     "end_time": "2019-06-18T13:44:42.358003Z",
     "start_time": "2019-06-18T13:44:42.345919Z"
    }
   },
   "outputs": [
    {
     "data": {
      "text/html": [
       "<div>\n",
       "<style>\n",
       "    .dataframe thead tr:only-child th {\n",
       "        text-align: right;\n",
       "    }\n",
       "\n",
       "    .dataframe thead th {\n",
       "        text-align: left;\n",
       "    }\n",
       "\n",
       "    .dataframe tbody tr th {\n",
       "        vertical-align: top;\n",
       "    }\n",
       "</style>\n",
       "<table border=\"1\" class=\"dataframe\">\n",
       "  <thead>\n",
       "    <tr style=\"text-align: right;\">\n",
       "      <th></th>\n",
       "      <th>high</th>\n",
       "      <th>close</th>\n",
       "    </tr>\n",
       "  </thead>\n",
       "  <tbody>\n",
       "    <tr>\n",
       "      <th>2018-02-27</th>\n",
       "      <td>25.88</td>\n",
       "      <td>24.16</td>\n",
       "    </tr>\n",
       "    <tr>\n",
       "      <th>2018-02-26</th>\n",
       "      <td>23.78</td>\n",
       "      <td>23.53</td>\n",
       "    </tr>\n",
       "  </tbody>\n",
       "</table>\n",
       "</div>"
      ],
      "text/plain": [
       "             high  close\n",
       "2018-02-27  25.88  24.16\n",
       "2018-02-26  23.78  23.53"
      ]
     },
     "execution_count": 54,
     "metadata": {},
     "output_type": "execute_result"
    }
   ],
   "source": [
    "# 通过索引下标获取数据\n",
    "data.iloc[0:2, 1:3]"
   ]
  },
  {
   "cell_type": "code",
   "execution_count": null,
   "metadata": {},
   "outputs": [],
   "source": [
    "排序操作\n",
    "\tdf.sort_values(by, ascending)\n",
    "\t\t按某一列进行排序\n",
    "\tdf.sort_index(ascending)\n",
    "\t\t对于行索引进行排序\n",
    "\tFalse  降序\n",
    "    True 升序 默认"
   ]
  },
  {
   "cell_type": "code",
   "execution_count": 57,
   "metadata": {
    "ExecuteTime": {
     "end_time": "2019-06-18T13:45:39.985925Z",
     "start_time": "2019-06-18T13:45:39.954145Z"
    }
   },
   "outputs": [
    {
     "data": {
      "text/html": [
       "<div>\n",
       "<style>\n",
       "    .dataframe thead tr:only-child th {\n",
       "        text-align: right;\n",
       "    }\n",
       "\n",
       "    .dataframe thead th {\n",
       "        text-align: left;\n",
       "    }\n",
       "\n",
       "    .dataframe tbody tr th {\n",
       "        vertical-align: top;\n",
       "    }\n",
       "</style>\n",
       "<table border=\"1\" class=\"dataframe\">\n",
       "  <thead>\n",
       "    <tr style=\"text-align: right;\">\n",
       "      <th></th>\n",
       "      <th>open</th>\n",
       "      <th>high</th>\n",
       "      <th>close</th>\n",
       "      <th>low</th>\n",
       "      <th>volume</th>\n",
       "      <th>price_change</th>\n",
       "      <th>p_change</th>\n",
       "      <th>ma5</th>\n",
       "      <th>ma10</th>\n",
       "      <th>ma20</th>\n",
       "      <th>v_ma5</th>\n",
       "      <th>v_ma10</th>\n",
       "      <th>v_ma20</th>\n",
       "      <th>turnover</th>\n",
       "    </tr>\n",
       "  </thead>\n",
       "  <tbody>\n",
       "    <tr>\n",
       "      <th>2015-03-02</th>\n",
       "      <td>12.25</td>\n",
       "      <td>12.67</td>\n",
       "      <td>12.52</td>\n",
       "      <td>12.20</td>\n",
       "      <td>96291.73</td>\n",
       "      <td>0.32</td>\n",
       "      <td>2.62</td>\n",
       "      <td>12.520</td>\n",
       "      <td>12.520</td>\n",
       "      <td>12.520</td>\n",
       "      <td>96291.73</td>\n",
       "      <td>96291.73</td>\n",
       "      <td>96291.73</td>\n",
       "      <td>3.30</td>\n",
       "    </tr>\n",
       "    <tr>\n",
       "      <th>2015-03-03</th>\n",
       "      <td>12.52</td>\n",
       "      <td>13.06</td>\n",
       "      <td>12.70</td>\n",
       "      <td>12.52</td>\n",
       "      <td>139071.61</td>\n",
       "      <td>0.18</td>\n",
       "      <td>1.44</td>\n",
       "      <td>12.610</td>\n",
       "      <td>12.610</td>\n",
       "      <td>12.610</td>\n",
       "      <td>117681.67</td>\n",
       "      <td>117681.67</td>\n",
       "      <td>117681.67</td>\n",
       "      <td>4.76</td>\n",
       "    </tr>\n",
       "    <tr>\n",
       "      <th>2015-03-04</th>\n",
       "      <td>12.80</td>\n",
       "      <td>12.92</td>\n",
       "      <td>12.90</td>\n",
       "      <td>12.61</td>\n",
       "      <td>67075.44</td>\n",
       "      <td>0.20</td>\n",
       "      <td>1.57</td>\n",
       "      <td>12.707</td>\n",
       "      <td>12.707</td>\n",
       "      <td>12.707</td>\n",
       "      <td>100812.93</td>\n",
       "      <td>100812.93</td>\n",
       "      <td>100812.93</td>\n",
       "      <td>2.30</td>\n",
       "    </tr>\n",
       "    <tr>\n",
       "      <th>2015-03-05</th>\n",
       "      <td>12.88</td>\n",
       "      <td>13.45</td>\n",
       "      <td>13.16</td>\n",
       "      <td>12.87</td>\n",
       "      <td>93180.39</td>\n",
       "      <td>0.26</td>\n",
       "      <td>2.02</td>\n",
       "      <td>12.820</td>\n",
       "      <td>12.820</td>\n",
       "      <td>12.820</td>\n",
       "      <td>98904.79</td>\n",
       "      <td>98904.79</td>\n",
       "      <td>98904.79</td>\n",
       "      <td>3.19</td>\n",
       "    </tr>\n",
       "    <tr>\n",
       "      <th>2015-03-06</th>\n",
       "      <td>13.17</td>\n",
       "      <td>14.48</td>\n",
       "      <td>14.28</td>\n",
       "      <td>13.13</td>\n",
       "      <td>179831.72</td>\n",
       "      <td>1.12</td>\n",
       "      <td>8.51</td>\n",
       "      <td>13.112</td>\n",
       "      <td>13.112</td>\n",
       "      <td>13.112</td>\n",
       "      <td>115090.18</td>\n",
       "      <td>115090.18</td>\n",
       "      <td>115090.18</td>\n",
       "      <td>6.16</td>\n",
       "    </tr>\n",
       "  </tbody>\n",
       "</table>\n",
       "</div>"
      ],
      "text/plain": [
       "             open   high  close    low     volume  price_change  p_change  \\\n",
       "2015-03-02  12.25  12.67  12.52  12.20   96291.73          0.32      2.62   \n",
       "2015-03-03  12.52  13.06  12.70  12.52  139071.61          0.18      1.44   \n",
       "2015-03-04  12.80  12.92  12.90  12.61   67075.44          0.20      1.57   \n",
       "2015-03-05  12.88  13.45  13.16  12.87   93180.39          0.26      2.02   \n",
       "2015-03-06  13.17  14.48  14.28  13.13  179831.72          1.12      8.51   \n",
       "\n",
       "               ma5    ma10    ma20      v_ma5     v_ma10     v_ma20  turnover  \n",
       "2015-03-02  12.520  12.520  12.520   96291.73   96291.73   96291.73      3.30  \n",
       "2015-03-03  12.610  12.610  12.610  117681.67  117681.67  117681.67      4.76  \n",
       "2015-03-04  12.707  12.707  12.707  100812.93  100812.93  100812.93      2.30  \n",
       "2015-03-05  12.820  12.820  12.820   98904.79   98904.79   98904.79      3.19  \n",
       "2015-03-06  13.112  13.112  13.112  115090.18  115090.18  115090.18      6.16  "
      ]
     },
     "execution_count": 57,
     "metadata": {},
     "output_type": "execute_result"
    }
   ],
   "source": [
    "data.sort_index().head(5)"
   ]
  },
  {
   "cell_type": "code",
   "execution_count": 58,
   "metadata": {
    "ExecuteTime": {
     "end_time": "2019-06-18T13:46:10.717358Z",
     "start_time": "2019-06-18T13:46:10.687790Z"
    }
   },
   "outputs": [
    {
     "data": {
      "text/html": [
       "<div>\n",
       "<style>\n",
       "    .dataframe thead tr:only-child th {\n",
       "        text-align: right;\n",
       "    }\n",
       "\n",
       "    .dataframe thead th {\n",
       "        text-align: left;\n",
       "    }\n",
       "\n",
       "    .dataframe tbody tr th {\n",
       "        vertical-align: top;\n",
       "    }\n",
       "</style>\n",
       "<table border=\"1\" class=\"dataframe\">\n",
       "  <thead>\n",
       "    <tr style=\"text-align: right;\">\n",
       "      <th></th>\n",
       "      <th>open</th>\n",
       "      <th>high</th>\n",
       "      <th>close</th>\n",
       "      <th>low</th>\n",
       "      <th>volume</th>\n",
       "      <th>price_change</th>\n",
       "      <th>p_change</th>\n",
       "      <th>ma5</th>\n",
       "      <th>ma10</th>\n",
       "      <th>ma20</th>\n",
       "      <th>v_ma5</th>\n",
       "      <th>v_ma10</th>\n",
       "      <th>v_ma20</th>\n",
       "      <th>turnover</th>\n",
       "    </tr>\n",
       "  </thead>\n",
       "  <tbody>\n",
       "    <tr>\n",
       "      <th>2018-02-27</th>\n",
       "      <td>23.53</td>\n",
       "      <td>25.88</td>\n",
       "      <td>24.16</td>\n",
       "      <td>23.53</td>\n",
       "      <td>95578.03</td>\n",
       "      <td>0.63</td>\n",
       "      <td>2.68</td>\n",
       "      <td>22.942</td>\n",
       "      <td>22.142</td>\n",
       "      <td>22.875</td>\n",
       "      <td>53782.64</td>\n",
       "      <td>46738.65</td>\n",
       "      <td>55576.11</td>\n",
       "      <td>2.39</td>\n",
       "    </tr>\n",
       "    <tr>\n",
       "      <th>2018-02-26</th>\n",
       "      <td>22.80</td>\n",
       "      <td>23.78</td>\n",
       "      <td>23.53</td>\n",
       "      <td>22.80</td>\n",
       "      <td>60985.11</td>\n",
       "      <td>0.69</td>\n",
       "      <td>3.02</td>\n",
       "      <td>22.406</td>\n",
       "      <td>21.955</td>\n",
       "      <td>22.942</td>\n",
       "      <td>40827.52</td>\n",
       "      <td>42736.34</td>\n",
       "      <td>56007.50</td>\n",
       "      <td>1.53</td>\n",
       "    </tr>\n",
       "    <tr>\n",
       "      <th>2018-02-23</th>\n",
       "      <td>22.88</td>\n",
       "      <td>23.37</td>\n",
       "      <td>22.82</td>\n",
       "      <td>22.71</td>\n",
       "      <td>52914.01</td>\n",
       "      <td>0.54</td>\n",
       "      <td>2.42</td>\n",
       "      <td>21.938</td>\n",
       "      <td>21.929</td>\n",
       "      <td>23.022</td>\n",
       "      <td>35119.58</td>\n",
       "      <td>41871.97</td>\n",
       "      <td>56372.85</td>\n",
       "      <td>1.32</td>\n",
       "    </tr>\n",
       "    <tr>\n",
       "      <th>2018-02-22</th>\n",
       "      <td>22.25</td>\n",
       "      <td>22.76</td>\n",
       "      <td>22.28</td>\n",
       "      <td>22.02</td>\n",
       "      <td>36105.01</td>\n",
       "      <td>0.36</td>\n",
       "      <td>1.64</td>\n",
       "      <td>21.446</td>\n",
       "      <td>21.909</td>\n",
       "      <td>23.137</td>\n",
       "      <td>35397.58</td>\n",
       "      <td>39904.78</td>\n",
       "      <td>60149.60</td>\n",
       "      <td>0.90</td>\n",
       "    </tr>\n",
       "    <tr>\n",
       "      <th>2018-02-14</th>\n",
       "      <td>21.49</td>\n",
       "      <td>21.99</td>\n",
       "      <td>21.92</td>\n",
       "      <td>21.48</td>\n",
       "      <td>23331.04</td>\n",
       "      <td>0.44</td>\n",
       "      <td>2.05</td>\n",
       "      <td>21.366</td>\n",
       "      <td>21.923</td>\n",
       "      <td>23.253</td>\n",
       "      <td>33590.21</td>\n",
       "      <td>42935.74</td>\n",
       "      <td>61716.11</td>\n",
       "      <td>0.58</td>\n",
       "    </tr>\n",
       "  </tbody>\n",
       "</table>\n",
       "</div>"
      ],
      "text/plain": [
       "             open   high  close    low    volume  price_change  p_change  \\\n",
       "2018-02-27  23.53  25.88  24.16  23.53  95578.03          0.63      2.68   \n",
       "2018-02-26  22.80  23.78  23.53  22.80  60985.11          0.69      3.02   \n",
       "2018-02-23  22.88  23.37  22.82  22.71  52914.01          0.54      2.42   \n",
       "2018-02-22  22.25  22.76  22.28  22.02  36105.01          0.36      1.64   \n",
       "2018-02-14  21.49  21.99  21.92  21.48  23331.04          0.44      2.05   \n",
       "\n",
       "               ma5    ma10    ma20     v_ma5    v_ma10    v_ma20  turnover  \n",
       "2018-02-27  22.942  22.142  22.875  53782.64  46738.65  55576.11      2.39  \n",
       "2018-02-26  22.406  21.955  22.942  40827.52  42736.34  56007.50      1.53  \n",
       "2018-02-23  21.938  21.929  23.022  35119.58  41871.97  56372.85      1.32  \n",
       "2018-02-22  21.446  21.909  23.137  35397.58  39904.78  60149.60      0.90  \n",
       "2018-02-14  21.366  21.923  23.253  33590.21  42935.74  61716.11      0.58  "
      ]
     },
     "execution_count": 58,
     "metadata": {},
     "output_type": "execute_result"
    }
   ],
   "source": [
    "data.sort_index(ascending=False).head(5)"
   ]
  },
  {
   "cell_type": "code",
   "execution_count": 65,
   "metadata": {
    "ExecuteTime": {
     "end_time": "2019-06-18T13:48:46.755307Z",
     "start_time": "2019-06-18T13:48:46.728119Z"
    },
    "scrolled": true
   },
   "outputs": [
    {
     "data": {
      "text/html": [
       "<div>\n",
       "<style>\n",
       "    .dataframe thead tr:only-child th {\n",
       "        text-align: right;\n",
       "    }\n",
       "\n",
       "    .dataframe thead th {\n",
       "        text-align: left;\n",
       "    }\n",
       "\n",
       "    .dataframe tbody tr th {\n",
       "        vertical-align: top;\n",
       "    }\n",
       "</style>\n",
       "<table border=\"1\" class=\"dataframe\">\n",
       "  <thead>\n",
       "    <tr style=\"text-align: right;\">\n",
       "      <th></th>\n",
       "      <th>open</th>\n",
       "      <th>high</th>\n",
       "      <th>close</th>\n",
       "      <th>low</th>\n",
       "      <th>volume</th>\n",
       "      <th>price_change</th>\n",
       "      <th>p_change</th>\n",
       "      <th>ma5</th>\n",
       "      <th>ma10</th>\n",
       "      <th>ma20</th>\n",
       "      <th>v_ma5</th>\n",
       "      <th>v_ma10</th>\n",
       "      <th>v_ma20</th>\n",
       "      <th>turnover</th>\n",
       "    </tr>\n",
       "  </thead>\n",
       "  <tbody>\n",
       "    <tr>\n",
       "      <th>2015-09-01</th>\n",
       "      <td>14.78</td>\n",
       "      <td>14.78</td>\n",
       "      <td>13.46</td>\n",
       "      <td>13.46</td>\n",
       "      <td>78985.85</td>\n",
       "      <td>-1.50</td>\n",
       "      <td>-10.03</td>\n",
       "      <td>15.080</td>\n",
       "      <td>17.434</td>\n",
       "      <td>18.617</td>\n",
       "      <td>109001.30</td>\n",
       "      <td>103741.22</td>\n",
       "      <td>106218.95</td>\n",
       "      <td>2.70</td>\n",
       "    </tr>\n",
       "    <tr>\n",
       "      <th>2015-09-14</th>\n",
       "      <td>16.62</td>\n",
       "      <td>16.64</td>\n",
       "      <td>14.46</td>\n",
       "      <td>14.46</td>\n",
       "      <td>139701.77</td>\n",
       "      <td>-1.61</td>\n",
       "      <td>-10.02</td>\n",
       "      <td>14.726</td>\n",
       "      <td>14.363</td>\n",
       "      <td>16.881</td>\n",
       "      <td>98449.69</td>\n",
       "      <td>89159.54</td>\n",
       "      <td>101431.96</td>\n",
       "      <td>4.78</td>\n",
       "    </tr>\n",
       "    <tr>\n",
       "      <th>2016-01-11</th>\n",
       "      <td>16.59</td>\n",
       "      <td>17.24</td>\n",
       "      <td>15.90</td>\n",
       "      <td>15.90</td>\n",
       "      <td>58036.37</td>\n",
       "      <td>-1.77</td>\n",
       "      <td>-10.02</td>\n",
       "      <td>18.298</td>\n",
       "      <td>20.068</td>\n",
       "      <td>21.648</td>\n",
       "      <td>46971.51</td>\n",
       "      <td>52066.53</td>\n",
       "      <td>58356.88</td>\n",
       "      <td>1.99</td>\n",
       "    </tr>\n",
       "    <tr>\n",
       "      <th>2015-07-15</th>\n",
       "      <td>22.78</td>\n",
       "      <td>23.04</td>\n",
       "      <td>22.10</td>\n",
       "      <td>22.10</td>\n",
       "      <td>85966.42</td>\n",
       "      <td>-2.46</td>\n",
       "      <td>-10.02</td>\n",
       "      <td>24.564</td>\n",
       "      <td>25.197</td>\n",
       "      <td>28.530</td>\n",
       "      <td>158767.95</td>\n",
       "      <td>149753.04</td>\n",
       "      <td>149835.16</td>\n",
       "      <td>2.94</td>\n",
       "    </tr>\n",
       "    <tr>\n",
       "      <th>2015-08-26</th>\n",
       "      <td>17.00</td>\n",
       "      <td>18.35</td>\n",
       "      <td>15.56</td>\n",
       "      <td>15.56</td>\n",
       "      <td>130318.31</td>\n",
       "      <td>-1.73</td>\n",
       "      <td>-10.01</td>\n",
       "      <td>18.742</td>\n",
       "      <td>20.042</td>\n",
       "      <td>19.087</td>\n",
       "      <td>100097.45</td>\n",
       "      <td>114432.06</td>\n",
       "      <td>102945.90</td>\n",
       "      <td>4.46</td>\n",
       "    </tr>\n",
       "  </tbody>\n",
       "</table>\n",
       "</div>"
      ],
      "text/plain": [
       "             open   high  close    low     volume  price_change  p_change  \\\n",
       "2015-09-01  14.78  14.78  13.46  13.46   78985.85         -1.50    -10.03   \n",
       "2015-09-14  16.62  16.64  14.46  14.46  139701.77         -1.61    -10.02   \n",
       "2016-01-11  16.59  17.24  15.90  15.90   58036.37         -1.77    -10.02   \n",
       "2015-07-15  22.78  23.04  22.10  22.10   85966.42         -2.46    -10.02   \n",
       "2015-08-26  17.00  18.35  15.56  15.56  130318.31         -1.73    -10.01   \n",
       "\n",
       "               ma5    ma10    ma20      v_ma5     v_ma10     v_ma20  turnover  \n",
       "2015-09-01  15.080  17.434  18.617  109001.30  103741.22  106218.95      2.70  \n",
       "2015-09-14  14.726  14.363  16.881   98449.69   89159.54  101431.96      4.78  \n",
       "2016-01-11  18.298  20.068  21.648   46971.51   52066.53   58356.88      1.99  \n",
       "2015-07-15  24.564  25.197  28.530  158767.95  149753.04  149835.16      2.94  \n",
       "2015-08-26  18.742  20.042  19.087  100097.45  114432.06  102945.90      4.46  "
      ]
     },
     "execution_count": 65,
     "metadata": {},
     "output_type": "execute_result"
    }
   ],
   "source": [
    "data.sort_values(by='p_change').head(5)"
   ]
  },
  {
   "cell_type": "code",
   "execution_count": 67,
   "metadata": {
    "ExecuteTime": {
     "end_time": "2019-06-18T13:49:24.846924Z",
     "start_time": "2019-06-18T13:49:24.807921Z"
    }
   },
   "outputs": [
    {
     "data": {
      "text/html": [
       "<div>\n",
       "<style>\n",
       "    .dataframe thead tr:only-child th {\n",
       "        text-align: right;\n",
       "    }\n",
       "\n",
       "    .dataframe thead th {\n",
       "        text-align: left;\n",
       "    }\n",
       "\n",
       "    .dataframe tbody tr th {\n",
       "        vertical-align: top;\n",
       "    }\n",
       "</style>\n",
       "<table border=\"1\" class=\"dataframe\">\n",
       "  <thead>\n",
       "    <tr style=\"text-align: right;\">\n",
       "      <th></th>\n",
       "      <th>open</th>\n",
       "      <th>high</th>\n",
       "      <th>close</th>\n",
       "      <th>low</th>\n",
       "      <th>volume</th>\n",
       "      <th>price_change</th>\n",
       "      <th>p_change</th>\n",
       "      <th>ma5</th>\n",
       "      <th>ma10</th>\n",
       "      <th>ma20</th>\n",
       "      <th>v_ma5</th>\n",
       "      <th>v_ma10</th>\n",
       "      <th>v_ma20</th>\n",
       "      <th>turnover</th>\n",
       "    </tr>\n",
       "  </thead>\n",
       "  <tbody>\n",
       "    <tr>\n",
       "      <th>2015-03-02</th>\n",
       "      <td>12.25</td>\n",
       "      <td>12.67</td>\n",
       "      <td>12.52</td>\n",
       "      <td>12.20</td>\n",
       "      <td>96291.73</td>\n",
       "      <td>0.32</td>\n",
       "      <td>2.62</td>\n",
       "      <td>12.520</td>\n",
       "      <td>12.520</td>\n",
       "      <td>12.520</td>\n",
       "      <td>96291.73</td>\n",
       "      <td>96291.73</td>\n",
       "      <td>96291.73</td>\n",
       "      <td>3.30</td>\n",
       "    </tr>\n",
       "    <tr>\n",
       "      <th>2015-09-02</th>\n",
       "      <td>12.30</td>\n",
       "      <td>14.11</td>\n",
       "      <td>12.36</td>\n",
       "      <td>12.30</td>\n",
       "      <td>70201.74</td>\n",
       "      <td>-1.10</td>\n",
       "      <td>-8.17</td>\n",
       "      <td>14.440</td>\n",
       "      <td>16.591</td>\n",
       "      <td>18.360</td>\n",
       "      <td>96977.99</td>\n",
       "      <td>98537.72</td>\n",
       "      <td>104567.25</td>\n",
       "      <td>2.40</td>\n",
       "    </tr>\n",
       "    <tr>\n",
       "      <th>2015-03-03</th>\n",
       "      <td>12.52</td>\n",
       "      <td>13.06</td>\n",
       "      <td>12.70</td>\n",
       "      <td>12.52</td>\n",
       "      <td>139071.61</td>\n",
       "      <td>0.18</td>\n",
       "      <td>1.44</td>\n",
       "      <td>12.610</td>\n",
       "      <td>12.610</td>\n",
       "      <td>12.610</td>\n",
       "      <td>117681.67</td>\n",
       "      <td>117681.67</td>\n",
       "      <td>117681.67</td>\n",
       "      <td>4.76</td>\n",
       "    </tr>\n",
       "    <tr>\n",
       "      <th>2015-03-04</th>\n",
       "      <td>12.80</td>\n",
       "      <td>12.92</td>\n",
       "      <td>12.90</td>\n",
       "      <td>12.61</td>\n",
       "      <td>67075.44</td>\n",
       "      <td>0.20</td>\n",
       "      <td>1.57</td>\n",
       "      <td>12.707</td>\n",
       "      <td>12.707</td>\n",
       "      <td>12.707</td>\n",
       "      <td>100812.93</td>\n",
       "      <td>100812.93</td>\n",
       "      <td>100812.93</td>\n",
       "      <td>2.30</td>\n",
       "    </tr>\n",
       "    <tr>\n",
       "      <th>2015-03-05</th>\n",
       "      <td>12.88</td>\n",
       "      <td>13.45</td>\n",
       "      <td>13.16</td>\n",
       "      <td>12.87</td>\n",
       "      <td>93180.39</td>\n",
       "      <td>0.26</td>\n",
       "      <td>2.02</td>\n",
       "      <td>12.820</td>\n",
       "      <td>12.820</td>\n",
       "      <td>12.820</td>\n",
       "      <td>98904.79</td>\n",
       "      <td>98904.79</td>\n",
       "      <td>98904.79</td>\n",
       "      <td>3.19</td>\n",
       "    </tr>\n",
       "  </tbody>\n",
       "</table>\n",
       "</div>"
      ],
      "text/plain": [
       "             open   high  close    low     volume  price_change  p_change  \\\n",
       "2015-03-02  12.25  12.67  12.52  12.20   96291.73          0.32      2.62   \n",
       "2015-09-02  12.30  14.11  12.36  12.30   70201.74         -1.10     -8.17   \n",
       "2015-03-03  12.52  13.06  12.70  12.52  139071.61          0.18      1.44   \n",
       "2015-03-04  12.80  12.92  12.90  12.61   67075.44          0.20      1.57   \n",
       "2015-03-05  12.88  13.45  13.16  12.87   93180.39          0.26      2.02   \n",
       "\n",
       "               ma5    ma10    ma20      v_ma5     v_ma10     v_ma20  turnover  \n",
       "2015-03-02  12.520  12.520  12.520   96291.73   96291.73   96291.73      3.30  \n",
       "2015-09-02  14.440  16.591  18.360   96977.99   98537.72  104567.25      2.40  \n",
       "2015-03-03  12.610  12.610  12.610  117681.67  117681.67  117681.67      4.76  \n",
       "2015-03-04  12.707  12.707  12.707  100812.93  100812.93  100812.93      2.30  \n",
       "2015-03-05  12.820  12.820  12.820   98904.79   98904.79   98904.79      3.19  "
      ]
     },
     "execution_count": 67,
     "metadata": {},
     "output_type": "execute_result"
    }
   ],
   "source": [
    "data.sort_values(by=['open', 'high']).head()"
   ]
  },
  {
   "cell_type": "code",
   "execution_count": 71,
   "metadata": {
    "ExecuteTime": {
     "end_time": "2019-06-18T13:53:10.600394Z",
     "start_time": "2019-06-18T13:53:10.591563Z"
    }
   },
   "outputs": [
    {
     "data": {
      "text/plain": [
       "2015-03-02    2.62\n",
       "2015-03-03    1.44\n",
       "2015-03-04    1.57\n",
       "2015-03-05    2.02\n",
       "2015-03-06    8.51\n",
       "Name: p_change, dtype: float64"
      ]
     },
     "execution_count": 71,
     "metadata": {},
     "output_type": "execute_result"
    }
   ],
   "source": [
    "data['p_change'].sort_index().head()"
   ]
  },
  {
   "cell_type": "markdown",
   "metadata": {},
   "source": [
    "### DataFrame运算"
   ]
  },
  {
   "cell_type": "code",
   "execution_count": null,
   "metadata": {},
   "outputs": [],
   "source": [
    "DataFrame运算\n",
    "\t算术运算\n",
    "\t\tdf.add(number)  加上一个具体的数字\n",
    "\t\tdf.sub()  差, 两列相减\n",
    "\t\tdf.mul()\n",
    "\t\t\t乘\n",
    "\t\tdf.div()\n",
    "\t\t\t除\n",
    "\t\t主要用于按列按行对数据进行处理\n",
    "\t逻辑运算: 返回逻辑结果True或False\n",
    "\t\t逻辑运算符号<、 >、|、 &\n",
    "\t\t逻辑运算函数\n",
    "\t\t\tdf.query(expr)\n",
    "\t\t\t\t逻辑判断表达式的字符串\n",
    "\t\t\tdf.isin(values) 例如例如\n",
    "\t统计运算\n",
    "\t\tdf.describe()\n",
    "\t\t\t综合分析, 能够直接得出很多统计结果,count, mean, std, min, max 等\n",
    "\t\t统计函数\n",
    "\t\t\tdf.mode(axis): 求众数（数据中出现次数最多的数）\n",
    "\t\t\tdf.prod(axis): 求乘积，将所有数据乘起来\n",
    "\t\t\tdf.median(axis): 求中位数，排在所有数据中间那个数的值\n",
    "            max, min, std, var, mean\n",
    "            idxmax: 求出最大值的位置\n",
    "            idxmin: 求出最小值的位置\n",
    "\t\t\t25%\n",
    "\t\t\t75%\n",
    "\t\t累计统计函数\n",
    "\t\t\tdf.cumsum()：累计和\n",
    "\t\t\tdf.cummax()：累计最大值\n",
    "\t\t\tdf.cummin()：累计最小值\n",
    "\t\t\tdf.cumprod()：累计乘积\n",
    "\t自定义运算\n",
    "\t\t df.apply(func, axis=0)\n",
    "\t\t\t设置按行处理还是按列处理\n",
    "\t\t\taxis=0 按列处理 axis=1为行进行运算"
   ]
  },
  {
   "cell_type": "code",
   "execution_count": 72,
   "metadata": {
    "ExecuteTime": {
     "end_time": "2019-06-18T14:07:08.680226Z",
     "start_time": "2019-06-18T14:07:08.658739Z"
    }
   },
   "outputs": [
    {
     "data": {
      "text/html": [
       "<div>\n",
       "<style>\n",
       "    .dataframe thead tr:only-child th {\n",
       "        text-align: right;\n",
       "    }\n",
       "\n",
       "    .dataframe thead th {\n",
       "        text-align: left;\n",
       "    }\n",
       "\n",
       "    .dataframe tbody tr th {\n",
       "        vertical-align: top;\n",
       "    }\n",
       "</style>\n",
       "<table border=\"1\" class=\"dataframe\">\n",
       "  <thead>\n",
       "    <tr style=\"text-align: right;\">\n",
       "      <th></th>\n",
       "      <th>open</th>\n",
       "      <th>high</th>\n",
       "      <th>close</th>\n",
       "      <th>low</th>\n",
       "      <th>volume</th>\n",
       "      <th>price_change</th>\n",
       "      <th>p_change</th>\n",
       "      <th>ma5</th>\n",
       "      <th>ma10</th>\n",
       "      <th>ma20</th>\n",
       "      <th>v_ma5</th>\n",
       "      <th>v_ma10</th>\n",
       "      <th>v_ma20</th>\n",
       "      <th>turnover</th>\n",
       "    </tr>\n",
       "  </thead>\n",
       "  <tbody>\n",
       "    <tr>\n",
       "      <th>2018-02-27</th>\n",
       "      <td>23.53</td>\n",
       "      <td>25.88</td>\n",
       "      <td>24.16</td>\n",
       "      <td>23.53</td>\n",
       "      <td>95578.03</td>\n",
       "      <td>0.63</td>\n",
       "      <td>2.68</td>\n",
       "      <td>22.942</td>\n",
       "      <td>22.142</td>\n",
       "      <td>22.875</td>\n",
       "      <td>53782.64</td>\n",
       "      <td>46738.65</td>\n",
       "      <td>55576.11</td>\n",
       "      <td>2.39</td>\n",
       "    </tr>\n",
       "    <tr>\n",
       "      <th>2018-02-26</th>\n",
       "      <td>22.80</td>\n",
       "      <td>23.78</td>\n",
       "      <td>23.53</td>\n",
       "      <td>22.80</td>\n",
       "      <td>60985.11</td>\n",
       "      <td>0.69</td>\n",
       "      <td>3.02</td>\n",
       "      <td>22.406</td>\n",
       "      <td>21.955</td>\n",
       "      <td>22.942</td>\n",
       "      <td>40827.52</td>\n",
       "      <td>42736.34</td>\n",
       "      <td>56007.50</td>\n",
       "      <td>1.53</td>\n",
       "    </tr>\n",
       "    <tr>\n",
       "      <th>2018-02-23</th>\n",
       "      <td>22.88</td>\n",
       "      <td>23.37</td>\n",
       "      <td>22.82</td>\n",
       "      <td>22.71</td>\n",
       "      <td>52914.01</td>\n",
       "      <td>0.54</td>\n",
       "      <td>2.42</td>\n",
       "      <td>21.938</td>\n",
       "      <td>21.929</td>\n",
       "      <td>23.022</td>\n",
       "      <td>35119.58</td>\n",
       "      <td>41871.97</td>\n",
       "      <td>56372.85</td>\n",
       "      <td>1.32</td>\n",
       "    </tr>\n",
       "    <tr>\n",
       "      <th>2018-02-22</th>\n",
       "      <td>22.25</td>\n",
       "      <td>22.76</td>\n",
       "      <td>22.28</td>\n",
       "      <td>22.02</td>\n",
       "      <td>36105.01</td>\n",
       "      <td>0.36</td>\n",
       "      <td>1.64</td>\n",
       "      <td>21.446</td>\n",
       "      <td>21.909</td>\n",
       "      <td>23.137</td>\n",
       "      <td>35397.58</td>\n",
       "      <td>39904.78</td>\n",
       "      <td>60149.60</td>\n",
       "      <td>0.90</td>\n",
       "    </tr>\n",
       "    <tr>\n",
       "      <th>2018-02-14</th>\n",
       "      <td>21.49</td>\n",
       "      <td>21.99</td>\n",
       "      <td>21.92</td>\n",
       "      <td>21.48</td>\n",
       "      <td>23331.04</td>\n",
       "      <td>0.44</td>\n",
       "      <td>2.05</td>\n",
       "      <td>21.366</td>\n",
       "      <td>21.923</td>\n",
       "      <td>23.253</td>\n",
       "      <td>33590.21</td>\n",
       "      <td>42935.74</td>\n",
       "      <td>61716.11</td>\n",
       "      <td>0.58</td>\n",
       "    </tr>\n",
       "  </tbody>\n",
       "</table>\n",
       "</div>"
      ],
      "text/plain": [
       "             open   high  close    low    volume  price_change  p_change  \\\n",
       "2018-02-27  23.53  25.88  24.16  23.53  95578.03          0.63      2.68   \n",
       "2018-02-26  22.80  23.78  23.53  22.80  60985.11          0.69      3.02   \n",
       "2018-02-23  22.88  23.37  22.82  22.71  52914.01          0.54      2.42   \n",
       "2018-02-22  22.25  22.76  22.28  22.02  36105.01          0.36      1.64   \n",
       "2018-02-14  21.49  21.99  21.92  21.48  23331.04          0.44      2.05   \n",
       "\n",
       "               ma5    ma10    ma20     v_ma5    v_ma10    v_ma20  turnover  \n",
       "2018-02-27  22.942  22.142  22.875  53782.64  46738.65  55576.11      2.39  \n",
       "2018-02-26  22.406  21.955  22.942  40827.52  42736.34  56007.50      1.53  \n",
       "2018-02-23  21.938  21.929  23.022  35119.58  41871.97  56372.85      1.32  \n",
       "2018-02-22  21.446  21.909  23.137  35397.58  39904.78  60149.60      0.90  \n",
       "2018-02-14  21.366  21.923  23.253  33590.21  42935.74  61716.11      0.58  "
      ]
     },
     "execution_count": 72,
     "metadata": {},
     "output_type": "execute_result"
    }
   ],
   "source": [
    "data.head()"
   ]
  },
  {
   "cell_type": "code",
   "execution_count": 74,
   "metadata": {
    "ExecuteTime": {
     "end_time": "2019-06-18T14:07:29.736881Z",
     "start_time": "2019-06-18T14:07:29.731197Z"
    }
   },
   "outputs": [
    {
     "data": {
      "text/plain": [
       "2018-02-27    24.53\n",
       "2018-02-26    23.80\n",
       "2018-02-23    23.88\n",
       "2018-02-22    23.25\n",
       "2018-02-14    22.49\n",
       "Name: open, dtype: float64"
      ]
     },
     "execution_count": 74,
     "metadata": {},
     "output_type": "execute_result"
    }
   ],
   "source": [
    "data['open'].add(1).head()"
   ]
  },
  {
   "cell_type": "code",
   "execution_count": 76,
   "metadata": {
    "ExecuteTime": {
     "end_time": "2019-06-18T14:08:42.906885Z",
     "start_time": "2019-06-18T14:08:42.892302Z"
    }
   },
   "outputs": [
    {
     "data": {
      "text/plain": [
       "2018-02-27    2.35\n",
       "2018-02-26    0.98\n",
       "2018-02-23    0.66\n",
       "2018-02-22    0.74\n",
       "2018-02-14    0.51\n",
       "dtype: float64"
      ]
     },
     "execution_count": 76,
     "metadata": {},
     "output_type": "execute_result"
    }
   ],
   "source": [
    "data['high'].sub(data['low']).head()"
   ]
  },
  {
   "cell_type": "code",
   "execution_count": 78,
   "metadata": {
    "ExecuteTime": {
     "end_time": "2019-06-18T14:09:39.361593Z",
     "start_time": "2019-06-18T14:09:39.356061Z"
    }
   },
   "outputs": [
    {
     "data": {
      "text/plain": [
       "2018-02-27    14.8239\n",
       "2018-02-26    15.7320\n",
       "2018-02-23    12.3552\n",
       "2018-02-22     8.0100\n",
       "2018-02-14     9.4556\n",
       "dtype: float64"
      ]
     },
     "execution_count": 78,
     "metadata": {},
     "output_type": "execute_result"
    }
   ],
   "source": [
    "data['open'].mul(data['price_change']).head()"
   ]
  },
  {
   "cell_type": "code",
   "execution_count": 82,
   "metadata": {
    "ExecuteTime": {
     "end_time": "2019-06-18T14:11:21.673426Z",
     "start_time": "2019-06-18T14:11:21.662665Z"
    }
   },
   "outputs": [
    {
     "data": {
      "text/plain": [
       "2018-02-27    37.349206\n",
       "2018-02-26    33.043478\n",
       "2018-02-23    42.370370\n",
       "2018-02-22    61.805556\n",
       "2018-02-14    48.840909\n",
       "dtype: float64"
      ]
     },
     "execution_count": 82,
     "metadata": {},
     "output_type": "execute_result"
    }
   ],
   "source": [
    "data['open'].div(data['price_change']).head()"
   ]
  },
  {
   "cell_type": "code",
   "execution_count": null,
   "metadata": {},
   "outputs": [],
   "source": []
  },
  {
   "cell_type": "code",
   "execution_count": null,
   "metadata": {},
   "outputs": [],
   "source": []
  },
  {
   "cell_type": "code",
   "execution_count": null,
   "metadata": {},
   "outputs": [],
   "source": []
  },
  {
   "cell_type": "code",
   "execution_count": null,
   "metadata": {},
   "outputs": [],
   "source": []
  },
  {
   "cell_type": "markdown",
   "metadata": {},
   "source": [
    "## 基本数据操作"
   ]
  },
  {
   "cell_type": "markdown",
   "metadata": {},
   "source": [
    "## DataFrame运算"
   ]
  },
  {
   "cell_type": "markdown",
   "metadata": {},
   "source": [
    "## Pandas画图"
   ]
  },
  {
   "cell_type": "markdown",
   "metadata": {},
   "source": [
    "## 文件读取与存储"
   ]
  },
  {
   "cell_type": "markdown",
   "metadata": {},
   "source": [
    "# Pandas高级数据处理"
   ]
  },
  {
   "cell_type": "markdown",
   "metadata": {},
   "source": [
    "## 缺失值的处理"
   ]
  },
  {
   "cell_type": "markdown",
   "metadata": {},
   "source": [
    "## 数据离散化"
   ]
  },
  {
   "cell_type": "markdown",
   "metadata": {},
   "source": [
    "## 数据合并"
   ]
  },
  {
   "cell_type": "markdown",
   "metadata": {},
   "source": [
    "## 交叉表透视表"
   ]
  },
  {
   "cell_type": "markdown",
   "metadata": {},
   "source": [
    "## 分组与聚合"
   ]
  },
  {
   "cell_type": "code",
   "execution_count": null,
   "metadata": {},
   "outputs": [],
   "source": []
  }
 ],
 "metadata": {
  "kernelspec": {
   "display_name": "Python 3",
   "language": "python",
   "name": "python3"
  },
  "language_info": {
   "codemirror_mode": {
    "name": "ipython",
    "version": 3
   },
   "file_extension": ".py",
   "mimetype": "text/x-python",
   "name": "python",
   "nbconvert_exporter": "python",
   "pygments_lexer": "ipython3",
   "version": "3.6.8"
  },
  "toc": {
   "base_numbering": 1,
   "nav_menu": {},
   "number_sections": true,
   "sideBar": true,
   "skip_h1_title": false,
   "title_cell": "Table of Contents",
   "title_sidebar": "Contents",
   "toc_cell": false,
   "toc_position": {},
   "toc_section_display": true,
   "toc_window_display": false
  },
  "varInspector": {
   "cols": {
    "lenName": 16,
    "lenType": 16,
    "lenVar": 40
   },
   "kernels_config": {
    "python": {
     "delete_cmd_postfix": "",
     "delete_cmd_prefix": "del ",
     "library": "var_list.py",
     "varRefreshCmd": "print(var_dic_list())"
    },
    "r": {
     "delete_cmd_postfix": ") ",
     "delete_cmd_prefix": "rm(",
     "library": "var_list.r",
     "varRefreshCmd": "cat(var_dic_list()) "
    }
   },
   "types_to_exclude": [
    "module",
    "function",
    "builtin_function_or_method",
    "instance",
    "_Feature"
   ],
   "window_display": false
  }
 },
 "nbformat": 4,
 "nbformat_minor": 2
}
