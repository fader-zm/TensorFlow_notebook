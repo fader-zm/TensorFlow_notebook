{
 "cells": [
  {
   "cell_type": "code",
   "execution_count": 1,
   "metadata": {
    "ExecuteTime": {
     "end_time": "2019-06-07T11:04:07.767626Z",
     "start_time": "2019-06-07T11:04:06.885089Z"
    }
   },
   "outputs": [],
   "source": [
    "import tensorflow as tf"
   ]
  },
  {
   "cell_type": "code",
   "execution_count": 3,
   "metadata": {
    "ExecuteTime": {
     "end_time": "2019-06-07T11:04:35.090274Z",
     "start_time": "2019-06-07T11:04:35.071855Z"
    }
   },
   "outputs": [
    {
     "name": "stdout",
     "output_type": "stream",
     "text": [
      "7.0\n"
     ]
    }
   ],
   "source": [
    "# tf.constant(value): 可理解为设置一个tensorflow中的常量\n",
    "a = tf.constant(3.0)\n",
    "\n",
    "b = tf.constant(4.0)\n",
    "\n",
    "# add为算子\n",
    "sum_c = tf.add(a, b)\n",
    "\n",
    "sum_c\n",
    "\n",
    "# tf.Session() 为开启一个会话\n",
    "# 默认只运行默认的图, 不能运行其他的图, 可以通过设置参数解决\n",
    "with tf.Session() as sess:\n",
    "    # run: 分配资源, \n",
    "    print(sess.run(sum_c))"
   ]
  },
  {
   "cell_type": "code",
   "execution_count": 9,
   "metadata": {
    "ExecuteTime": {
     "end_time": "2019-06-07T11:22:37.461670Z",
     "start_time": "2019-06-07T11:22:37.452928Z"
    },
    "scrolled": true
   },
   "outputs": [],
   "source": [
    "con_a = tf.constant(3.0)"
   ]
  },
  {
   "cell_type": "code",
   "execution_count": 10,
   "metadata": {
    "ExecuteTime": {
     "end_time": "2019-06-07T11:22:44.479577Z",
     "start_time": "2019-06-07T11:22:44.470881Z"
    }
   },
   "outputs": [
    {
     "data": {
      "text/plain": [
       "<tf.Tensor 'Const_2:0' shape=() dtype=float32>"
      ]
     },
     "execution_count": 10,
     "metadata": {},
     "output_type": "execute_result"
    }
   ],
   "source": [
    "con_a"
   ]
  },
  {
   "cell_type": "code",
   "execution_count": 11,
   "metadata": {
    "ExecuteTime": {
     "end_time": "2019-06-07T11:23:12.722986Z",
     "start_time": "2019-06-07T11:23:12.719167Z"
    }
   },
   "outputs": [],
   "source": [
    "con_b = tf.constant(4.0)"
   ]
  },
  {
   "cell_type": "code",
   "execution_count": 12,
   "metadata": {
    "ExecuteTime": {
     "end_time": "2019-06-07T11:23:20.754255Z",
     "start_time": "2019-06-07T11:23:20.749476Z"
    }
   },
   "outputs": [
    {
     "data": {
      "text/plain": [
       "<tf.Tensor 'Const_3:0' shape=() dtype=float32>"
      ]
     },
     "execution_count": 12,
     "metadata": {},
     "output_type": "execute_result"
    }
   ],
   "source": [
    "con_b"
   ]
  },
  {
   "cell_type": "code",
   "execution_count": 13,
   "metadata": {
    "ExecuteTime": {
     "end_time": "2019-06-07T11:23:47.228883Z",
     "start_time": "2019-06-07T11:23:47.221984Z"
    }
   },
   "outputs": [],
   "source": [
    "sum_c = tf.add(con_a, con_b)"
   ]
  },
  {
   "cell_type": "code",
   "execution_count": 14,
   "metadata": {
    "ExecuteTime": {
     "end_time": "2019-06-07T11:23:51.517950Z",
     "start_time": "2019-06-07T11:23:51.508412Z"
    }
   },
   "outputs": [
    {
     "data": {
      "text/plain": [
       "<tf.Tensor 'Add_1:0' shape=() dtype=float32>"
      ]
     },
     "execution_count": 14,
     "metadata": {},
     "output_type": "execute_result"
    }
   ],
   "source": [
    "sum_c"
   ]
  },
  {
   "cell_type": "code",
   "execution_count": 16,
   "metadata": {
    "ExecuteTime": {
     "end_time": "2019-06-07T11:24:55.687834Z",
     "start_time": "2019-06-07T11:24:55.678365Z"
    }
   },
   "outputs": [],
   "source": [
    "# 建立会话\n",
    "with tf.Session() as sess:\n",
    "    sess.run(sum_c)"
   ]
  },
  {
   "cell_type": "code",
   "execution_count": 17,
   "metadata": {
    "ExecuteTime": {
     "end_time": "2019-06-07T11:25:00.665946Z",
     "start_time": "2019-06-07T11:25:00.661595Z"
    }
   },
   "outputs": [
    {
     "data": {
      "text/plain": [
       "<tf.Tensor 'Add_1:0' shape=() dtype=float32>"
      ]
     },
     "execution_count": 17,
     "metadata": {},
     "output_type": "execute_result"
    }
   ],
   "source": [
    "sum_c"
   ]
  },
  {
   "cell_type": "markdown",
   "metadata": {},
   "source": [
    "# TensorFlow结构分析"
   ]
  },
  {
   "cell_type": "markdown",
   "metadata": {},
   "source": [
    "TensorFlow 程序通常被组织成两个阶段:\n",
    "    \n",
    "    1. "
   ]
  },
  {
   "cell_type": "code",
   "execution_count": null,
   "metadata": {},
   "outputs": [],
   "source": []
  },
  {
   "cell_type": "code",
   "execution_count": null,
   "metadata": {},
   "outputs": [],
   "source": []
  },
  {
   "cell_type": "code",
   "execution_count": null,
   "metadata": {},
   "outputs": [],
   "source": []
  },
  {
   "cell_type": "code",
   "execution_count": null,
   "metadata": {},
   "outputs": [],
   "source": []
  },
  {
   "cell_type": "code",
   "execution_count": null,
   "metadata": {},
   "outputs": [],
   "source": []
  },
  {
   "cell_type": "code",
   "execution_count": null,
   "metadata": {},
   "outputs": [],
   "source": []
  },
  {
   "cell_type": "code",
   "execution_count": null,
   "metadata": {},
   "outputs": [],
   "source": []
  },
  {
   "cell_type": "code",
   "execution_count": null,
   "metadata": {},
   "outputs": [],
   "source": []
  },
  {
   "cell_type": "code",
   "execution_count": null,
   "metadata": {},
   "outputs": [],
   "source": [
    "def tf_add():\n",
    "    con_a = tf.constant(3.0)\n",
    "    con_b = tf.constant(4.0)\n",
    "    \n",
    "    sum_c = tf.add(con_a, con_b)\n",
    "    print('获取默认图:', tf.get_default_graph())\n",
    "    print('con_a', con_a.graph)\n",
    "    print('con_b', con_b.graph)\n",
    "    print('sum_c', sum_c.graph)\n",
    "    \n",
    "    with tf.Session() as sess:\n",
    "        print('获取默认图:', sess.graph)\n",
    "        print('con_a', con_a.graph)\n",
    "        print('con_b', con_b.graph)\n",
    "        print('sum_c', sum_c.graph)"
   ]
  },
  {
   "cell_type": "code",
   "execution_count": 18,
   "metadata": {
    "ExecuteTime": {
     "end_time": "2019-06-06T02:21:03.540088Z",
     "start_time": "2019-06-06T02:21:03.533266Z"
    }
   },
   "outputs": [
    {
     "name": "stdout",
     "output_type": "stream",
     "text": [
      "获取默认图: <tensorflow.python.framework.ops.Graph object at 0x7f0fb53f0f98>\n",
      "con_a <tensorflow.python.framework.ops.Graph object at 0x7f0fb53f0f98>\n",
      "con_b <tensorflow.python.framework.ops.Graph object at 0x7f0fb53f0f98>\n",
      "sum_c <tensorflow.python.framework.ops.Graph object at 0x7f0fb53f0f98>\n",
      "获取默认图: <tensorflow.python.framework.ops.Graph object at 0x7f0fb53f0f98>\n",
      "con_a <tensorflow.python.framework.ops.Graph object at 0x7f0fb53f0f98>\n",
      "con_b <tensorflow.python.framework.ops.Graph object at 0x7f0fb53f0f98>\n",
      "sum_c <tensorflow.python.framework.ops.Graph object at 0x7f0fb53f0f98>\n"
     ]
    }
   ],
   "source": [
    "tf_add()"
   ]
  },
  {
   "cell_type": "code",
   "execution_count": 24,
   "metadata": {
    "ExecuteTime": {
     "end_time": "2019-06-06T02:26:01.561159Z",
     "start_time": "2019-06-06T02:26:01.553225Z"
    }
   },
   "outputs": [],
   "source": [
    "def tf_new_add():\n",
    "    new_g = tf.Graph()\n",
    "    with new_g.as_default():\n",
    "        con_a = tf.constant(3.0)\n",
    "        con_b = tf.constant(4.0)\n",
    "    \n",
    "    sum_c = tf.add(con_a, con_b)\n",
    "    print('获取默认图:', tf.get_default_graph())\n",
    "    print('con_a', con_a.graph)\n",
    "    print('con_b', con_b.graph)\n",
    "    print('sum_c', sum_c.graph)\n",
    "    \n",
    "    # 启动会话时, 传入创建的新图\n",
    "    with tf.Session(graph=new_g) as sess:\n",
    "        print('获取默认图:', sess.graph)\n",
    "        print('con_a', con_a.graph)\n",
    "        print('con_b', con_b.graph)\n",
    "        print('sum_c', sum_c.graph)\n",
    "        print(sess.run(sum_c))"
   ]
  },
  {
   "cell_type": "code",
   "execution_count": 25,
   "metadata": {
    "ExecuteTime": {
     "end_time": "2019-06-06T02:26:03.134493Z",
     "start_time": "2019-06-06T02:26:03.113468Z"
    }
   },
   "outputs": [
    {
     "name": "stdout",
     "output_type": "stream",
     "text": [
      "获取默认图: <tensorflow.python.framework.ops.Graph object at 0x7f0fb53f0f98>\n",
      "con_a <tensorflow.python.framework.ops.Graph object at 0x7f0f7dba65f8>\n",
      "con_b <tensorflow.python.framework.ops.Graph object at 0x7f0f7dba65f8>\n",
      "sum_c <tensorflow.python.framework.ops.Graph object at 0x7f0f7dba65f8>\n",
      "获取默认图: <tensorflow.python.framework.ops.Graph object at 0x7f0f7dba65f8>\n",
      "con_a <tensorflow.python.framework.ops.Graph object at 0x7f0f7dba65f8>\n",
      "con_b <tensorflow.python.framework.ops.Graph object at 0x7f0f7dba65f8>\n",
      "sum_c <tensorflow.python.framework.ops.Graph object at 0x7f0f7dba65f8>\n",
      "7.0\n"
     ]
    }
   ],
   "source": [
    "tf_new_add()"
   ]
  },
  {
   "cell_type": "code",
   "execution_count": 26,
   "metadata": {
    "ExecuteTime": {
     "end_time": "2019-06-06T02:31:31.293878Z",
     "start_time": "2019-06-06T02:31:31.286117Z"
    }
   },
   "outputs": [],
   "source": [
    "def tf_new_add():\n",
    "    new_g = tf.Graph()\n",
    "    with new_g.as_default():\n",
    "        con_a = tf.constant(3.0)\n",
    "        con_b = tf.constant(4.0)\n",
    "    \n",
    "    sum_c = tf.add(con_a, con_b)\n",
    "    print('获取默认图:', tf.get_default_graph())\n",
    "    print('con_a', con_a.graph)\n",
    "    print('con_b', con_b.graph)\n",
    "    print('sum_c', sum_c.graph)\n",
    "    \n",
    "    # 启动会话时, 传入创建的新图\n",
    "    with tf.Session(graph=new_g) as sess:\n",
    "        print('获取默认图:', sess.graph)\n",
    "        print('con_a', con_a.graph)\n",
    "        print('con_b', con_b.graph)\n",
    "        print('sum_c', sum_c.graph)\n",
    "        print(sess.run(sum_c))\n",
    "        tf.summary.FileWriter(logdir='./', graph=sess.graph)"
   ]
  },
  {
   "cell_type": "code",
   "execution_count": 28,
   "metadata": {
    "ExecuteTime": {
     "end_time": "2019-06-06T02:31:42.250148Z",
     "start_time": "2019-06-06T02:31:42.227378Z"
    }
   },
   "outputs": [
    {
     "name": "stdout",
     "output_type": "stream",
     "text": [
      "获取默认图: <tensorflow.python.framework.ops.Graph object at 0x7f0fb53f0f98>\n",
      "con_a <tensorflow.python.framework.ops.Graph object at 0x7f0f7c625128>\n",
      "con_b <tensorflow.python.framework.ops.Graph object at 0x7f0f7c625128>\n",
      "sum_c <tensorflow.python.framework.ops.Graph object at 0x7f0f7c625128>\n",
      "获取默认图: <tensorflow.python.framework.ops.Graph object at 0x7f0f7c625128>\n",
      "con_a <tensorflow.python.framework.ops.Graph object at 0x7f0f7c625128>\n",
      "con_b <tensorflow.python.framework.ops.Graph object at 0x7f0f7c625128>\n",
      "sum_c <tensorflow.python.framework.ops.Graph object at 0x7f0f7c625128>\n",
      "7.0\n"
     ]
    }
   ],
   "source": [
    "tf_new_add()"
   ]
  },
  {
   "cell_type": "code",
   "execution_count": null,
   "metadata": {},
   "outputs": [],
   "source": []
  }
 ],
 "metadata": {
  "kernelspec": {
   "display_name": "Python 3",
   "language": "python",
   "name": "python3"
  },
  "language_info": {
   "codemirror_mode": {
    "name": "ipython",
    "version": 3
   },
   "file_extension": ".py",
   "mimetype": "text/x-python",
   "name": "python",
   "nbconvert_exporter": "python",
   "pygments_lexer": "ipython3",
   "version": "3.6.8"
  },
  "toc": {
   "base_numbering": 1,
   "nav_menu": {
    "height": "168px",
    "width": "292px"
   },
   "number_sections": true,
   "sideBar": true,
   "skip_h1_title": false,
   "title_cell": "Table of Contents",
   "title_sidebar": "Contents",
   "toc_cell": false,
   "toc_position": {},
   "toc_section_display": true,
   "toc_window_display": false
  },
  "varInspector": {
   "cols": {
    "lenName": 16,
    "lenType": 16,
    "lenVar": 40
   },
   "kernels_config": {
    "python": {
     "delete_cmd_postfix": "",
     "delete_cmd_prefix": "del ",
     "library": "var_list.py",
     "varRefreshCmd": "print(var_dic_list())"
    },
    "r": {
     "delete_cmd_postfix": ") ",
     "delete_cmd_prefix": "rm(",
     "library": "var_list.r",
     "varRefreshCmd": "cat(var_dic_list()) "
    }
   },
   "types_to_exclude": [
    "module",
    "function",
    "builtin_function_or_method",
    "instance",
    "_Feature"
   ],
   "window_display": false
  }
 },
 "nbformat": 4,
 "nbformat_minor": 2
}
