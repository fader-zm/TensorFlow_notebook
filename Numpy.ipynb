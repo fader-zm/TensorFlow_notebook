{
 "cells": [
  {
   "cell_type": "markdown",
   "metadata": {},
   "source": [
    "# 什么是Numpy？"
   ]
  },
  {
   "cell_type": "markdown",
   "metadata": {},
   "source": [
    "numpy是专门处理多维数组的科学计算库"
   ]
  },
  {
   "cell_type": "markdown",
   "metadata": {},
   "source": [
    "# Numpy有什么优势？"
   ]
  },
  {
   "cell_type": "markdown",
   "metadata": {},
   "source": [
    "1. 内存直接存值, 取数快\n",
    "    \n",
    "    与Python对比\n",
    "    \n",
    "    Python是先存地址, 在存数据\n",
    "     ndarray直接存储数据, 在内存中是连续的存储空间\n",
    "     \n",
    "2. 支持并行化运算\n",
    "    \n",
    "    Numpy底层使用C语言编写, 没有Python中GIL锁, 实现了并行化计算, 多线程\n",
    "    \n",
    "3. 用C语言编写底层代码, 效率高"
   ]
  },
  {
   "cell_type": "code",
   "execution_count": 2,
   "metadata": {
    "ExecuteTime": {
     "end_time": "2019-06-17T08:03:44.663581Z",
     "start_time": "2019-06-17T08:03:44.660649Z"
    }
   },
   "outputs": [],
   "source": [
    "import numpy as np"
   ]
  },
  {
   "cell_type": "code",
   "execution_count": 2,
   "metadata": {
    "ExecuteTime": {
     "end_time": "2019-06-17T07:16:11.077714Z",
     "start_time": "2019-06-17T07:16:11.069883Z"
    }
   },
   "outputs": [],
   "source": [
    "# 创建ndarray\n",
    "score = np.array([[80, 89, 86, 67, 79],\n",
    "[78, 97, 89, 67, 81],\n",
    "[90, 94, 78, 67, 74],\n",
    "[91, 91, 90, 67, 69],\n",
    "[76, 87, 75, 67, 86],\n",
    "[70, 79, 84, 67, 84],\n",
    "[94, 92, 93, 67, 64],\n",
    "[86, 85, 83, 67, 80]])\n"
   ]
  },
  {
   "cell_type": "code",
   "execution_count": 3,
   "metadata": {
    "ExecuteTime": {
     "end_time": "2019-06-17T07:16:11.783267Z",
     "start_time": "2019-06-17T07:16:11.773835Z"
    }
   },
   "outputs": [
    {
     "data": {
      "text/plain": [
       "array([[80, 89, 86, 67, 79],\n",
       "       [78, 97, 89, 67, 81],\n",
       "       [90, 94, 78, 67, 74],\n",
       "       [91, 91, 90, 67, 69],\n",
       "       [76, 87, 75, 67, 86],\n",
       "       [70, 79, 84, 67, 84],\n",
       "       [94, 92, 93, 67, 64],\n",
       "       [86, 85, 83, 67, 80]])"
      ]
     },
     "execution_count": 3,
     "metadata": {},
     "output_type": "execute_result"
    }
   ],
   "source": [
    "score"
   ]
  },
  {
   "cell_type": "code",
   "execution_count": null,
   "metadata": {
    "ExecuteTime": {
     "end_time": "2019-06-17T07:16:14.454069Z",
     "start_time": "2019-06-17T07:16:14.450990Z"
    }
   },
   "outputs": [],
   "source": [
    "使用Python列表可以存储一维数组，通过列表的嵌套可以实现多维数组，那么为什么还需要使用Numpy的ndarray呢？"
   ]
  },
  {
   "cell_type": "markdown",
   "metadata": {},
   "source": [
    "## ndarray与Python原生list运算效率对比"
   ]
  },
  {
   "cell_type": "code",
   "execution_count": 5,
   "metadata": {
    "ExecuteTime": {
     "end_time": "2019-06-17T07:16:22.581896Z",
     "start_time": "2019-06-17T07:16:22.580195Z"
    }
   },
   "outputs": [],
   "source": [
    "import random\n",
    "import time\n",
    "import numpy as np"
   ]
  },
  {
   "cell_type": "code",
   "execution_count": 8,
   "metadata": {
    "ExecuteTime": {
     "end_time": "2019-06-17T07:16:38.900563Z",
     "start_time": "2019-06-17T07:16:37.445639Z"
    }
   },
   "outputs": [
    {
     "name": "stdout",
     "output_type": "stream",
     "text": [
      "CPU times: user 33.8 ms, sys: 3.66 ms, total: 37.5 ms\n",
      "Wall time: 38.8 ms\n",
      "CPU times: user 4.88 ms, sys: 155 µs, total: 5.03 ms\n",
      "Wall time: 5.04 ms\n"
     ]
    }
   ],
   "source": [
    "a = []\n",
    "for i in range(10000000):\n",
    "    a.append(random.random())\n",
    "\n",
    "# 通过%time魔法方法, 查看当前行的代码运行一次所花费的时间\n",
    "%time sum1 = sum(a)\n",
    "\n",
    "b = np.array(a)\n",
    "%time sum2 = np.sum(b)"
   ]
  },
  {
   "cell_type": "markdown",
   "metadata": {},
   "source": [
    "## ndarray的属性"
   ]
  },
  {
   "cell_type": "code",
   "execution_count": null,
   "metadata": {},
   "outputs": [],
   "source": [
    "ndarray.shape  # 数组维度的元组\n",
    "ndarray.ndim   # 数组维数\n",
    "ndarray.size   # 数组中的元素数量\n",
    "ndarray.itemsize  # 一个数组元素的长度(字节)\n",
    "ndarray.dtype  # 数组元素的类型"
   ]
  },
  {
   "cell_type": "code",
   "execution_count": null,
   "metadata": {},
   "outputs": [],
   "source": [
    "创建数组的时候制定类型, 若不指定, 整数默认int64, 小数默认float64"
   ]
  },
  {
   "cell_type": "code",
   "execution_count": 25,
   "metadata": {
    "ExecuteTime": {
     "end_time": "2019-06-17T07:33:26.256813Z",
     "start_time": "2019-06-17T07:33:26.254605Z"
    }
   },
   "outputs": [],
   "source": [
    "a = np.array([[1, 2, 3, 4],[4, 5, 6, 7]], dtype=np.float32)"
   ]
  },
  {
   "cell_type": "code",
   "execution_count": 10,
   "metadata": {
    "ExecuteTime": {
     "end_time": "2019-06-17T07:28:20.587649Z",
     "start_time": "2019-06-17T07:28:20.584308Z"
    }
   },
   "outputs": [
    {
     "data": {
      "text/plain": [
       "dtype('float32')"
      ]
     },
     "execution_count": 10,
     "metadata": {},
     "output_type": "execute_result"
    }
   ],
   "source": [
    "a.dtype"
   ]
  },
  {
   "cell_type": "code",
   "execution_count": 11,
   "metadata": {
    "ExecuteTime": {
     "end_time": "2019-06-17T07:28:24.806658Z",
     "start_time": "2019-06-17T07:28:24.796883Z"
    }
   },
   "outputs": [
    {
     "data": {
      "text/plain": [
       "(2, 3)"
      ]
     },
     "execution_count": 11,
     "metadata": {},
     "output_type": "execute_result"
    }
   ],
   "source": [
    "a.shape"
   ]
  },
  {
   "cell_type": "code",
   "execution_count": 12,
   "metadata": {
    "ExecuteTime": {
     "end_time": "2019-06-17T07:28:31.117730Z",
     "start_time": "2019-06-17T07:28:31.108851Z"
    }
   },
   "outputs": [
    {
     "data": {
      "text/plain": [
       "4"
      ]
     },
     "execution_count": 12,
     "metadata": {},
     "output_type": "execute_result"
    }
   ],
   "source": [
    "a.itemsize"
   ]
  },
  {
   "cell_type": "code",
   "execution_count": 13,
   "metadata": {
    "ExecuteTime": {
     "end_time": "2019-06-17T07:28:43.989850Z",
     "start_time": "2019-06-17T07:28:43.980096Z"
    }
   },
   "outputs": [
    {
     "data": {
      "text/plain": [
       "2"
      ]
     },
     "execution_count": 13,
     "metadata": {},
     "output_type": "execute_result"
    }
   ],
   "source": [
    "a.ndim"
   ]
  },
  {
   "cell_type": "code",
   "execution_count": 14,
   "metadata": {
    "ExecuteTime": {
     "end_time": "2019-06-17T07:28:53.350107Z",
     "start_time": "2019-06-17T07:28:53.347452Z"
    }
   },
   "outputs": [
    {
     "data": {
      "text/plain": [
       "6"
      ]
     },
     "execution_count": 14,
     "metadata": {},
     "output_type": "execute_result"
    }
   ],
   "source": [
    "a.size"
   ]
  },
  {
   "cell_type": "markdown",
   "metadata": {},
   "source": [
    "# 基本操作"
   ]
  },
  {
   "cell_type": "markdown",
   "metadata": {},
   "source": [
    "## 生成数组的方法"
   ]
  },
  {
   "cell_type": "markdown",
   "metadata": {},
   "source": [
    "### 生成0和1的数组"
   ]
  },
  {
   "cell_type": "code",
   "execution_count": 17,
   "metadata": {
    "ExecuteTime": {
     "end_time": "2019-06-17T07:31:50.223826Z",
     "start_time": "2019-06-17T07:31:50.221629Z"
    }
   },
   "outputs": [],
   "source": [
    "np.ones(shape=(2, 3), dtype=np.float32)"
   ]
  },
  {
   "cell_type": "code",
   "execution_count": 26,
   "metadata": {
    "ExecuteTime": {
     "end_time": "2019-06-17T07:33:30.671925Z",
     "start_time": "2019-06-17T07:33:30.662887Z"
    }
   },
   "outputs": [
    {
     "data": {
      "text/plain": [
       "array([[1., 1., 1., 1.],\n",
       "       [1., 1., 1., 1.]], dtype=float32)"
      ]
     },
     "execution_count": 26,
     "metadata": {},
     "output_type": "execute_result"
    }
   ],
   "source": [
    "np.ones_like(a)"
   ]
  },
  {
   "cell_type": "code",
   "execution_count": 27,
   "metadata": {
    "ExecuteTime": {
     "end_time": "2019-06-17T07:33:54.814412Z",
     "start_time": "2019-06-17T07:33:54.811480Z"
    }
   },
   "outputs": [
    {
     "data": {
      "text/plain": [
       "array([[0., 0., 0.],\n",
       "       [0., 0., 0.]])"
      ]
     },
     "execution_count": 27,
     "metadata": {},
     "output_type": "execute_result"
    }
   ],
   "source": [
    "np.zeros(shape=(2, 3))"
   ]
  },
  {
   "cell_type": "code",
   "execution_count": 28,
   "metadata": {
    "ExecuteTime": {
     "end_time": "2019-06-17T07:34:03.096327Z",
     "start_time": "2019-06-17T07:34:03.093303Z"
    }
   },
   "outputs": [
    {
     "data": {
      "text/plain": [
       "array([[0., 0., 0., 0.],\n",
       "       [0., 0., 0., 0.]], dtype=float32)"
      ]
     },
     "execution_count": 28,
     "metadata": {},
     "output_type": "execute_result"
    }
   ],
   "source": [
    "np.zeros_like(a)"
   ]
  },
  {
   "cell_type": "markdown",
   "metadata": {},
   "source": [
    "### 从现有数组生成"
   ]
  },
  {
   "cell_type": "code",
   "execution_count": 29,
   "metadata": {
    "ExecuteTime": {
     "end_time": "2019-06-17T07:34:53.859543Z",
     "start_time": "2019-06-17T07:34:53.856857Z"
    }
   },
   "outputs": [],
   "source": [
    "a = np.array([[1,2,3],[4,5,6]])"
   ]
  },
  {
   "cell_type": "code",
   "execution_count": 30,
   "metadata": {
    "ExecuteTime": {
     "end_time": "2019-06-17T07:35:23.248660Z",
     "start_time": "2019-06-17T07:35:23.246851Z"
    }
   },
   "outputs": [],
   "source": [
    "# 从现有数组创建\n",
    "a1 = np.array(a)"
   ]
  },
  {
   "cell_type": "code",
   "execution_count": 31,
   "metadata": {
    "ExecuteTime": {
     "end_time": "2019-06-17T07:35:25.892474Z",
     "start_time": "2019-06-17T07:35:25.889740Z"
    }
   },
   "outputs": [
    {
     "data": {
      "text/plain": [
       "array([[1, 2, 3],\n",
       "       [4, 5, 6]])"
      ]
     },
     "execution_count": 31,
     "metadata": {},
     "output_type": "execute_result"
    }
   ],
   "source": [
    "a1"
   ]
  },
  {
   "cell_type": "code",
   "execution_count": 34,
   "metadata": {
    "ExecuteTime": {
     "end_time": "2019-06-17T07:36:31.269160Z",
     "start_time": "2019-06-17T07:36:31.266430Z"
    }
   },
   "outputs": [],
   "source": [
    "# 相当于索引的形式, 并没有真正的创建一个xinde\n",
    "a2 = np.asarray(a)"
   ]
  },
  {
   "cell_type": "code",
   "execution_count": 35,
   "metadata": {
    "ExecuteTime": {
     "end_time": "2019-06-17T07:36:31.762792Z",
     "start_time": "2019-06-17T07:36:31.759052Z"
    }
   },
   "outputs": [
    {
     "data": {
      "text/plain": [
       "array([[1, 2, 3],\n",
       "       [4, 5, 6]])"
      ]
     },
     "execution_count": 35,
     "metadata": {},
     "output_type": "execute_result"
    }
   ],
   "source": [
    "a2"
   ]
  },
  {
   "cell_type": "code",
   "execution_count": 36,
   "metadata": {
    "ExecuteTime": {
     "end_time": "2019-06-17T07:36:55.032022Z",
     "start_time": "2019-06-17T07:36:55.027515Z"
    }
   },
   "outputs": [
    {
     "data": {
      "text/plain": [
       "(array([[1, 2, 3],\n",
       "        [4, 5, 6]]), array([[1, 2, 3],\n",
       "        [4, 5, 6]]))"
      ]
     },
     "execution_count": 36,
     "metadata": {},
     "output_type": "execute_result"
    }
   ],
   "source": [
    "a1, a2"
   ]
  },
  {
   "cell_type": "markdown",
   "metadata": {},
   "source": [
    "### 生成固定范围的数组"
   ]
  },
  {
   "cell_type": "code",
   "execution_count": 42,
   "metadata": {
    "ExecuteTime": {
     "end_time": "2019-06-17T07:41:20.562996Z",
     "start_time": "2019-06-17T07:41:20.560336Z"
    }
   },
   "outputs": [],
   "source": [
    "# start: 序列的起始值  stop: 数列的结束值  num: 要生成的等间隔样例数量, 默认为50\n",
    "# endpoint 序列中是否包含stop值, 默认为true\n",
    "a = np.linspace(3, 10, num=100)"
   ]
  },
  {
   "cell_type": "code",
   "execution_count": 43,
   "metadata": {
    "ExecuteTime": {
     "end_time": "2019-06-17T07:41:25.528013Z",
     "start_time": "2019-06-17T07:41:25.523637Z"
    }
   },
   "outputs": [
    {
     "data": {
      "text/plain": [
       "array([ 3.        ,  3.07070707,  3.14141414,  3.21212121,  3.28282828,\n",
       "        3.35353535,  3.42424242,  3.49494949,  3.56565657,  3.63636364,\n",
       "        3.70707071,  3.77777778,  3.84848485,  3.91919192,  3.98989899,\n",
       "        4.06060606,  4.13131313,  4.2020202 ,  4.27272727,  4.34343434,\n",
       "        4.41414141,  4.48484848,  4.55555556,  4.62626263,  4.6969697 ,\n",
       "        4.76767677,  4.83838384,  4.90909091,  4.97979798,  5.05050505,\n",
       "        5.12121212,  5.19191919,  5.26262626,  5.33333333,  5.4040404 ,\n",
       "        5.47474747,  5.54545455,  5.61616162,  5.68686869,  5.75757576,\n",
       "        5.82828283,  5.8989899 ,  5.96969697,  6.04040404,  6.11111111,\n",
       "        6.18181818,  6.25252525,  6.32323232,  6.39393939,  6.46464646,\n",
       "        6.53535354,  6.60606061,  6.67676768,  6.74747475,  6.81818182,\n",
       "        6.88888889,  6.95959596,  7.03030303,  7.1010101 ,  7.17171717,\n",
       "        7.24242424,  7.31313131,  7.38383838,  7.45454545,  7.52525253,\n",
       "        7.5959596 ,  7.66666667,  7.73737374,  7.80808081,  7.87878788,\n",
       "        7.94949495,  8.02020202,  8.09090909,  8.16161616,  8.23232323,\n",
       "        8.3030303 ,  8.37373737,  8.44444444,  8.51515152,  8.58585859,\n",
       "        8.65656566,  8.72727273,  8.7979798 ,  8.86868687,  8.93939394,\n",
       "        9.01010101,  9.08080808,  9.15151515,  9.22222222,  9.29292929,\n",
       "        9.36363636,  9.43434343,  9.50505051,  9.57575758,  9.64646465,\n",
       "        9.71717172,  9.78787879,  9.85858586,  9.92929293, 10.        ])"
      ]
     },
     "execution_count": 43,
     "metadata": {},
     "output_type": "execute_result"
    }
   ],
   "source": [
    "a"
   ]
  },
  {
   "cell_type": "code",
   "execution_count": 44,
   "metadata": {
    "ExecuteTime": {
     "end_time": "2019-06-17T07:41:34.818519Z",
     "start_time": "2019-06-17T07:41:34.815435Z"
    }
   },
   "outputs": [
    {
     "data": {
      "text/plain": [
       "(100,)"
      ]
     },
     "execution_count": 44,
     "metadata": {},
     "output_type": "execute_result"
    }
   ],
   "source": [
    "a.shape"
   ]
  },
  {
   "cell_type": "code",
   "execution_count": 45,
   "metadata": {
    "ExecuteTime": {
     "end_time": "2019-06-17T07:41:38.975788Z",
     "start_time": "2019-06-17T07:41:38.972605Z"
    }
   },
   "outputs": [
    {
     "data": {
      "text/plain": [
       "100"
      ]
     },
     "execution_count": 45,
     "metadata": {},
     "output_type": "execute_result"
    }
   ],
   "source": [
    "a.size"
   ]
  },
  {
   "cell_type": "code",
   "execution_count": 46,
   "metadata": {
    "ExecuteTime": {
     "end_time": "2019-06-17T07:41:48.806217Z",
     "start_time": "2019-06-17T07:41:48.795843Z"
    }
   },
   "outputs": [
    {
     "data": {
      "text/plain": [
       "8"
      ]
     },
     "execution_count": 46,
     "metadata": {},
     "output_type": "execute_result"
    }
   ],
   "source": [
    "a.itemsize"
   ]
  },
  {
   "cell_type": "code",
   "execution_count": 47,
   "metadata": {
    "ExecuteTime": {
     "end_time": "2019-06-17T07:42:10.227478Z",
     "start_time": "2019-06-17T07:42:10.220727Z"
    }
   },
   "outputs": [
    {
     "data": {
      "text/plain": [
       "1"
      ]
     },
     "execution_count": 47,
     "metadata": {},
     "output_type": "execute_result"
    }
   ],
   "source": [
    "a.ndim"
   ]
  },
  {
   "cell_type": "code",
   "execution_count": 48,
   "metadata": {
    "ExecuteTime": {
     "end_time": "2019-06-17T07:42:34.814644Z",
     "start_time": "2019-06-17T07:42:34.812133Z"
    }
   },
   "outputs": [
    {
     "data": {
      "text/plain": [
       "dtype('float64')"
      ]
     },
     "execution_count": 48,
     "metadata": {},
     "output_type": "execute_result"
    }
   ],
   "source": [
    "a.dtype"
   ]
  },
  {
   "cell_type": "code",
   "execution_count": 41,
   "metadata": {
    "ExecuteTime": {
     "end_time": "2019-06-17T07:41:10.344627Z",
     "start_time": "2019-06-17T07:41:10.340621Z"
    }
   },
   "outputs": [
    {
     "data": {
      "text/plain": [
       "array([ 1,  2,  3,  4,  5,  6,  7,  8,  9, 10])"
      ]
     },
     "execution_count": 41,
     "metadata": {},
     "output_type": "execute_result"
    }
   ],
   "source": [
    "np.arange(1, 11, 1)"
   ]
  },
  {
   "cell_type": "code",
   "execution_count": 52,
   "metadata": {
    "ExecuteTime": {
     "end_time": "2019-06-17T07:44:07.230484Z",
     "start_time": "2019-06-17T07:44:07.225560Z"
    }
   },
   "outputs": [
    {
     "data": {
      "text/plain": [
       "array([   1.,   10.,  100., 1000.])"
      ]
     },
     "execution_count": 52,
     "metadata": {},
     "output_type": "execute_result"
    }
   ],
   "source": [
    "# 生成10^\n",
    "np.logspace(0, 3, 4)"
   ]
  },
  {
   "cell_type": "markdown",
   "metadata": {},
   "source": [
    "### 生成随机数组"
   ]
  },
  {
   "cell_type": "markdown",
   "metadata": {},
   "source": [
    "#### 均匀分布"
   ]
  },
  {
   "cell_type": "code",
   "execution_count": 56,
   "metadata": {
    "ExecuteTime": {
     "end_time": "2019-06-17T07:45:59.136108Z",
     "start_time": "2019-06-17T07:45:59.132960Z"
    }
   },
   "outputs": [
    {
     "data": {
      "text/plain": [
       "array([[[0.42085998, 0.20421559, 0.53058992],\n",
       "        [0.40325736, 0.5019108 , 0.84633361]],\n",
       "\n",
       "       [[0.6122625 , 0.89906566, 0.53566219],\n",
       "        [0.26337005, 0.33855342, 0.27814676]]])"
      ]
     },
     "execution_count": 56,
     "metadata": {},
     "output_type": "execute_result"
    }
   ],
   "source": [
    "# 生成[0.0, 1.0)内的一组均匀分布的数\n",
    "np.random.rand(2,2,3)"
   ]
  },
  {
   "cell_type": "code",
   "execution_count": 58,
   "metadata": {
    "ExecuteTime": {
     "end_time": "2019-06-17T07:47:44.517897Z",
     "start_time": "2019-06-17T07:47:44.513418Z"
    }
   },
   "outputs": [
    {
     "data": {
      "text/plain": [
       "array([[2.18040163, 3.34822051, 3.9435225 ],\n",
       "       [2.32126237, 2.54080004, 2.78195654]])"
      ]
     },
     "execution_count": 58,
     "metadata": {},
     "output_type": "execute_result"
    }
   ],
   "source": [
    "# 从一个均匀分布[low,high)中随机采样，注意定义域是左闭右开\n",
    "# low: 采样下界，float类型，默认值为0；\n",
    "# high: 采样上界，float类型，默认值为1；\n",
    "# size: 输出样本数目，为int或元组(tuple)类型，例如，size=(m,n,k), 则输出mnk个样本，缺省时输出1个值\n",
    "np.random.uniform(2, 5, size=(2, 3))"
   ]
  },
  {
   "cell_type": "code",
   "execution_count": 60,
   "metadata": {
    "ExecuteTime": {
     "end_time": "2019-06-17T07:52:59.026853Z",
     "start_time": "2019-06-17T07:52:59.023042Z"
    }
   },
   "outputs": [
    {
     "data": {
      "text/plain": [
       "array([[5, 8, 2],\n",
       "       [5, 9, 6]])"
      ]
     },
     "execution_count": 60,
     "metadata": {},
     "output_type": "execute_result"
    }
   ],
   "source": [
    "np.random.randint(1, 10, (2, 3))"
   ]
  },
  {
   "cell_type": "markdown",
   "metadata": {},
   "source": [
    "#### 查看均匀分布情况"
   ]
  },
  {
   "cell_type": "code",
   "execution_count": 1,
   "metadata": {
    "ExecuteTime": {
     "end_time": "2019-06-17T08:03:30.465123Z",
     "start_time": "2019-06-17T08:03:30.324588Z"
    }
   },
   "outputs": [],
   "source": [
    "import matplotlib.pyplot as plt"
   ]
  },
  {
   "cell_type": "code",
   "execution_count": null,
   "metadata": {
    "ExecuteTime": {
     "end_time": "2019-06-17T08:01:17.778238Z",
     "start_time": "2019-06-17T08:00:22.373Z"
    }
   },
   "outputs": [],
   "source": [
    "a = np.random.uniform(-1, 1, 100000000)\n",
    "# 创建画布\n",
    "plt.figure(figsize=(20, 8), dpi=100)\n",
    "# 绘制图像\n",
    "plt.hist(a, bins=1000)\n",
    "plt.show()"
   ]
  },
  {
   "cell_type": "markdown",
   "metadata": {},
   "source": [
    "### 正太分布"
   ]
  },
  {
   "cell_type": "code",
   "execution_count": 3,
   "metadata": {
    "ExecuteTime": {
     "end_time": "2019-06-17T08:03:50.262344Z",
     "start_time": "2019-06-17T08:03:50.254915Z"
    }
   },
   "outputs": [
    {
     "data": {
      "text/plain": [
       "array([[[-0.5991994 ,  0.41292548, -0.96931873],\n",
       "        [-1.20661991, -1.60563612,  0.77524266]],\n",
       "\n",
       "       [[ 0.4299646 , -1.92379695,  0.00544417],\n",
       "        [-0.48603766,  0.91470039,  0.21385152]]])"
      ]
     },
     "execution_count": 3,
     "metadata": {},
     "output_type": "execute_result"
    }
   ],
   "source": [
    "np.random.randn(2, 2, 3)  # 标准正太分布"
   ]
  },
  {
   "cell_type": "code",
   "execution_count": 6,
   "metadata": {
    "ExecuteTime": {
     "end_time": "2019-06-17T08:05:24.506333Z",
     "start_time": "2019-06-17T08:05:24.494613Z"
    }
   },
   "outputs": [
    {
     "data": {
      "text/plain": [
       "array([[[-0.3650172 , -0.29353705, -3.75836915],\n",
       "        [ 5.78836881, -0.54622978,  1.20040273]],\n",
       "\n",
       "       [[-2.40540462,  0.35984491, -4.04419538],\n",
       "        [ 3.06863779,  4.32901426,  0.94781939]]])"
      ]
     },
     "execution_count": 6,
     "metadata": {},
     "output_type": "execute_result"
    }
   ],
   "source": [
    "np.random.normal(loc=1, scale=3.0, size=(2, 2, 3))  # 指定正太分布"
   ]
  },
  {
   "cell_type": "code",
   "execution_count": 8,
   "metadata": {
    "ExecuteTime": {
     "end_time": "2019-06-17T08:08:30.138318Z",
     "start_time": "2019-06-17T08:08:30.128720Z"
    }
   },
   "outputs": [
    {
     "data": {
      "text/plain": [
       "array([[[-0.12150066, -0.69882495,  1.22842726],\n",
       "        [ 2.3283352 , -0.3562611 ,  0.88886965]],\n",
       "\n",
       "       [[ 1.21951596,  0.05972815, -0.02776396],\n",
       "        [-0.29908936, -0.64644742, -0.15558086]]])"
      ]
     },
     "execution_count": 8,
     "metadata": {},
     "output_type": "execute_result"
    }
   ],
   "source": [
    "np.random.standard_normal(size=(2, 2, 3))  # 指定形状的标准正太分布"
   ]
  },
  {
   "cell_type": "markdown",
   "metadata": {},
   "source": [
    "#### 显示正太分布图像\n"
   ]
  },
  {
   "cell_type": "code",
   "execution_count": 12,
   "metadata": {
    "ExecuteTime": {
     "end_time": "2019-06-17T08:12:43.875345Z",
     "start_time": "2019-06-17T08:12:42.211672Z"
    }
   },
   "outputs": [
    {
     "data": {
      "image/png": "[encoded data removed]",
      "text/plain": [
       "<Figure size 2000x800 with 1 Axes>"
      ]
     },
     "metadata": {
      "needs_background": "light"
     },
     "output_type": "display_data"
    }
   ],
   "source": [
    "x = np.random.randn(1000000)\n",
    "\n",
    "# 创建画布\n",
    "plt.figure(figsize=(20, 8), dpi=100)\n",
    "# 绘制图像\n",
    "plt.hist(x, 1000)\n",
    "# 显示图像\n",
    "plt.show()"
   ]
  },
  {
   "cell_type": "markdown",
   "metadata": {},
   "source": [
    "#### 随机生成8只股票2周的交易日涨幅数据"
   ]
  },
  {
   "cell_type": "code",
   "execution_count": 13,
   "metadata": {
    "ExecuteTime": {
     "end_time": "2019-06-17T08:51:48.907940Z",
     "start_time": "2019-06-17T08:51:48.905537Z"
    }
   },
   "outputs": [],
   "source": [
    "# 创建符合正太分布的8只股票10天的涨幅数据\n",
    "stock_change = np.random.normal(0, 1, size=(8, 10))"
   ]
  },
  {
   "cell_type": "code",
   "execution_count": 14,
   "metadata": {
    "ExecuteTime": {
     "end_time": "2019-06-17T08:51:53.593447Z",
     "start_time": "2019-06-17T08:51:53.588186Z"
    }
   },
   "outputs": [
    {
     "data": {
      "text/plain": [
       "array([[ 0.3132257 , -0.46024513,  0.35441659,  0.2134478 , -0.36245159,\n",
       "        -0.61769756, -0.62560145,  0.74475758, -0.41547218, -2.29216978],\n",
       "       [-0.96882145,  0.45982668, -0.11112517,  1.24397554, -0.79770076,\n",
       "        -0.54107828,  0.57824967, -0.30768974,  0.22862446, -0.10357878],\n",
       "       [ 1.41669341, -0.1372483 ,  0.23386694, -0.38247377,  0.70938773,\n",
       "         0.81760623, -0.61744438, -1.36872213, -0.39678516, -0.64983887],\n",
       "       [ 0.49650334,  0.99597205,  0.77554436,  0.68082478, -0.39829756,\n",
       "        -0.45545465,  0.11884319, -0.26836318, -0.50948543, -1.50208359],\n",
       "       [-1.14359861,  0.74236865, -0.39765606, -1.11286856,  0.88666064,\n",
       "        -0.22534344,  0.77211442, -0.7001107 ,  0.0376426 ,  0.59363442],\n",
       "       [ 0.15419286, -0.57183949,  0.78439755,  0.73073097,  1.29725037,\n",
       "         1.42749035,  1.27161325,  0.54328655,  0.98591002, -1.77179161],\n",
       "       [-0.44379405,  1.31631826, -0.55333047,  0.81231165,  0.7636537 ,\n",
       "        -0.0820717 , -0.39200582, -0.14315593,  1.06240775,  1.00669385],\n",
       "       [ 0.06702448,  0.90652868, -1.4155932 ,  0.78044688, -0.67157811,\n",
       "         0.27030145,  0.1665991 ,  0.6491727 , -1.47707335, -0.59272819]])"
      ]
     },
     "execution_count": 14,
     "metadata": {},
     "output_type": "execute_result"
    }
   ],
   "source": [
    "stock_change"
   ]
  },
  {
   "cell_type": "markdown",
   "metadata": {},
   "source": [
    "### 数组的索引、切片"
   ]
  },
  {
   "cell_type": "code",
   "execution_count": 15,
   "metadata": {
    "ExecuteTime": {
     "end_time": "2019-06-17T08:54:21.527610Z",
     "start_time": "2019-06-17T08:54:21.519822Z"
    }
   },
   "outputs": [
    {
     "data": {
      "text/plain": [
       "array([ 0.3132257 , -0.46024513,  0.35441659])"
      ]
     },
     "execution_count": 15,
     "metadata": {},
     "output_type": "execute_result"
    }
   ],
   "source": [
    "# 获取第一支股票前3个交易日的涨跌幅数据\n",
    "stock_change[0, 0:3]"
   ]
  },
  {
   "cell_type": "markdown",
   "metadata": {},
   "source": [
    "### ndarray的形状修改"
   ]
  },
  {
   "cell_type": "code",
   "execution_count": 20,
   "metadata": {
    "ExecuteTime": {
     "end_time": "2019-06-17T08:58:05.825451Z",
     "start_time": "2019-06-17T08:58:05.820809Z"
    }
   },
   "outputs": [
    {
     "data": {
      "text/plain": [
       "array([[ 0.3132257 , -0.46024513,  0.35441659,  0.2134478 , -0.36245159,\n",
       "        -0.61769756, -0.62560145,  0.74475758],\n",
       "       [-0.41547218, -2.29216978, -0.96882145,  0.45982668, -0.11112517,\n",
       "         1.24397554, -0.79770076, -0.54107828],\n",
       "       [ 0.57824967, -0.30768974,  0.22862446, -0.10357878,  1.41669341,\n",
       "        -0.1372483 ,  0.23386694, -0.38247377],\n",
       "       [ 0.70938773,  0.81760623, -0.61744438, -1.36872213, -0.39678516,\n",
       "        -0.64983887,  0.49650334,  0.99597205],\n",
       "       [ 0.77554436,  0.68082478, -0.39829756, -0.45545465,  0.11884319,\n",
       "        -0.26836318, -0.50948543, -1.50208359],\n",
       "       [-1.14359861,  0.74236865, -0.39765606, -1.11286856,  0.88666064,\n",
       "        -0.22534344,  0.77211442, -0.7001107 ],\n",
       "       [ 0.0376426 ,  0.59363442,  0.15419286, -0.57183949,  0.78439755,\n",
       "         0.73073097,  1.29725037,  1.42749035],\n",
       "       [ 1.27161325,  0.54328655,  0.98591002, -1.77179161, -0.44379405,\n",
       "         1.31631826, -0.55333047,  0.81231165],\n",
       "       [ 0.7636537 , -0.0820717 , -0.39200582, -0.14315593,  1.06240775,\n",
       "         1.00669385,  0.06702448,  0.90652868],\n",
       "       [-1.4155932 ,  0.78044688, -0.67157811,  0.27030145,  0.1665991 ,\n",
       "         0.6491727 , -1.47707335, -0.59272819]])"
      ]
     },
     "execution_count": 20,
     "metadata": {},
     "output_type": "execute_result"
    }
   ],
   "source": [
    "stock_change.reshape([10, 8])"
   ]
  },
  {
   "cell_type": "code",
   "execution_count": 24,
   "metadata": {
    "ExecuteTime": {
     "end_time": "2019-06-17T08:59:23.650501Z",
     "start_time": "2019-06-17T08:59:23.642161Z"
    }
   },
   "outputs": [
    {
     "data": {
      "text/plain": [
       "array([[ 0.3132257 , -0.46024513,  0.35441659,  0.2134478 , -0.36245159,\n",
       "        -0.61769756, -0.62560145,  0.74475758, -0.41547218, -2.29216978,\n",
       "        -0.96882145,  0.45982668, -0.11112517,  1.24397554, -0.79770076,\n",
       "        -0.54107828,  0.57824967, -0.30768974,  0.22862446, -0.10357878],\n",
       "       [ 1.41669341, -0.1372483 ,  0.23386694, -0.38247377,  0.70938773,\n",
       "         0.81760623, -0.61744438, -1.36872213, -0.39678516, -0.64983887,\n",
       "         0.49650334,  0.99597205,  0.77554436,  0.68082478, -0.39829756,\n",
       "        -0.45545465,  0.11884319, -0.26836318, -0.50948543, -1.50208359],\n",
       "       [-1.14359861,  0.74236865, -0.39765606, -1.11286856,  0.88666064,\n",
       "        -0.22534344,  0.77211442, -0.7001107 ,  0.0376426 ,  0.59363442,\n",
       "         0.15419286, -0.57183949,  0.78439755,  0.73073097,  1.29725037,\n",
       "         1.42749035,  1.27161325,  0.54328655,  0.98591002, -1.77179161],\n",
       "       [-0.44379405,  1.31631826, -0.55333047,  0.81231165,  0.7636537 ,\n",
       "        -0.0820717 , -0.39200582, -0.14315593,  1.06240775,  1.00669385,\n",
       "         0.06702448,  0.90652868, -1.4155932 ,  0.78044688, -0.67157811,\n",
       "         0.27030145,  0.1665991 ,  0.6491727 , -1.47707335, -0.59272819]])"
      ]
     },
     "execution_count": 24,
     "metadata": {},
     "output_type": "execute_result"
    }
   ],
   "source": [
    "stock_change.reshape([-2, 20]) # 数组的形状被修改为: (4, 20), 负数: 表示通过待计算"
   ]
  },
  {
   "cell_type": "code",
   "execution_count": 25,
   "metadata": {
    "ExecuteTime": {
     "end_time": "2019-06-17T09:00:24.032447Z",
     "start_time": "2019-06-17T09:00:24.026860Z"
    }
   },
   "outputs": [
    {
     "data": {
      "text/plain": [
       "array([[ 0.3132257 , -0.46024513,  0.35441659,  0.2134478 , -0.36245159,\n",
       "        -0.61769756, -0.62560145,  0.74475758, -0.41547218, -2.29216978],\n",
       "       [-0.96882145,  0.45982668, -0.11112517,  1.24397554, -0.79770076,\n",
       "        -0.54107828,  0.57824967, -0.30768974,  0.22862446, -0.10357878],\n",
       "       [ 1.41669341, -0.1372483 ,  0.23386694, -0.38247377,  0.70938773,\n",
       "         0.81760623, -0.61744438, -1.36872213, -0.39678516, -0.64983887],\n",
       "       [ 0.49650334,  0.99597205,  0.77554436,  0.68082478, -0.39829756,\n",
       "        -0.45545465,  0.11884319, -0.26836318, -0.50948543, -1.50208359],\n",
       "       [-1.14359861,  0.74236865, -0.39765606, -1.11286856,  0.88666064,\n",
       "        -0.22534344,  0.77211442, -0.7001107 ,  0.0376426 ,  0.59363442],\n",
       "       [ 0.15419286, -0.57183949,  0.78439755,  0.73073097,  1.29725037,\n",
       "         1.42749035,  1.27161325,  0.54328655,  0.98591002, -1.77179161],\n",
       "       [-0.44379405,  1.31631826, -0.55333047,  0.81231165,  0.7636537 ,\n",
       "        -0.0820717 , -0.39200582, -0.14315593,  1.06240775,  1.00669385],\n",
       "       [ 0.06702448,  0.90652868, -1.4155932 ,  0.78044688, -0.67157811,\n",
       "         0.27030145,  0.1665991 ,  0.6491727 , -1.47707335, -0.59272819]])"
      ]
     },
     "execution_count": 25,
     "metadata": {},
     "output_type": "execute_result"
    }
   ],
   "source": [
    "stock_change"
   ]
  },
  {
   "cell_type": "code",
   "execution_count": 26,
   "metadata": {
    "ExecuteTime": {
     "end_time": "2019-06-17T09:00:51.701551Z",
     "start_time": "2019-06-17T09:00:51.698481Z"
    }
   },
   "outputs": [],
   "source": [
    "stock_change.resize([10, 8])  # 改变原数组"
   ]
  },
  {
   "cell_type": "code",
   "execution_count": 27,
   "metadata": {
    "ExecuteTime": {
     "end_time": "2019-06-17T09:00:57.915052Z",
     "start_time": "2019-06-17T09:00:57.909153Z"
    }
   },
   "outputs": [
    {
     "data": {
      "text/plain": [
       "array([[ 0.3132257 , -0.46024513,  0.35441659,  0.2134478 , -0.36245159,\n",
       "        -0.61769756, -0.62560145,  0.74475758],\n",
       "       [-0.41547218, -2.29216978, -0.96882145,  0.45982668, -0.11112517,\n",
       "         1.24397554, -0.79770076, -0.54107828],\n",
       "       [ 0.57824967, -0.30768974,  0.22862446, -0.10357878,  1.41669341,\n",
       "        -0.1372483 ,  0.23386694, -0.38247377],\n",
       "       [ 0.70938773,  0.81760623, -0.61744438, -1.36872213, -0.39678516,\n",
       "        -0.64983887,  0.49650334,  0.99597205],\n",
       "       [ 0.77554436,  0.68082478, -0.39829756, -0.45545465,  0.11884319,\n",
       "        -0.26836318, -0.50948543, -1.50208359],\n",
       "       [-1.14359861,  0.74236865, -0.39765606, -1.11286856,  0.88666064,\n",
       "        -0.22534344,  0.77211442, -0.7001107 ],\n",
       "       [ 0.0376426 ,  0.59363442,  0.15419286, -0.57183949,  0.78439755,\n",
       "         0.73073097,  1.29725037,  1.42749035],\n",
       "       [ 1.27161325,  0.54328655,  0.98591002, -1.77179161, -0.44379405,\n",
       "         1.31631826, -0.55333047,  0.81231165],\n",
       "       [ 0.7636537 , -0.0820717 , -0.39200582, -0.14315593,  1.06240775,\n",
       "         1.00669385,  0.06702448,  0.90652868],\n",
       "       [-1.4155932 ,  0.78044688, -0.67157811,  0.27030145,  0.1665991 ,\n",
       "         0.6491727 , -1.47707335, -0.59272819]])"
      ]
     },
     "execution_count": 27,
     "metadata": {},
     "output_type": "execute_result"
    }
   ],
   "source": [
    "stock_change"
   ]
  },
  {
   "cell_type": "code",
   "execution_count": 31,
   "metadata": {
    "ExecuteTime": {
     "end_time": "2019-06-17T09:01:54.535466Z",
     "start_time": "2019-06-17T09:01:54.531938Z"
    }
   },
   "outputs": [
    {
     "data": {
      "text/plain": [
       "(10, 8)"
      ]
     },
     "execution_count": 31,
     "metadata": {},
     "output_type": "execute_result"
    }
   ],
   "source": [
    "stock_change.shape"
   ]
  },
  {
   "cell_type": "code",
   "execution_count": 29,
   "metadata": {
    "ExecuteTime": {
     "end_time": "2019-06-17T09:01:38.888588Z",
     "start_time": "2019-06-17T09:01:38.885859Z"
    }
   },
   "outputs": [
    {
     "data": {
      "text/plain": [
       "(8, 10)"
      ]
     },
     "execution_count": 29,
     "metadata": {},
     "output_type": "execute_result"
    }
   ],
   "source": [
    "stock_change.T.shape"
   ]
  },
  {
   "cell_type": "markdown",
   "metadata": {},
   "source": [
    "### 类型修改"
   ]
  },
  {
   "cell_type": "code",
   "execution_count": 32,
   "metadata": {
    "ExecuteTime": {
     "end_time": "2019-06-17T09:02:33.373861Z",
     "start_time": "2019-06-17T09:02:33.371305Z"
    }
   },
   "outputs": [
    {
     "data": {
      "text/plain": [
       "dtype('float64')"
      ]
     },
     "execution_count": 32,
     "metadata": {},
     "output_type": "execute_result"
    }
   ],
   "source": [
    "stock_change.dtype"
   ]
  },
  {
   "cell_type": "code",
   "execution_count": 33,
   "metadata": {
    "ExecuteTime": {
     "end_time": "2019-06-17T09:02:51.455374Z",
     "start_time": "2019-06-17T09:02:51.451593Z"
    }
   },
   "outputs": [
    {
     "data": {
      "text/plain": [
       "array([[ 0.31322572, -0.46024513,  0.3544166 ,  0.21344781, -0.36245158,\n",
       "        -0.61769754, -0.6256015 ,  0.7447576 ],\n",
       "       [-0.41547218, -2.2921698 , -0.96882147,  0.45982668, -0.11112517,\n",
       "         1.2439755 , -0.79770076, -0.54107827],\n",
       "       [ 0.5782497 , -0.30768973,  0.22862446, -0.10357878,  1.4166934 ,\n",
       "        -0.13724831,  0.23386694, -0.38247377],\n",
       "       [ 0.7093877 ,  0.8176062 , -0.6174444 , -1.3687221 , -0.39678517,\n",
       "        -0.64983886,  0.49650335,  0.99597204],\n",
       "       [ 0.77554435,  0.68082476, -0.39829758, -0.45545465,  0.11884319,\n",
       "        -0.26836318, -0.5094854 , -1.5020835 ],\n",
       "       [-1.1435986 ,  0.74236864, -0.39765605, -1.1128685 ,  0.88666064,\n",
       "        -0.22534344,  0.7721144 , -0.7001107 ],\n",
       "       [ 0.0376426 ,  0.5936344 ,  0.15419286, -0.5718395 ,  0.78439754,\n",
       "         0.73073095,  1.2972504 ,  1.4274904 ],\n",
       "       [ 1.2716132 ,  0.54328656,  0.98591   , -1.7717916 , -0.44379404,\n",
       "         1.3163183 , -0.5533305 ,  0.81231165],\n",
       "       [ 0.7636537 , -0.0820717 , -0.39200583, -0.14315593,  1.0624077 ,\n",
       "         1.0066938 ,  0.06702448,  0.9065287 ],\n",
       "       [-1.4155931 ,  0.7804469 , -0.6715781 ,  0.27030146,  0.16659911,\n",
       "         0.6491727 , -1.4770733 , -0.5927282 ]], dtype=float32)"
      ]
     },
     "execution_count": 33,
     "metadata": {},
     "output_type": "execute_result"
    }
   ],
   "source": [
    "stock_change.astype(np.float32)  # 不改变原有数组元素类型"
   ]
  },
  {
   "cell_type": "code",
   "execution_count": 34,
   "metadata": {
    "ExecuteTime": {
     "end_time": "2019-06-17T09:03:01.597939Z",
     "start_time": "2019-06-17T09:03:01.595108Z"
    }
   },
   "outputs": [
    {
     "data": {
      "text/plain": [
       "dtype('float64')"
      ]
     },
     "execution_count": 34,
     "metadata": {},
     "output_type": "execute_result"
    }
   ],
   "source": [
    "stock_change.dtype"
   ]
  },
  {
   "cell_type": "code",
   "execution_count": 35,
   "metadata": {
    "ExecuteTime": {
     "end_time": "2019-06-17T09:05:18.782158Z",
     "start_time": "2019-06-17T09:05:18.779388Z"
    }
   },
   "outputs": [
    {
     "data": {
      "text/plain": [
       "b'))\\x8b\\xd2\\xe3\\x0b\\xd4?\\xda\\xae\\x83\\xfc\\xa7t\\xdd\\xbf\\xed<\\xbf\\xf0\\xc2\\xae\\xd6?\\x08\\x80m\\xf2AR\\xcb?H\\x9a\\x00#h2\\xd7\\xbf\\x8a\\xaa`\\xaa-\\xc4\\xe3\\xbf\\xbe;\\xfeS\\xed\\x04\\xe4\\xbf\\xff\\x80\\xd6\\xd7\\r\\xd5\\xe7?\\xe6\"b\\xa2\\x18\\x97\\xda\\xbf\\xb0!\\xb6\\x1c]V\\x02\\xc0\\xd6\\x9b\\xf4\\xd8\\x95\\x00\\xef\\xbf\\xc0q-\\xde\\xccm\\xdd?u\\xf38\\xfc\\xb2r\\xbc\\xbf\\xd0\\xbb\\x0b\\xe4R\\xe7\\xf3?\\xf6\\xe3K\\xbd\\xc3\\x86\\xe9\\xbf\\x06\\xcf\\x82g\\x83P\\xe1\\xbf\\x92\\xf9}r\\x05\\x81\\xe2?B%\\x8cN0\\xb1\\xd3\\xbf_\\x1f\\x98\\x00\\x91C\\xcd?Yk\\xd3\\x92#\\x84\\xba\\xbf\\xee\\xccf\\xb5\\xc6\\xaa\\xf6?\\xda\\x0b2:Z\\x91\\xc1\\xbf\\x87\\xb4\\x93\\x1cZ\\xef\\xcd?e\\x1e\\xb3Dsz\\xd8\\xbf\\xd6\\xca#\\xe4M\\xb3\\xe6?\\x14|\\x7f\\x88\\xd4)\\xea?\\xa9\\xf9\\xc4\\xb9\\x1a\\xc2\\xe3\\xbf\\x1es\\xdb-I\\xe6\\xf5\\xbf(qD\\x96\\xedd\\xd9\\xbf\\x0f\\x80\\x8d\\xe1z\\xcb\\xe4\\xbf2\\x850\\xf3\\xb5\\xc6\\xdf?\\xf7H\\x94\\xc8\\x00\\xdf\\xef?\\xf4plfB\\xd1\\xe8?\\x00\\xf8\\xcc\\x0bQ\\xc9\\xe5?)\\xe1\\t\\x10\\xb5}\\xd9\\xbf\\xb3.\\xc4D+&\\xdd\\xbf\\xff?\\x80\\xec\\x81l\\xbe?\\xc8\\xdb\\x8c\\xc4\\xdc,\\xd1\\xbf\\xee\\x8bHe\\xb4M\\xe0\\xbf\\xf5\\xd8\\xa5\\xcc\\x88\\x08\\xf8\\xbf\\x90\\x9b!\\r.L\\xf2\\xbf\\x83\\x87`\\xe4{\\xc1\\xe7?+\\x03qf2s\\xd9\\xbf\\x8d\\x8b\\xabBO\\xce\\xf1\\xbfE\\xb0*\"\\x86_\\xec?\\x86\\x165\\xca\\r\\xd8\\xcc\\xbf$\\x008L)\\xb5\\xe8?Y\\x9eQ\\x8dNg\\xe6\\xbf\\xe8qk\\x1c\\xe4E\\xa3?\\xa6\\xadj\\x9b\\r\\xff\\xe2?qMd~\\x97\\xbc\\xc3?\\xc4\\xac\\x94S\\x82L\\xe2\\xbf\\xbe\\xc2\\xd5\\xe5\\xc8\\x19\\xe9?\\xfe\\x97\\xdc\\xe8%b\\xe7?\\xd8l\\x9c\\x9a\\x89\\xc1\\xf4?<\\xb4[\\x1f\\x00\\xd7\\xf6?\\x9a\\'\\\\#\\x87X\\xf4?\\x80\\xe0\\xc4x\\x9ab\\xe1?\\x18\\x82\\xea*\\x93\\x8c\\xef?\\x12_@)BY\\xfc\\xbfB\\xe9t\\'\\x1fg\\xdc\\xbf/\\xa5G\\xbb\\xa3\\x0f\\xf5?J\\xb3]\\x18\\xe2\\xb4\\xe1\\xbf6\\xd0\\xf9\\x01u\\xfe\\xe9?\\x0c\\xf7F\\xe2\\xd9o\\xe8?\\x91\\x9d\\x86\\xad\\xa6\\x02\\xb5\\xbfP\\x04\\xd2\\x97\\x9f\\x16\\xd9\\xbf\\xf4\\xf4\\xf1\\x04\\xefR\\xc2\\xbf\\xbf\\xa9\\x84D\\x9f\\xff\\xf0?YX\\x84\\x01k\\x1b\\xf0?%=\\x1b@\\x84(\\xb1?y\\x16\\xf1pH\\x02\\xed?4\\x13^\\x0eE\\xa6\\xf6\\xbf\\x00Q\\x9e\\xbak\\xf9\\xe8?\\xb5Y\\xa2b\\x91}\\xe5\\xbf\\xff\\x17\\xa8p\\x9eL\\xd1?\\x17\\xf2D\\x90\\x1eS\\xc5?\\t\\xe7b\\xd5\\x05\\xc6\\xe4?\\x170j\\xab\\x17\\xa2\\xf7\\xbf+\\xa0]\\x1a\\xa1\\xf7\\xe2\\xbf'"
      ]
     },
     "execution_count": 35,
     "metadata": {},
     "output_type": "execute_result"
    }
   ],
   "source": [
    "stock_change.tostring()  # 将数组转化成字符串, 便于网络传输"
   ]
  },
  {
   "cell_type": "markdown",
   "metadata": {},
   "source": [
    "### ndarray去重"
   ]
  },
  {
   "cell_type": "code",
   "execution_count": 37,
   "metadata": {
    "ExecuteTime": {
     "end_time": "2019-06-17T09:07:01.677611Z",
     "start_time": "2019-06-17T09:07:01.673369Z"
    }
   },
   "outputs": [
    {
     "data": {
      "text/plain": [
       "array([-2.29216978, -1.77179161, -1.50208359, -1.47707335, -1.4155932 ,\n",
       "       -1.36872213, -1.14359861, -1.11286856, -0.96882145, -0.79770076,\n",
       "       -0.7001107 , -0.67157811, -0.64983887, -0.62560145, -0.61769756,\n",
       "       -0.61744438, -0.59272819, -0.57183949, -0.55333047, -0.54107828,\n",
       "       -0.50948543, -0.46024513, -0.45545465, -0.44379405, -0.41547218,\n",
       "       -0.39829756, -0.39765606, -0.39678516, -0.39200582, -0.38247377,\n",
       "       -0.36245159, -0.30768974, -0.26836318, -0.22534344, -0.14315593,\n",
       "       -0.1372483 , -0.11112517, -0.10357878, -0.0820717 ,  0.0376426 ,\n",
       "        0.06702448,  0.11884319,  0.15419286,  0.1665991 ,  0.2134478 ,\n",
       "        0.22862446,  0.23386694,  0.27030145,  0.3132257 ,  0.35441659,\n",
       "        0.45982668,  0.49650334,  0.54328655,  0.57824967,  0.59363442,\n",
       "        0.6491727 ,  0.68082478,  0.70938773,  0.73073097,  0.74236865,\n",
       "        0.74475758,  0.7636537 ,  0.77211442,  0.77554436,  0.78044688,\n",
       "        0.78439755,  0.81231165,  0.81760623,  0.88666064,  0.90652868,\n",
       "        0.98591002,  0.99597205,  1.00669385,  1.06240775,  1.24397554,\n",
       "        1.27161325,  1.29725037,  1.31631826,  1.41669341,  1.42749035])"
      ]
     },
     "execution_count": 37,
     "metadata": {},
     "output_type": "execute_result"
    }
   ],
   "source": [
    "np.unique(stock_change)  # 返回以为数组"
   ]
  },
  {
   "cell_type": "markdown",
   "metadata": {},
   "source": [
    "### ndarray的运算"
   ]
  },
  {
   "cell_type": "markdown",
   "metadata": {},
   "source": [
    "#### 逻辑运算"
   ]
  },
  {
   "cell_type": "code",
   "execution_count": null,
   "metadata": {},
   "outputs": [],
   "source": [
    "直接使用逻辑运算付(>, <, = 等), 其实是对每个元素进行相应的逻辑判断"
   ]
  },
  {
   "cell_type": "markdown",
   "metadata": {},
   "source": [
    "**逻辑运算函数**"
   ]
  },
  {
   "cell_type": "code",
   "execution_count": 39,
   "metadata": {
    "ExecuteTime": {
     "end_time": "2019-06-17T09:09:56.504852Z",
     "start_time": "2019-06-17T09:09:56.499773Z"
    }
   },
   "outputs": [
    {
     "data": {
      "text/plain": [
       "True"
      ]
     },
     "execution_count": 39,
     "metadata": {},
     "output_type": "execute_result"
    }
   ],
   "source": [
    "# a数组中所有元素都是True时返回True, 否则返回False\n",
    "np.all(stock_change)"
   ]
  },
  {
   "cell_type": "code",
   "execution_count": 41,
   "metadata": {
    "ExecuteTime": {
     "end_time": "2019-06-17T09:11:33.778130Z",
     "start_time": "2019-06-17T09:11:33.770995Z"
    }
   },
   "outputs": [
    {
     "data": {
      "text/plain": [
       "True"
      ]
     },
     "execution_count": 41,
     "metadata": {},
     "output_type": "execute_result"
    }
   ],
   "source": [
    "# 数组中有一个元素为True则返回True, 否则返回false\n",
    "np.any(stock_change)"
   ]
  },
  {
   "cell_type": "code",
   "execution_count": 42,
   "metadata": {
    "ExecuteTime": {
     "end_time": "2019-06-17T09:12:13.572251Z",
     "start_time": "2019-06-17T09:12:13.567605Z"
    }
   },
   "outputs": [
    {
     "data": {
      "text/plain": [
       "array([[1, 0, 1, 1, 0, 0, 0, 1],\n",
       "       [0, 0, 0, 1, 0, 1, 0, 0],\n",
       "       [1, 0, 1, 0, 1, 0, 1, 0],\n",
       "       [1, 1, 0, 0, 0, 0, 1, 1],\n",
       "       [1, 1, 0, 0, 1, 0, 0, 0],\n",
       "       [0, 1, 0, 0, 1, 0, 1, 0],\n",
       "       [1, 1, 1, 0, 1, 1, 1, 1],\n",
       "       [1, 1, 1, 0, 0, 1, 0, 1],\n",
       "       [1, 0, 0, 0, 1, 1, 1, 1],\n",
       "       [0, 1, 0, 1, 1, 1, 0, 0]])"
      ]
     },
     "execution_count": 42,
     "metadata": {},
     "output_type": "execute_result"
    }
   ],
   "source": [
    "# 第一个参数是逻辑表达式, 逻辑表达式对数组每个元素进行判断, 为True时, 将该位置的值替换成第二个参数, 为False时替换成第三个参数\n",
    "np.where(stock_change>0, 1, 0)"
   ]
  },
  {
   "cell_type": "markdown",
   "metadata": {},
   "source": [
    "#### 复合逻辑运算"
   ]
  },
  {
   "cell_type": "code",
   "execution_count": 43,
   "metadata": {
    "ExecuteTime": {
     "end_time": "2019-06-17T09:15:56.094550Z",
     "start_time": "2019-06-17T09:15:56.090155Z"
    }
   },
   "outputs": [
    {
     "data": {
      "text/plain": [
       "array([[1, 1, 1, 1, 1, 0, 0, 1],\n",
       "       [1, 0, 0, 1, 1, 0, 0, 0],\n",
       "       [1, 1, 1, 1, 0, 1, 1, 1],\n",
       "       [1, 1, 0, 0, 1, 0, 1, 1],\n",
       "       [1, 1, 1, 1, 1, 1, 0, 0],\n",
       "       [0, 1, 1, 0, 1, 1, 1, 0],\n",
       "       [1, 1, 1, 0, 1, 1, 0, 0],\n",
       "       [0, 1, 1, 0, 1, 0, 0, 1],\n",
       "       [1, 1, 1, 1, 0, 0, 1, 1],\n",
       "       [0, 1, 0, 1, 1, 1, 0, 0]])"
      ]
     },
     "execution_count": 43,
     "metadata": {},
     "output_type": "execute_result"
    }
   ],
   "source": [
    "np.where(np.logical_and(stock_change>-0.5, stock_change<1.0), 1, 0)"
   ]
  },
  {
   "cell_type": "code",
   "execution_count": 45,
   "metadata": {
    "ExecuteTime": {
     "end_time": "2019-06-17T09:16:19.901213Z",
     "start_time": "2019-06-17T09:16:19.894634Z"
    }
   },
   "outputs": [
    {
     "data": {
      "text/plain": [
       "array([[0, 0, 0, 0, 0, 1, 1, 0],\n",
       "       [0, 1, 1, 0, 0, 1, 1, 1],\n",
       "       [0, 0, 0, 0, 1, 0, 0, 0],\n",
       "       [0, 0, 1, 1, 0, 1, 0, 0],\n",
       "       [0, 0, 0, 0, 0, 0, 1, 1],\n",
       "       [1, 0, 0, 1, 0, 0, 0, 1],\n",
       "       [0, 0, 0, 1, 0, 0, 1, 1],\n",
       "       [1, 0, 0, 1, 0, 1, 1, 0],\n",
       "       [0, 0, 0, 0, 1, 1, 0, 0],\n",
       "       [1, 0, 1, 0, 0, 0, 1, 1]])"
      ]
     },
     "execution_count": 45,
     "metadata": {},
     "output_type": "execute_result"
    }
   ],
   "source": [
    "np.where(np.logical_or(stock_change<-0.5, stock_change>1.0), 1, 0)"
   ]
  },
  {
   "cell_type": "markdown",
   "metadata": {},
   "source": [
    "#### 统计运算"
   ]
  },
  {
   "cell_type": "code",
   "execution_count": null,
   "metadata": {},
   "outputs": [],
   "source": [
    "统计指标\n",
    "max, min, mean, median-中位数, std-标准差, var-方差"
   ]
  },
  {
   "cell_type": "code",
   "execution_count": null,
   "metadata": {},
   "outputs": [],
   "source": [
    "索引\n",
    "np.argmax(temp, axis)  # 返回最大值的索引\n",
    "np.argmin(temp, axis)  # 返回最小值的索引\n",
    "axis=0 : 代表按列进行索引\n",
    "axis=1 : 代表按行进行索引"
   ]
  },
  {
   "cell_type": "code",
   "execution_count": 51,
   "metadata": {
    "ExecuteTime": {
     "end_time": "2019-06-17T11:16:57.830407Z",
     "start_time": "2019-06-17T11:16:57.822873Z"
    }
   },
   "outputs": [],
   "source": [
    "a = np.random.randint(-10, 10, [2, 5])"
   ]
  },
  {
   "cell_type": "code",
   "execution_count": 52,
   "metadata": {
    "ExecuteTime": {
     "end_time": "2019-06-17T11:16:59.218980Z",
     "start_time": "2019-06-17T11:16:59.211789Z"
    }
   },
   "outputs": [
    {
     "data": {
      "text/plain": [
       "array([[ -1,  -1,  -9,   0,  -4],\n",
       "       [-10,   8,  -5,   6,   7]])"
      ]
     },
     "execution_count": 52,
     "metadata": {},
     "output_type": "execute_result"
    }
   ],
   "source": [
    "a"
   ]
  },
  {
   "cell_type": "code",
   "execution_count": 60,
   "metadata": {
    "ExecuteTime": {
     "end_time": "2019-06-17T11:19:16.828557Z",
     "start_time": "2019-06-17T11:19:16.824307Z"
    }
   },
   "outputs": [
    {
     "data": {
      "text/plain": [
       "8"
      ]
     },
     "execution_count": 60,
     "metadata": {},
     "output_type": "execute_result"
    }
   ],
   "source": [
    "np.max(a)"
   ]
  },
  {
   "cell_type": "code",
   "execution_count": 53,
   "metadata": {
    "ExecuteTime": {
     "end_time": "2019-06-17T11:17:15.480838Z",
     "start_time": "2019-06-17T11:17:15.476873Z"
    }
   },
   "outputs": [
    {
     "data": {
      "text/plain": [
       "array([-1,  8, -5,  6,  7])"
      ]
     },
     "execution_count": 53,
     "metadata": {},
     "output_type": "execute_result"
    }
   ],
   "source": [
    "np.max(a, axis=0)"
   ]
  },
  {
   "cell_type": "code",
   "execution_count": 54,
   "metadata": {
    "ExecuteTime": {
     "end_time": "2019-06-17T11:17:38.420119Z",
     "start_time": "2019-06-17T11:17:38.413744Z"
    }
   },
   "outputs": [
    {
     "data": {
      "text/plain": [
       "array([ -9, -10])"
      ]
     },
     "execution_count": 54,
     "metadata": {},
     "output_type": "execute_result"
    }
   ],
   "source": [
    "np.min(a, axis=1)"
   ]
  },
  {
   "cell_type": "code",
   "execution_count": 55,
   "metadata": {
    "ExecuteTime": {
     "end_time": "2019-06-17T11:17:55.617721Z",
     "start_time": "2019-06-17T11:17:55.608379Z"
    }
   },
   "outputs": [
    {
     "data": {
      "text/plain": [
       "-0.9"
      ]
     },
     "execution_count": 55,
     "metadata": {},
     "output_type": "execute_result"
    }
   ],
   "source": [
    "np.mean(a)"
   ]
  },
  {
   "cell_type": "code",
   "execution_count": 58,
   "metadata": {
    "ExecuteTime": {
     "end_time": "2019-06-17T11:18:40.113282Z",
     "start_time": "2019-06-17T11:18:40.100400Z"
    }
   },
   "outputs": [
    {
     "data": {
      "text/plain": [
       "array([-5.5,  3.5, -7. ,  3. ,  1.5])"
      ]
     },
     "execution_count": 58,
     "metadata": {},
     "output_type": "execute_result"
    }
   ],
   "source": [
    "np.mean(a, axis=0)"
   ]
  },
  {
   "cell_type": "code",
   "execution_count": 59,
   "metadata": {
    "ExecuteTime": {
     "end_time": "2019-06-17T11:18:55.138965Z",
     "start_time": "2019-06-17T11:18:55.128795Z"
    }
   },
   "outputs": [
    {
     "data": {
      "text/plain": [
       "array([-3. ,  1.2])"
      ]
     },
     "execution_count": 59,
     "metadata": {},
     "output_type": "execute_result"
    }
   ],
   "source": [
    "np.mean(a, axis=1)"
   ]
  },
  {
   "cell_type": "code",
   "execution_count": 62,
   "metadata": {
    "ExecuteTime": {
     "end_time": "2019-06-17T11:19:41.055390Z",
     "start_time": "2019-06-17T11:19:41.051788Z"
    }
   },
   "outputs": [
    {
     "data": {
      "text/plain": [
       "-1.0"
      ]
     },
     "execution_count": 62,
     "metadata": {},
     "output_type": "execute_result"
    }
   ],
   "source": [
    "np.median(a)"
   ]
  },
  {
   "cell_type": "code",
   "execution_count": 64,
   "metadata": {
    "ExecuteTime": {
     "end_time": "2019-06-17T11:19:53.138083Z",
     "start_time": "2019-06-17T11:19:53.134909Z"
    }
   },
   "outputs": [
    {
     "data": {
      "text/plain": [
       "6.040695324215583"
      ]
     },
     "execution_count": 64,
     "metadata": {},
     "output_type": "execute_result"
    }
   ],
   "source": [
    "np.std(a)"
   ]
  },
  {
   "cell_type": "code",
   "execution_count": 65,
   "metadata": {
    "ExecuteTime": {
     "end_time": "2019-06-17T11:20:01.669049Z",
     "start_time": "2019-06-17T11:20:01.666069Z"
    }
   },
   "outputs": [
    {
     "data": {
      "text/plain": [
       "36.49"
      ]
     },
     "execution_count": 65,
     "metadata": {},
     "output_type": "execute_result"
    }
   ],
   "source": [
    "np.var(a)"
   ]
  },
  {
   "cell_type": "code",
   "execution_count": 66,
   "metadata": {
    "ExecuteTime": {
     "end_time": "2019-06-17T11:20:19.502108Z",
     "start_time": "2019-06-17T11:20:19.499253Z"
    }
   },
   "outputs": [
    {
     "data": {
      "text/plain": [
       "6"
      ]
     },
     "execution_count": 66,
     "metadata": {},
     "output_type": "execute_result"
    }
   ],
   "source": [
    "np.argmax(a)"
   ]
  },
  {
   "cell_type": "markdown",
   "metadata": {},
   "source": [
    "#### 数组间运算"
   ]
  },
  {
   "cell_type": "code",
   "execution_count": null,
   "metadata": {},
   "outputs": [],
   "source": [
    "前提: 行列数相同\n",
    "直接加减乘除: 通过广播的方式, 对每个元素相应的加减乘除\n",
    "广播机制: 按行广播, 按列广播\n",
    "矩阵乘法: np.matmul(a, b)\n",
    "(M行, N列) * (N行, L列)\n",
    "对应位置上相乘在相加"
   ]
  },
  {
   "cell_type": "code",
   "execution_count": 72,
   "metadata": {
    "ExecuteTime": {
     "end_time": "2019-06-17T11:53:19.113409Z",
     "start_time": "2019-06-17T11:53:19.110402Z"
    }
   },
   "outputs": [],
   "source": [
    "a = np.random.randint(-10, 10, (2, 3))\n",
    "b = np.random.randint(-10, 10, (2, 3))\n",
    "c = np.random.randint(-10, 10, (3, 2))"
   ]
  },
  {
   "cell_type": "code",
   "execution_count": 68,
   "metadata": {
    "ExecuteTime": {
     "end_time": "2019-06-17T11:51:49.979569Z",
     "start_time": "2019-06-17T11:51:49.972087Z"
    }
   },
   "outputs": [
    {
     "data": {
      "text/plain": [
       "(array([[ 7,  8,  3],\n",
       "        [-5, -1, -2]]), array([[ 4, -4,  6],\n",
       "        [ 6, -4, -6]]))"
      ]
     },
     "execution_count": 68,
     "metadata": {},
     "output_type": "execute_result"
    }
   ],
   "source": [
    "a, b"
   ]
  },
  {
   "cell_type": "code",
   "execution_count": 69,
   "metadata": {
    "ExecuteTime": {
     "end_time": "2019-06-17T11:52:26.043376Z",
     "start_time": "2019-06-17T11:52:26.036382Z"
    }
   },
   "outputs": [
    {
     "data": {
      "text/plain": [
       "array([[11,  4,  9],\n",
       "       [ 1, -5, -8]])"
      ]
     },
     "execution_count": 69,
     "metadata": {},
     "output_type": "execute_result"
    }
   ],
   "source": [
    "a + b"
   ]
  },
  {
   "cell_type": "code",
   "execution_count": 70,
   "metadata": {
    "ExecuteTime": {
     "end_time": "2019-06-17T11:52:31.169322Z",
     "start_time": "2019-06-17T11:52:31.165037Z"
    }
   },
   "outputs": [
    {
     "data": {
      "text/plain": [
       "array([[ 28, -32,  18],\n",
       "       [-30,   4,  12]])"
      ]
     },
     "execution_count": 70,
     "metadata": {},
     "output_type": "execute_result"
    }
   ],
   "source": [
    "a * b"
   ]
  },
  {
   "cell_type": "code",
   "execution_count": 74,
   "metadata": {
    "ExecuteTime": {
     "end_time": "2019-06-17T11:53:36.659692Z",
     "start_time": "2019-06-17T11:53:36.650676Z"
    }
   },
   "outputs": [
    {
     "data": {
      "text/plain": [
       "array([[ -7,   1,  -9],\n",
       "       [  2, -18,   0]])"
      ]
     },
     "execution_count": 74,
     "metadata": {},
     "output_type": "execute_result"
    }
   ],
   "source": [
    "a - b"
   ]
  },
  {
   "cell_type": "code",
   "execution_count": 75,
   "metadata": {
    "ExecuteTime": {
     "end_time": "2019-06-17T11:53:42.710529Z",
     "start_time": "2019-06-17T11:53:42.704483Z"
    }
   },
   "outputs": [
    {
     "data": {
      "text/plain": [
       "array([[-0.16666667,  0.8       , -0.5       ],\n",
       "       [ 2.        , -1.        ,  1.        ]])"
      ]
     },
     "execution_count": 75,
     "metadata": {},
     "output_type": "execute_result"
    }
   ],
   "source": [
    "a/b"
   ]
  },
  {
   "cell_type": "code",
   "execution_count": 73,
   "metadata": {
    "ExecuteTime": {
     "end_time": "2019-06-17T11:53:23.659091Z",
     "start_time": "2019-06-17T11:53:23.654816Z"
    }
   },
   "outputs": [
    {
     "data": {
      "text/plain": [
       "array([[21, 18],\n",
       "       [24, 88]])"
      ]
     },
     "execution_count": 73,
     "metadata": {},
     "output_type": "execute_result"
    }
   ],
   "source": [
    "np.matmul(a, c)"
   ]
  },
  {
   "cell_type": "markdown",
   "metadata": {},
   "source": [
    "### 矩阵"
   ]
  },
  {
   "cell_type": "code",
   "execution_count": null,
   "metadata": {},
   "outputs": [],
   "source": [
    "1. 什么是矩阵\n",
    "矩阵就是一个二维数组\n",
    "2. 什么是向量\n",
    "既有大小又有方向\n",
    "列向量: 只有一列的数组\n",
    "2. 什么是方阵?\n",
    "行和列相等的矩阵\n",
    "3. 矩阵的转置?\n",
    "行和列互换\n",
    "4. 什么是单位阵?\n",
    "元素都为1的方阵"
   ]
  }
 ],
 "metadata": {
  "kernelspec": {
   "display_name": "Python 3",
   "language": "python",
   "name": "python3"
  },
  "language_info": {
   "codemirror_mode": {
    "name": "ipython",
    "version": 3
   },
   "file_extension": ".py",
   "mimetype": "text/x-python",
   "name": "python",
   "nbconvert_exporter": "python",
   "pygments_lexer": "ipython3",
   "version": "3.6.8"
  },
  "toc": {
   "base_numbering": 1,
   "nav_menu": {},
   "number_sections": true,
   "sideBar": true,
   "skip_h1_title": false,
   "title_cell": "Table of Contents",
   "title_sidebar": "Contents",
   "toc_cell": false,
   "toc_position": {},
   "toc_section_display": true,
   "toc_window_display": false
  },
  "varInspector": {
   "cols": {
    "lenName": 16,
    "lenType": 16,
    "lenVar": 40
   },
   "kernels_config": {
    "python": {
     "delete_cmd_postfix": "",
     "delete_cmd_prefix": "del ",
     "library": "var_list.py",
     "varRefreshCmd": "print(var_dic_list())"
    },
    "r": {
     "delete_cmd_postfix": ") ",
     "delete_cmd_prefix": "rm(",
     "library": "var_list.r",
     "varRefreshCmd": "cat(var_dic_list()) "
    }
   },
   "types_to_exclude": [
    "module",
    "function",
    "builtin_function_or_method",
    "instance",
    "_Feature"
   ],
   "window_display": false
  }
 },
 "nbformat": 4,
 "nbformat_minor": 2
}
